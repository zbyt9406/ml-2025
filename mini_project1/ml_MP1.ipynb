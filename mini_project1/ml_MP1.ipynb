{
  "nbformat": 4,
  "nbformat_minor": 0,
  "metadata": {
    "colab": {
      "provenance": [],
      "toc_visible": true
    },
    "kernelspec": {
      "name": "python3",
      "display_name": "Python 3"
    },
    "language_info": {
      "name": "python"
    }
  },
  "cells": [
    {
      "cell_type": "code",
      "execution_count": null,
      "metadata": {
        "id": "s-J3n9In22ZH",
        "colab": {
          "base_uri": "https://localhost:8080/"
        },
        "outputId": "8e2f63f8-16fd-4c3a-b472-7e75ce6d34b6"
      },
      "outputs": [
        {
          "output_type": "stream",
          "name": "stdout",
          "text": [
            "Requirement already satisfied: gdown in /usr/local/lib/python3.11/dist-packages (5.2.0)\n",
            "Requirement already satisfied: beautifulsoup4 in /usr/local/lib/python3.11/dist-packages (from gdown) (4.13.3)\n",
            "Requirement already satisfied: filelock in /usr/local/lib/python3.11/dist-packages (from gdown) (3.18.0)\n",
            "Requirement already satisfied: requests[socks] in /usr/local/lib/python3.11/dist-packages (from gdown) (2.32.3)\n",
            "Requirement already satisfied: tqdm in /usr/local/lib/python3.11/dist-packages (from gdown) (4.67.1)\n",
            "Requirement already satisfied: soupsieve>1.2 in /usr/local/lib/python3.11/dist-packages (from beautifulsoup4->gdown) (2.6)\n",
            "Requirement already satisfied: typing-extensions>=4.0.0 in /usr/local/lib/python3.11/dist-packages (from beautifulsoup4->gdown) (4.13.1)\n",
            "Requirement already satisfied: charset-normalizer<4,>=2 in /usr/local/lib/python3.11/dist-packages (from requests[socks]->gdown) (3.4.1)\n",
            "Requirement already satisfied: idna<4,>=2.5 in /usr/local/lib/python3.11/dist-packages (from requests[socks]->gdown) (3.10)\n",
            "Requirement already satisfied: urllib3<3,>=1.21.1 in /usr/local/lib/python3.11/dist-packages (from requests[socks]->gdown) (2.3.0)\n",
            "Requirement already satisfied: certifi>=2017.4.17 in /usr/local/lib/python3.11/dist-packages (from requests[socks]->gdown) (2025.1.31)\n",
            "Requirement already satisfied: PySocks!=1.5.7,>=1.5.6 in /usr/local/lib/python3.11/dist-packages (from requests[socks]->gdown) (1.7.1)\n",
            "Downloading...\n",
            "From: https://drive.google.com/uc?id=18O248Vc5mnWoB21w77NIlFYlbPDsE9tw\n",
            "To: /content/weather_prediction_dataset.csv\n",
            "100% 2.77M/2.77M [00:00<00:00, 69.1MB/s]\n"
          ]
        }
      ],
      "source": [
        "#پیش بینی آب و هوا مبنتی بر یادگیری ماشین\n",
        "\n",
        "!pip install --upgrade --no-cache-dir gdown\n",
        "!gdown 18O248Vc5mnWoB21w77NIlFYlbPDsE9tw\n",
        "\n",
        "import pandas as pd\n",
        "import numpy as np\n",
        "\n",
        "df = pd.read_csv(\"weather_prediction_dataset.csv\")"
      ]
    },
    {
      "cell_type": "code",
      "source": [
        "france_cities = [\"TOURS\"]\n",
        "\n",
        "columns_to_keep = [\"DATE\", \"MONTH\"] + [col for col in df.columns if any(city in col for city in france_cities)]\n",
        "df_france = df[columns_to_keep]\n",
        "\n",
        "df_france.to_csv(\"weather_prediction_dataset_france.csv\", index=False)\n",
        "\n",
        "print(\"Filtered dataset saved as 'weather_prediction_dataset_france.csv'\")\n",
        "\n",
        "\n"
      ],
      "metadata": {
        "colab": {
          "base_uri": "https://localhost:8080/"
        },
        "id": "-dFhrp4UXpLT",
        "outputId": "611da54d-71a9-4538-a31b-ecd09fdfd5b8"
      },
      "execution_count": null,
      "outputs": [
        {
          "output_type": "stream",
          "name": "stdout",
          "text": [
            "Filtered dataset saved as 'weather_prediction_dataset_france.csv'\n"
          ]
        }
      ]
    },
    {
      "cell_type": "code",
      "source": [
        "from google.colab import files\n",
        "\n",
        "# Download the filtered dataset\n",
        "files.download(\"weather_prediction_dataset_france.csv\")\n"
      ],
      "metadata": {
        "colab": {
          "base_uri": "https://localhost:8080/",
          "height": 17
        },
        "id": "OaH4T29wcPTr",
        "outputId": "d2711240-ed86-49fb-8b0d-d317e04bf299"
      },
      "execution_count": null,
      "outputs": [
        {
          "output_type": "display_data",
          "data": {
            "text/plain": [
              "<IPython.core.display.Javascript object>"
            ],
            "application/javascript": [
              "\n",
              "    async function download(id, filename, size) {\n",
              "      if (!google.colab.kernel.accessAllowed) {\n",
              "        return;\n",
              "      }\n",
              "      const div = document.createElement('div');\n",
              "      const label = document.createElement('label');\n",
              "      label.textContent = `Downloading \"${filename}\": `;\n",
              "      div.appendChild(label);\n",
              "      const progress = document.createElement('progress');\n",
              "      progress.max = size;\n",
              "      div.appendChild(progress);\n",
              "      document.body.appendChild(div);\n",
              "\n",
              "      const buffers = [];\n",
              "      let downloaded = 0;\n",
              "\n",
              "      const channel = await google.colab.kernel.comms.open(id);\n",
              "      // Send a message to notify the kernel that we're ready.\n",
              "      channel.send({})\n",
              "\n",
              "      for await (const message of channel.messages) {\n",
              "        // Send a message to notify the kernel that we're ready.\n",
              "        channel.send({})\n",
              "        if (message.buffers) {\n",
              "          for (const buffer of message.buffers) {\n",
              "            buffers.push(buffer);\n",
              "            downloaded += buffer.byteLength;\n",
              "            progress.value = downloaded;\n",
              "          }\n",
              "        }\n",
              "      }\n",
              "      const blob = new Blob(buffers, {type: 'application/binary'});\n",
              "      const a = document.createElement('a');\n",
              "      a.href = window.URL.createObjectURL(blob);\n",
              "      a.download = filename;\n",
              "      div.appendChild(a);\n",
              "      a.click();\n",
              "      div.remove();\n",
              "    }\n",
              "  "
            ]
          },
          "metadata": {}
        },
        {
          "output_type": "display_data",
          "data": {
            "text/plain": [
              "<IPython.core.display.Javascript object>"
            ],
            "application/javascript": [
              "download(\"download_9608d341-4598-45ce-83ef-fb918e1103f2\", \"weather_prediction_dataset_france.csv\", 183947)"
            ]
          },
          "metadata": {}
        }
      ]
    },
    {
      "cell_type": "code",
      "source": [
        "import pandas as pd\n",
        "from sklearn.preprocessing import MinMaxScaler\n",
        "import numpy as np\n",
        "\n",
        "file_path = \"weather_prediction_dataset_france.csv\"\n",
        "df = pd.read_csv(file_path)\n",
        "\n",
        "df.fillna(df.mean(), inplace=True)\n",
        "\n",
        "relevant_features = [\"DATE\", \"MONTH\", \"TOURS_temp_mean\", \"TOURS_humidity\",\n",
        "                     \"TOURS_pressure\", \"TOURS_wind_speed\"]\n",
        "df_selected = df[relevant_features]\n",
        "\n",
        "scaler = MinMaxScaler()\n",
        "df_scaled = df_selected.copy()\n",
        "df_scaled.iloc[:, 2:] = scaler.fit_transform(df_selected.iloc[:, 2:])\n",
        "\n",
        "df_scaled.to_csv(\"weather_prediction_dataset_france_final.csv\", index=False)\n",
        "\n",
        "print(\"Preprocessing completed! Saved:\")\n",
        "print(\"- 'weather_prediction_dataset_france_final.csv' (scaled data)\")"
      ],
      "metadata": {
        "colab": {
          "base_uri": "https://localhost:8080/"
        },
        "id": "U3wNRxjXVCEB",
        "outputId": "ac580f17-57f5-405a-ace7-de491754eb54"
      },
      "execution_count": null,
      "outputs": [
        {
          "output_type": "stream",
          "name": "stdout",
          "text": [
            "Preprocessing completed! Saved:\n",
            "- 'weather_prediction_dataset_france_final.csv' (scaled data)\n"
          ]
        }
      ]
    },
    {
      "cell_type": "code",
      "source": [
        "# Download the preprocessed dataset\n",
        "files.download(\"weather_prediction_dataset_france_final.csv\")\n"
      ],
      "metadata": {
        "colab": {
          "base_uri": "https://localhost:8080/",
          "height": 17
        },
        "id": "Pkw5MbFAmbpr",
        "outputId": "b1c600a1-7c62-420f-f6ae-6022cdc3fcc1"
      },
      "execution_count": null,
      "outputs": [
        {
          "output_type": "display_data",
          "data": {
            "text/plain": [
              "<IPython.core.display.Javascript object>"
            ],
            "application/javascript": [
              "\n",
              "    async function download(id, filename, size) {\n",
              "      if (!google.colab.kernel.accessAllowed) {\n",
              "        return;\n",
              "      }\n",
              "      const div = document.createElement('div');\n",
              "      const label = document.createElement('label');\n",
              "      label.textContent = `Downloading \"${filename}\": `;\n",
              "      div.appendChild(label);\n",
              "      const progress = document.createElement('progress');\n",
              "      progress.max = size;\n",
              "      div.appendChild(progress);\n",
              "      document.body.appendChild(div);\n",
              "\n",
              "      const buffers = [];\n",
              "      let downloaded = 0;\n",
              "\n",
              "      const channel = await google.colab.kernel.comms.open(id);\n",
              "      // Send a message to notify the kernel that we're ready.\n",
              "      channel.send({})\n",
              "\n",
              "      for await (const message of channel.messages) {\n",
              "        // Send a message to notify the kernel that we're ready.\n",
              "        channel.send({})\n",
              "        if (message.buffers) {\n",
              "          for (const buffer of message.buffers) {\n",
              "            buffers.push(buffer);\n",
              "            downloaded += buffer.byteLength;\n",
              "            progress.value = downloaded;\n",
              "          }\n",
              "        }\n",
              "      }\n",
              "      const blob = new Blob(buffers, {type: 'application/binary'});\n",
              "      const a = document.createElement('a');\n",
              "      a.href = window.URL.createObjectURL(blob);\n",
              "      a.download = filename;\n",
              "      div.appendChild(a);\n",
              "      a.click();\n",
              "      div.remove();\n",
              "    }\n",
              "  "
            ]
          },
          "metadata": {}
        },
        {
          "output_type": "display_data",
          "data": {
            "text/plain": [
              "<IPython.core.display.Javascript object>"
            ],
            "application/javascript": [
              "download(\"download_61ca016a-c572-45ac-bc8e-ed150b559344\", \"weather_prediction_dataset_france_final.csv\", 320642)"
            ]
          },
          "metadata": {}
        },
        {
          "output_type": "display_data",
          "data": {
            "text/plain": [
              "<IPython.core.display.Javascript object>"
            ],
            "application/javascript": [
              "\n",
              "    async function download(id, filename, size) {\n",
              "      if (!google.colab.kernel.accessAllowed) {\n",
              "        return;\n",
              "      }\n",
              "      const div = document.createElement('div');\n",
              "      const label = document.createElement('label');\n",
              "      label.textContent = `Downloading \"${filename}\": `;\n",
              "      div.appendChild(label);\n",
              "      const progress = document.createElement('progress');\n",
              "      progress.max = size;\n",
              "      div.appendChild(progress);\n",
              "      document.body.appendChild(div);\n",
              "\n",
              "      const buffers = [];\n",
              "      let downloaded = 0;\n",
              "\n",
              "      const channel = await google.colab.kernel.comms.open(id);\n",
              "      // Send a message to notify the kernel that we're ready.\n",
              "      channel.send({})\n",
              "\n",
              "      for await (const message of channel.messages) {\n",
              "        // Send a message to notify the kernel that we're ready.\n",
              "        channel.send({})\n",
              "        if (message.buffers) {\n",
              "          for (const buffer of message.buffers) {\n",
              "            buffers.push(buffer);\n",
              "            downloaded += buffer.byteLength;\n",
              "            progress.value = downloaded;\n",
              "          }\n",
              "        }\n",
              "      }\n",
              "      const blob = new Blob(buffers, {type: 'application/binary'});\n",
              "      const a = document.createElement('a');\n",
              "      a.href = window.URL.createObjectURL(blob);\n",
              "      a.download = filename;\n",
              "      div.appendChild(a);\n",
              "      a.click();\n",
              "      div.remove();\n",
              "    }\n",
              "  "
            ]
          },
          "metadata": {}
        },
        {
          "output_type": "display_data",
          "data": {
            "text/plain": [
              "<IPython.core.display.Javascript object>"
            ],
            "application/javascript": [
              "download(\"download_9536eee9-1802-4c4f-90cc-4bc74f45168d\", \"sliding_window_data.csv\", 1730206)"
            ]
          },
          "metadata": {}
        }
      ]
    },
    {
      "cell_type": "code",
      "source": [
        "import pandas as pd\n",
        "import numpy as np\n",
        "from sklearn.preprocessing import MinMaxScaler\n",
        "\n",
        "file_path = \"weather_prediction_dataset_france_final.csv\"\n",
        "df = pd.read_csv(file_path)\n",
        "\n",
        "df['DATE'] = pd.to_datetime(df['DATE'], format='%Y%m%d')\n",
        "\n",
        "test_data = df[df['DATE'].dt.year == 2009]\n",
        "train_data = df[df['DATE'].dt.year != 2009]\n",
        "\n",
        "train_data = train_data.drop(columns=['DATE', 'MONTH'])\n",
        "test_data = test_data.drop(columns=['DATE', 'MONTH'])\n",
        "\n",
        "X_train, Y_train = train_data.iloc[:, :-1], train_data.iloc[:, -1]\n",
        "X_test, Y_test = test_data.iloc[:, :-1], test_data.iloc[:, -1]\n",
        "\n",
        "scaler_X = MinMaxScaler()\n",
        "X_train_scaled = scaler_X.fit_transform(X_train)\n",
        "X_test_scaled = scaler_X.transform(X_test)\n",
        "\n",
        "scaler_Y = MinMaxScaler()\n",
        "Y_train_scaled = scaler_Y.fit_transform(Y_train.values.reshape(-1, 1))\n",
        "Y_test_scaled = scaler_Y.transform(Y_test.values.reshape(-1, 1))\n",
        "\n",
        "def create_sliding_window(data_X, data_Y, window_size, overlap):\n",
        "    step = window_size - overlap\n",
        "    X, Y = [], []\n",
        "    for i in range(0, len(data_X) - window_size + 1, step):\n",
        "        X.append(data_X[i:i+window_size, :])\n",
        "        Y.append(data_Y[i+window_size-1, :])\n",
        "    return np.array(X), np.array(Y)\n",
        "\n",
        "window_size = 5\n",
        "overlap = 4\n",
        "\n",
        "Y_test_scaled = np.clip(Y_test_scaled, 0, 1)\n",
        "\n",
        "X_train_windowed, Y_train_windowed = create_sliding_window(X_train_scaled, Y_train_scaled, window_size, overlap)\n",
        "X_test_windowed, Y_test_windowed = create_sliding_window(X_test_scaled, Y_test_scaled, window_size, overlap)\n",
        "\n",
        "np.save(\"X_train.npy\", X_train_windowed)\n",
        "np.save(\"Y_train.npy\", Y_train_windowed)\n",
        "np.save(\"X_test.npy\", X_test_windowed)\n",
        "np.save(\"Y_test.npy\", Y_test_windowed)\n",
        "\n",
        "print(\"🚀 Sliding window train/test data created successfully!\")\n"
      ],
      "metadata": {
        "id": "r1i85Ypq49qS",
        "colab": {
          "base_uri": "https://localhost:8080/"
        },
        "outputId": "d539a711-2853-4110-c7ab-6923a1db6518"
      },
      "execution_count": null,
      "outputs": [
        {
          "output_type": "stream",
          "name": "stdout",
          "text": [
            "🚀 Sliding window train/test data created successfully!\n"
          ]
        }
      ]
    },
    {
      "cell_type": "code",
      "source": [
        "print(\"X_train shape:\", X_train_windowed.shape)\n",
        "print(\"Y_train shape:\", Y_train_windowed.shape)\n",
        "print(\"X_test shape:\", X_test_windowed.shape)\n",
        "print(\"Y_test shape:\", Y_test_windowed.shape)"
      ],
      "metadata": {
        "id": "nflgkHmP9UDg",
        "colab": {
          "base_uri": "https://localhost:8080/"
        },
        "outputId": "9a7d43d4-b715-40d8-ea48-098e0c445a67"
      },
      "execution_count": null,
      "outputs": [
        {
          "output_type": "stream",
          "name": "stdout",
          "text": [
            "X_train shape: (3285, 5, 3)\n",
            "Y_train shape: (3285, 1)\n",
            "X_test shape: (361, 5, 3)\n",
            "Y_test shape: (361, 1)\n"
          ]
        }
      ]
    },
    {
      "cell_type": "code",
      "source": [
        "#MLR\n",
        "\n",
        "from sklearn.linear_model import LinearRegression\n",
        "from sklearn.metrics import mean_squared_error, mean_absolute_error\n",
        "\n",
        "X_train = np.load(\"X_train.npy\")\n",
        "Y_train = np.load(\"Y_train.npy\")\n",
        "X_test = np.load(\"X_test.npy\")\n",
        "Y_test = np.load(\"Y_test.npy\")\n",
        "\n",
        "X_train = X_train.reshape(X_train.shape[0], -1)\n",
        "X_test = X_test.reshape(X_test.shape[0], -1)\n",
        "\n",
        "mlr = LinearRegression()\n",
        "mlr.fit(X_train, Y_train)\n",
        "\n",
        "Y_pred_train = np.clip(mlr.predict(X_train), 0, 1)\n",
        "Y_pred_test = np.clip(mlr.predict(X_test), 0, 1)\n",
        "\n",
        "Y_train_pred_inv = scaler_Y.inverse_transform(Y_pred_train)\n",
        "Y_test_pred_inv = scaler_Y.inverse_transform(Y_pred_test)\n",
        "Y_train_actual_inv = scaler_Y.inverse_transform(Y_train)\n",
        "Y_test_actual_inv = scaler_Y.inverse_transform(Y_test)\n",
        "\n",
        "train_rmse = np.sqrt(mean_squared_error(Y_train_actual_inv, Y_train_pred_inv))\n",
        "test_rmse = np.sqrt(mean_squared_error(Y_test_actual_inv, Y_test_pred_inv))\n",
        "train_mae = mean_absolute_error(Y_train_actual_inv, Y_train_pred_inv)\n",
        "test_mae = mean_absolute_error(Y_test_actual_inv, Y_test_pred_inv)\n",
        "train_mse = mean_squared_error(Y_train_actual_inv, Y_train_pred_inv)\n",
        "test_mse = mean_squared_error(Y_test_actual_inv, Y_test_pred_inv)\n",
        "\n",
        "print(f\"Train RMSE: {train_rmse:.4f}, Test RMSE: {test_rmse:.4f}\")\n",
        "print(f\"Train MAE: {train_mae:.4f}, Test MAE: {test_mae:.4f}\")\n",
        "print(f\"Train MSE: {train_mse:.4f}, Test MSE: {test_mse:.4f}\")"
      ],
      "metadata": {
        "id": "FYfrKBHeXL0c",
        "colab": {
          "base_uri": "https://localhost:8080/"
        },
        "outputId": "831c3fb7-a4b8-478b-d46a-b244b74a6128"
      },
      "execution_count": null,
      "outputs": [
        {
          "output_type": "stream",
          "name": "stdout",
          "text": [
            "Train RMSE: 0.1459, Test RMSE: 0.1402\n",
            "Train MAE: 0.1162, Test MAE: 0.1150\n",
            "Train MSE: 0.0213, Test MSE: 0.0197\n"
          ]
        }
      ]
    },
    {
      "cell_type": "code",
      "source": [
        "#MPR\n",
        "\n",
        "from sklearn.preprocessing import MinMaxScaler, PolynomialFeatures\n",
        "from sklearn.linear_model import Ridge\n",
        "from sklearn.metrics import mean_squared_error, mean_absolute_error\n",
        "\n",
        "X_train = np.load(\"X_train.npy\")\n",
        "Y_train = np.load(\"Y_train.npy\")\n",
        "X_test = np.load(\"X_test.npy\")\n",
        "Y_test = np.load(\"Y_test.npy\")\n",
        "\n",
        "X_train = X_train.reshape(X_train.shape[0], -1)\n",
        "X_test = X_test.reshape(X_test.shape[0], -1)\n",
        "\n",
        "def train_polynomial_regression(X_train, Y_train, X_test, scaler_Y, degree=2, alpha=5):\n",
        "    poly = PolynomialFeatures(degree=degree, interaction_only=False)\n",
        "    X_train_poly = poly.fit_transform(X_train)\n",
        "    X_test_poly = poly.transform(X_test)\n",
        "\n",
        "    scaler_X = MinMaxScaler()\n",
        "    X_train_poly = scaler_X.fit_transform(X_train_poly)\n",
        "    X_test_poly = scaler_X.transform(X_test_poly)\n",
        "\n",
        "    model = Ridge(alpha=alpha)\n",
        "    model.fit(X_train_poly, Y_train)\n",
        "\n",
        "    Y_train_pred = scaler_Y.inverse_transform(model.predict(X_train_poly).reshape(-1, 1))\n",
        "    Y_test_pred = scaler_Y.inverse_transform(model.predict(X_test_poly).reshape(-1, 1))\n",
        "\n",
        "    return model, Y_train_pred, Y_test_pred\n",
        "\n",
        "\n",
        "mpr_model, Y_train_pred_inv, Y_test_pred_inv = train_polynomial_regression(\n",
        "    X_train, Y_train, X_test, scaler_Y, degree=2, alpha=5)\n",
        "\n",
        "Y_train_actual_inv = scaler_Y.inverse_transform(Y_train_windowed.reshape(-1, 1))\n",
        "Y_test_actual_inv = scaler_Y.inverse_transform(Y_test_windowed.reshape(-1, 1))\n",
        "\n",
        "\n",
        "train_rmse = np.sqrt(mean_squared_error(Y_train_actual_inv, Y_train_pred_inv))\n",
        "test_rmse = np.sqrt(mean_squared_error(Y_test_actual_inv, Y_test_pred_inv))\n",
        "train_mae = mean_absolute_error(Y_train_actual_inv, Y_train_pred_inv)\n",
        "test_mae = mean_absolute_error(Y_test_actual_inv, Y_test_pred_inv)\n",
        "train_mse = mean_squared_error(Y_train_actual_inv, Y_train_pred_inv)\n",
        "test_mse = mean_squared_error(Y_test_actual_inv, Y_test_pred_inv)\n",
        "\n",
        "print(f\"Train RMSE: {train_rmse:.4f}, Test RMSE: {test_rmse:.4f}\")\n",
        "print(f\"Train MAE: {train_mae:.4f}, Test MAE: {test_mae:.4f}\")\n",
        "print(f\"Train MSE: {train_mse:.4f}, Test MSE: {test_mse:.4f}\")\n",
        "\n"
      ],
      "metadata": {
        "id": "vth-9cvh3pq7",
        "colab": {
          "base_uri": "https://localhost:8080/"
        },
        "outputId": "9ebcc48a-9905-4eff-bc4f-3437a0ba86d4"
      },
      "execution_count": null,
      "outputs": [
        {
          "output_type": "stream",
          "name": "stdout",
          "text": [
            "Train RMSE: 0.1426, Test RMSE: 0.1357\n",
            "Train MAE: 0.1142, Test MAE: 0.1105\n",
            "Train MSE: 0.0203, Test MSE: 0.0184\n"
          ]
        }
      ]
    },
    {
      "cell_type": "code",
      "source": [
        "#KNN\n",
        "from sklearn.neighbors import KNeighborsRegressor\n",
        "\n",
        "X_train = np.load(\"X_train.npy\")\n",
        "Y_train = np.load(\"Y_train.npy\")\n",
        "X_test = np.load(\"X_test.npy\")\n",
        "Y_test = np.load(\"Y_test.npy\")\n",
        "\n",
        "X_train = X_train.reshape(X_train.shape[0], -1)\n",
        "X_test = X_test.reshape(X_test.shape[0], -1)\n",
        "\n",
        "scaler_Y = MinMaxScaler()\n",
        "Y_train = scaler_Y.fit_transform(Y_train)\n",
        "Y_test = scaler_Y.transform(Y_test)\n",
        "\n",
        "def train_knn(X_train, Y_train, X_test, scaler_Y, n_neighbors=5):\n",
        "    knn = KNeighborsRegressor(n_neighbors=n_neighbors)\n",
        "    knn.fit(X_train, Y_train.ravel())\n",
        "\n",
        "    Y_train_pred = scaler_Y.inverse_transform(knn.predict(X_train).reshape(-1, 1))\n",
        "    Y_test_pred = scaler_Y.inverse_transform(knn.predict(X_test).reshape(-1, 1))\n",
        "\n",
        "    return knn, Y_train_pred, Y_test_pred\n",
        "\n",
        "knn_model, Y_train_pred_inv, Y_test_pred_inv = train_knn(X_train, Y_train, X_test, scaler_Y, n_neighbors=5)\n",
        "\n",
        "Y_train_actual_inv = scaler_Y.inverse_transform(Y_train)\n",
        "Y_test_actual_inv = scaler_Y.inverse_transform(Y_test)\n",
        "\n",
        "train_rmse = np.sqrt(mean_squared_error(Y_train_actual_inv, Y_train_pred_inv))\n",
        "test_rmse = np.sqrt(mean_squared_error(Y_test_actual_inv, Y_test_pred_inv))\n",
        "train_mae = mean_absolute_error(Y_train_actual_inv, Y_train_pred_inv)\n",
        "test_mae = mean_absolute_error(Y_test_actual_inv, Y_test_pred_inv)\n",
        "train_mse = mean_squared_error(Y_train_actual_inv, Y_train_pred_inv)\n",
        "test_mse = mean_squared_error(Y_test_actual_inv, Y_test_pred_inv)\n",
        "\n",
        "print(f\"KNN Train RMSE: {train_rmse:.4f}, Test RMSE: {test_rmse:.4f}\")\n",
        "print(f\"KNN Train MAE: {train_mae:.4f}, Test MAE: {test_mae:.4f}\")\n",
        "print(f\"KNN Train MSE: {train_mse:.4f}, Test MSE: {test_mse:.4f}\")\n",
        "\n"
      ],
      "metadata": {
        "id": "7BSPt_5m0X7e",
        "colab": {
          "base_uri": "https://localhost:8080/"
        },
        "outputId": "5360c9f7-62cc-462f-ffb1-9c0a2e9230ce"
      },
      "execution_count": null,
      "outputs": [
        {
          "output_type": "stream",
          "name": "stdout",
          "text": [
            "KNN Train RMSE: 0.1256, Test RMSE: 0.1452\n",
            "KNN Train MAE: 0.0993, Test MAE: 0.1175\n",
            "KNN Train MSE: 0.0158, Test MSE: 0.0211\n"
          ]
        }
      ]
    },
    {
      "cell_type": "code",
      "source": [
        "# MLP\n",
        "\n",
        "from tensorflow import keras\n",
        "\n",
        "X_train = np.load(\"X_train.npy\")\n",
        "Y_train = np.load(\"Y_train.npy\")\n",
        "X_test = np.load(\"X_test.npy\")\n",
        "Y_test = np.load(\"Y_test.npy\")\n",
        "\n",
        "X_train = X_train.reshape(X_train.shape[0], -1)\n",
        "X_test = X_test.reshape(X_test.shape[0], -1)\n",
        "\n",
        "def train_mlp(X_train, Y_train, X_test, scaler_Y, epochs=100, batch_size=32):\n",
        "    input_dim = X_train.shape[1]\n",
        "\n",
        "    model = keras.Sequential([\n",
        "        keras.layers.Input(shape=(input_dim,)),\n",
        "        keras.layers.Dense(128, activation='relu'),\n",
        "        keras.layers.Dense(64, activation='relu'),\n",
        "        keras.layers.Dense(32, activation='relu'),\n",
        "        keras.layers.Dense(1, activation='linear')\n",
        "    ])\n",
        "\n",
        "    model.compile(optimizer=keras.optimizers.Adam(learning_rate=0.001),\n",
        "                  loss='mse',\n",
        "                  metrics=['mae'])\n",
        "\n",
        "    model.fit(X_train, Y_train, epochs=epochs, batch_size=batch_size, verbose=1, validation_split=0.1)\n",
        "\n",
        "    Y_train_pred = scaler_Y.inverse_transform(model.predict(X_train).reshape(-1, 1))\n",
        "    Y_test_pred = scaler_Y.inverse_transform(model.predict(X_test).reshape(-1, 1))\n",
        "\n",
        "    return model, Y_train_pred, Y_test_pred\n",
        "\n",
        "mlp_model, Y_train_pred_inv, Y_test_pred_inv = train_mlp(\n",
        "    X_train, Y_train, X_test, scaler_Y, epochs=100, batch_size=32)\n",
        "\n",
        "Y_train_actual_inv = scaler_Y.inverse_transform(Y_train.reshape(-1, 1))\n",
        "Y_test_actual_inv = scaler_Y.inverse_transform(Y_test.reshape(-1, 1))\n",
        "\n",
        "train_rmse = np.sqrt(mean_squared_error(Y_train_actual_inv, Y_train_pred_inv))\n",
        "test_rmse = np.sqrt(mean_squared_error(Y_test_actual_inv, Y_test_pred_inv))\n",
        "train_mae = mean_absolute_error(Y_train_actual_inv, Y_train_pred_inv)\n",
        "test_mae = mean_absolute_error(Y_test_actual_inv, Y_test_pred_inv)\n",
        "train_mse = mean_squared_error(Y_train_actual_inv, Y_train_pred_inv)\n",
        "test_mse = mean_squared_error(Y_test_actual_inv, Y_test_pred_inv)\n",
        "\n",
        "print(f\"MLP Train RMSE: {train_rmse:.4f}, Test RMSE: {test_rmse:.4f}\")\n",
        "print(f\"MLP Train MAE: {train_mae:.4f}, Test MAE: {test_mae:.4f}\")\n",
        "print(f\"MLP Train MSE: {train_mse:.4f}, Test MSE: {test_mse:.4f}\")\n",
        "\n"
      ],
      "metadata": {
        "colab": {
          "base_uri": "https://localhost:8080/"
        },
        "id": "yqfyrqTmq4Gp",
        "outputId": "29a57cbd-f3cb-43fa-e41c-833d46c6129e"
      },
      "execution_count": null,
      "outputs": [
        {
          "output_type": "stream",
          "name": "stdout",
          "text": [
            "Epoch 1/100\n",
            "\u001b[1m93/93\u001b[0m \u001b[32m━━━━━━━━━━━━━━━━━━━━\u001b[0m\u001b[37m\u001b[0m \u001b[1m2s\u001b[0m 5ms/step - loss: 0.0259 - mae: 0.1287 - val_loss: 0.0270 - val_mae: 0.1348\n",
            "Epoch 2/100\n",
            "\u001b[1m93/93\u001b[0m \u001b[32m━━━━━━━━━━━━━━━━━━━━\u001b[0m\u001b[37m\u001b[0m \u001b[1m0s\u001b[0m 3ms/step - loss: 0.0226 - mae: 0.1203 - val_loss: 0.0214 - val_mae: 0.1125\n",
            "Epoch 3/100\n",
            "\u001b[1m93/93\u001b[0m \u001b[32m━━━━━━━━━━━━━━━━━━━━\u001b[0m\u001b[37m\u001b[0m \u001b[1m0s\u001b[0m 3ms/step - loss: 0.0233 - mae: 0.1218 - val_loss: 0.0213 - val_mae: 0.1123\n",
            "Epoch 4/100\n",
            "\u001b[1m93/93\u001b[0m \u001b[32m━━━━━━━━━━━━━━━━━━━━\u001b[0m\u001b[37m\u001b[0m \u001b[1m0s\u001b[0m 3ms/step - loss: 0.0228 - mae: 0.1210 - val_loss: 0.0233 - val_mae: 0.1218\n",
            "Epoch 5/100\n",
            "\u001b[1m93/93\u001b[0m \u001b[32m━━━━━━━━━━━━━━━━━━━━\u001b[0m\u001b[37m\u001b[0m \u001b[1m0s\u001b[0m 3ms/step - loss: 0.0226 - mae: 0.1195 - val_loss: 0.0225 - val_mae: 0.1184\n",
            "Epoch 6/100\n",
            "\u001b[1m93/93\u001b[0m \u001b[32m━━━━━━━━━━━━━━━━━━━━\u001b[0m\u001b[37m\u001b[0m \u001b[1m1s\u001b[0m 3ms/step - loss: 0.0211 - mae: 0.1164 - val_loss: 0.0243 - val_mae: 0.1252\n",
            "Epoch 7/100\n",
            "\u001b[1m93/93\u001b[0m \u001b[32m━━━━━━━━━━━━━━━━━━━━\u001b[0m\u001b[37m\u001b[0m \u001b[1m0s\u001b[0m 3ms/step - loss: 0.0228 - mae: 0.1201 - val_loss: 0.0228 - val_mae: 0.1201\n",
            "Epoch 8/100\n",
            "\u001b[1m93/93\u001b[0m \u001b[32m━━━━━━━━━━━━━━━━━━━━\u001b[0m\u001b[37m\u001b[0m \u001b[1m0s\u001b[0m 3ms/step - loss: 0.0237 - mae: 0.1230 - val_loss: 0.0210 - val_mae: 0.1113\n",
            "Epoch 9/100\n",
            "\u001b[1m93/93\u001b[0m \u001b[32m━━━━━━━━━━━━━━━━━━━━\u001b[0m\u001b[37m\u001b[0m \u001b[1m0s\u001b[0m 3ms/step - loss: 0.0213 - mae: 0.1170 - val_loss: 0.0234 - val_mae: 0.1223\n",
            "Epoch 10/100\n",
            "\u001b[1m93/93\u001b[0m \u001b[32m━━━━━━━━━━━━━━━━━━━━\u001b[0m\u001b[37m\u001b[0m \u001b[1m0s\u001b[0m 3ms/step - loss: 0.0210 - mae: 0.1172 - val_loss: 0.0252 - val_mae: 0.1277\n",
            "Epoch 11/100\n",
            "\u001b[1m93/93\u001b[0m \u001b[32m━━━━━━━━━━━━━━━━━━━━\u001b[0m\u001b[37m\u001b[0m \u001b[1m1s\u001b[0m 3ms/step - loss: 0.0223 - mae: 0.1208 - val_loss: 0.0237 - val_mae: 0.1218\n",
            "Epoch 12/100\n",
            "\u001b[1m93/93\u001b[0m \u001b[32m━━━━━━━━━━━━━━━━━━━━\u001b[0m\u001b[37m\u001b[0m \u001b[1m0s\u001b[0m 3ms/step - loss: 0.0214 - mae: 0.1182 - val_loss: 0.0211 - val_mae: 0.1125\n",
            "Epoch 13/100\n",
            "\u001b[1m93/93\u001b[0m \u001b[32m━━━━━━━━━━━━━━━━━━━━\u001b[0m\u001b[37m\u001b[0m \u001b[1m0s\u001b[0m 3ms/step - loss: 0.0223 - mae: 0.1209 - val_loss: 0.0229 - val_mae: 0.1199\n",
            "Epoch 14/100\n",
            "\u001b[1m93/93\u001b[0m \u001b[32m━━━━━━━━━━━━━━━━━━━━\u001b[0m\u001b[37m\u001b[0m \u001b[1m0s\u001b[0m 3ms/step - loss: 0.0216 - mae: 0.1187 - val_loss: 0.0211 - val_mae: 0.1126\n",
            "Epoch 15/100\n",
            "\u001b[1m93/93\u001b[0m \u001b[32m━━━━━━━━━━━━━━━━━━━━\u001b[0m\u001b[37m\u001b[0m \u001b[1m0s\u001b[0m 3ms/step - loss: 0.0220 - mae: 0.1190 - val_loss: 0.0248 - val_mae: 0.1276\n",
            "Epoch 16/100\n",
            "\u001b[1m93/93\u001b[0m \u001b[32m━━━━━━━━━━━━━━━━━━━━\u001b[0m\u001b[37m\u001b[0m \u001b[1m0s\u001b[0m 3ms/step - loss: 0.0217 - mae: 0.1171 - val_loss: 0.0222 - val_mae: 0.1176\n",
            "Epoch 17/100\n",
            "\u001b[1m93/93\u001b[0m \u001b[32m━━━━━━━━━━━━━━━━━━━━\u001b[0m\u001b[37m\u001b[0m \u001b[1m1s\u001b[0m 4ms/step - loss: 0.0207 - mae: 0.1154 - val_loss: 0.0219 - val_mae: 0.1145\n",
            "Epoch 18/100\n",
            "\u001b[1m93/93\u001b[0m \u001b[32m━━━━━━━━━━━━━━━━━━━━\u001b[0m\u001b[37m\u001b[0m \u001b[1m1s\u001b[0m 4ms/step - loss: 0.0207 - mae: 0.1168 - val_loss: 0.0244 - val_mae: 0.1263\n",
            "Epoch 19/100\n",
            "\u001b[1m93/93\u001b[0m \u001b[32m━━━━━━━━━━━━━━━━━━━━\u001b[0m\u001b[37m\u001b[0m \u001b[1m0s\u001b[0m 4ms/step - loss: 0.0207 - mae: 0.1147 - val_loss: 0.0218 - val_mae: 0.1155\n",
            "Epoch 20/100\n",
            "\u001b[1m93/93\u001b[0m \u001b[32m━━━━━━━━━━━━━━━━━━━━\u001b[0m\u001b[37m\u001b[0m \u001b[1m0s\u001b[0m 3ms/step - loss: 0.0212 - mae: 0.1168 - val_loss: 0.0210 - val_mae: 0.1129\n",
            "Epoch 21/100\n",
            "\u001b[1m93/93\u001b[0m \u001b[32m━━━━━━━━━━━━━━━━━━━━\u001b[0m\u001b[37m\u001b[0m \u001b[1m0s\u001b[0m 3ms/step - loss: 0.0208 - mae: 0.1164 - val_loss: 0.0208 - val_mae: 0.1104\n",
            "Epoch 22/100\n",
            "\u001b[1m93/93\u001b[0m \u001b[32m━━━━━━━━━━━━━━━━━━━━\u001b[0m\u001b[37m\u001b[0m \u001b[1m0s\u001b[0m 3ms/step - loss: 0.0200 - mae: 0.1132 - val_loss: 0.0217 - val_mae: 0.1158\n",
            "Epoch 23/100\n",
            "\u001b[1m93/93\u001b[0m \u001b[32m━━━━━━━━━━━━━━━━━━━━\u001b[0m\u001b[37m\u001b[0m \u001b[1m0s\u001b[0m 3ms/step - loss: 0.0202 - mae: 0.1140 - val_loss: 0.0243 - val_mae: 0.1242\n",
            "Epoch 24/100\n",
            "\u001b[1m93/93\u001b[0m \u001b[32m━━━━━━━━━━━━━━━━━━━━\u001b[0m\u001b[37m\u001b[0m \u001b[1m0s\u001b[0m 3ms/step - loss: 0.0203 - mae: 0.1149 - val_loss: 0.0261 - val_mae: 0.1299\n",
            "Epoch 25/100\n",
            "\u001b[1m93/93\u001b[0m \u001b[32m━━━━━━━━━━━━━━━━━━━━\u001b[0m\u001b[37m\u001b[0m \u001b[1m0s\u001b[0m 3ms/step - loss: 0.0207 - mae: 0.1155 - val_loss: 0.0231 - val_mae: 0.1205\n",
            "Epoch 26/100\n",
            "\u001b[1m93/93\u001b[0m \u001b[32m━━━━━━━━━━━━━━━━━━━━\u001b[0m\u001b[37m\u001b[0m \u001b[1m0s\u001b[0m 3ms/step - loss: 0.0198 - mae: 0.1134 - val_loss: 0.0247 - val_mae: 0.1255\n",
            "Epoch 27/100\n",
            "\u001b[1m93/93\u001b[0m \u001b[32m━━━━━━━━━━━━━━━━━━━━\u001b[0m\u001b[37m\u001b[0m \u001b[1m0s\u001b[0m 3ms/step - loss: 0.0207 - mae: 0.1161 - val_loss: 0.0231 - val_mae: 0.1209\n",
            "Epoch 28/100\n",
            "\u001b[1m93/93\u001b[0m \u001b[32m━━━━━━━━━━━━━━━━━━━━\u001b[0m\u001b[37m\u001b[0m \u001b[1m0s\u001b[0m 3ms/step - loss: 0.0203 - mae: 0.1144 - val_loss: 0.0217 - val_mae: 0.1163\n",
            "Epoch 29/100\n",
            "\u001b[1m93/93\u001b[0m \u001b[32m━━━━━━━━━━━━━━━━━━━━\u001b[0m\u001b[37m\u001b[0m \u001b[1m0s\u001b[0m 3ms/step - loss: 0.0211 - mae: 0.1162 - val_loss: 0.0232 - val_mae: 0.1197\n",
            "Epoch 30/100\n",
            "\u001b[1m93/93\u001b[0m \u001b[32m━━━━━━━━━━━━━━━━━━━━\u001b[0m\u001b[37m\u001b[0m \u001b[1m0s\u001b[0m 3ms/step - loss: 0.0204 - mae: 0.1141 - val_loss: 0.0212 - val_mae: 0.1136\n",
            "Epoch 31/100\n",
            "\u001b[1m93/93\u001b[0m \u001b[32m━━━━━━━━━━━━━━━━━━━━\u001b[0m\u001b[37m\u001b[0m \u001b[1m0s\u001b[0m 3ms/step - loss: 0.0205 - mae: 0.1142 - val_loss: 0.0259 - val_mae: 0.1268\n",
            "Epoch 32/100\n",
            "\u001b[1m93/93\u001b[0m \u001b[32m━━━━━━━━━━━━━━━━━━━━\u001b[0m\u001b[37m\u001b[0m \u001b[1m0s\u001b[0m 3ms/step - loss: 0.0207 - mae: 0.1150 - val_loss: 0.0233 - val_mae: 0.1214\n",
            "Epoch 33/100\n",
            "\u001b[1m93/93\u001b[0m \u001b[32m━━━━━━━━━━━━━━━━━━━━\u001b[0m\u001b[37m\u001b[0m \u001b[1m0s\u001b[0m 3ms/step - loss: 0.0202 - mae: 0.1137 - val_loss: 0.0219 - val_mae: 0.1169\n",
            "Epoch 34/100\n",
            "\u001b[1m93/93\u001b[0m \u001b[32m━━━━━━━━━━━━━━━━━━━━\u001b[0m\u001b[37m\u001b[0m \u001b[1m1s\u001b[0m 3ms/step - loss: 0.0201 - mae: 0.1137 - val_loss: 0.0253 - val_mae: 0.1284\n",
            "Epoch 35/100\n",
            "\u001b[1m93/93\u001b[0m \u001b[32m━━━━━━━━━━━━━━━━━━━━\u001b[0m\u001b[37m\u001b[0m \u001b[1m0s\u001b[0m 3ms/step - loss: 0.0200 - mae: 0.1143 - val_loss: 0.0213 - val_mae: 0.1131\n",
            "Epoch 36/100\n",
            "\u001b[1m93/93\u001b[0m \u001b[32m━━━━━━━━━━━━━━━━━━━━\u001b[0m\u001b[37m\u001b[0m \u001b[1m0s\u001b[0m 3ms/step - loss: 0.0199 - mae: 0.1128 - val_loss: 0.0231 - val_mae: 0.1205\n",
            "Epoch 37/100\n",
            "\u001b[1m93/93\u001b[0m \u001b[32m━━━━━━━━━━━━━━━━━━━━\u001b[0m\u001b[37m\u001b[0m \u001b[1m0s\u001b[0m 3ms/step - loss: 0.0196 - mae: 0.1121 - val_loss: 0.0217 - val_mae: 0.1144\n",
            "Epoch 38/100\n",
            "\u001b[1m93/93\u001b[0m \u001b[32m━━━━━━━━━━━━━━━━━━━━\u001b[0m\u001b[37m\u001b[0m \u001b[1m1s\u001b[0m 3ms/step - loss: 0.0201 - mae: 0.1132 - val_loss: 0.0240 - val_mae: 0.1229\n",
            "Epoch 39/100\n",
            "\u001b[1m93/93\u001b[0m \u001b[32m━━━━━━━━━━━━━━━━━━━━\u001b[0m\u001b[37m\u001b[0m \u001b[1m0s\u001b[0m 3ms/step - loss: 0.0211 - mae: 0.1168 - val_loss: 0.0239 - val_mae: 0.1214\n",
            "Epoch 40/100\n",
            "\u001b[1m93/93\u001b[0m \u001b[32m━━━━━━━━━━━━━━━━━━━━\u001b[0m\u001b[37m\u001b[0m \u001b[1m0s\u001b[0m 3ms/step - loss: 0.0197 - mae: 0.1127 - val_loss: 0.0222 - val_mae: 0.1164\n",
            "Epoch 41/100\n",
            "\u001b[1m93/93\u001b[0m \u001b[32m━━━━━━━━━━━━━━━━━━━━\u001b[0m\u001b[37m\u001b[0m \u001b[1m0s\u001b[0m 3ms/step - loss: 0.0208 - mae: 0.1157 - val_loss: 0.0209 - val_mae: 0.1111\n",
            "Epoch 42/100\n",
            "\u001b[1m93/93\u001b[0m \u001b[32m━━━━━━━━━━━━━━━━━━━━\u001b[0m\u001b[37m\u001b[0m \u001b[1m0s\u001b[0m 3ms/step - loss: 0.0198 - mae: 0.1131 - val_loss: 0.0246 - val_mae: 0.1256\n",
            "Epoch 43/100\n",
            "\u001b[1m93/93\u001b[0m \u001b[32m━━━━━━━━━━━━━━━━━━━━\u001b[0m\u001b[37m\u001b[0m \u001b[1m0s\u001b[0m 3ms/step - loss: 0.0195 - mae: 0.1119 - val_loss: 0.0260 - val_mae: 0.1275\n",
            "Epoch 44/100\n",
            "\u001b[1m93/93\u001b[0m \u001b[32m━━━━━━━━━━━━━━━━━━━━\u001b[0m\u001b[37m\u001b[0m \u001b[1m0s\u001b[0m 3ms/step - loss: 0.0198 - mae: 0.1137 - val_loss: 0.0230 - val_mae: 0.1195\n",
            "Epoch 45/100\n",
            "\u001b[1m93/93\u001b[0m \u001b[32m━━━━━━━━━━━━━━━━━━━━\u001b[0m\u001b[37m\u001b[0m \u001b[1m1s\u001b[0m 3ms/step - loss: 0.0201 - mae: 0.1132 - val_loss: 0.0235 - val_mae: 0.1219\n",
            "Epoch 46/100\n",
            "\u001b[1m93/93\u001b[0m \u001b[32m━━━━━━━━━━━━━━━━━━━━\u001b[0m\u001b[37m\u001b[0m \u001b[1m0s\u001b[0m 3ms/step - loss: 0.0201 - mae: 0.1134 - val_loss: 0.0260 - val_mae: 0.1281\n",
            "Epoch 47/100\n",
            "\u001b[1m93/93\u001b[0m \u001b[32m━━━━━━━━━━━━━━━━━━━━\u001b[0m\u001b[37m\u001b[0m \u001b[1m0s\u001b[0m 3ms/step - loss: 0.0200 - mae: 0.1122 - val_loss: 0.0209 - val_mae: 0.1117\n",
            "Epoch 48/100\n",
            "\u001b[1m93/93\u001b[0m \u001b[32m━━━━━━━━━━━━━━━━━━━━\u001b[0m\u001b[37m\u001b[0m \u001b[1m0s\u001b[0m 3ms/step - loss: 0.0199 - mae: 0.1129 - val_loss: 0.0223 - val_mae: 0.1174\n",
            "Epoch 49/100\n",
            "\u001b[1m93/93\u001b[0m \u001b[32m━━━━━━━━━━━━━━━━━━━━\u001b[0m\u001b[37m\u001b[0m \u001b[1m1s\u001b[0m 4ms/step - loss: 0.0192 - mae: 0.1113 - val_loss: 0.0215 - val_mae: 0.1141\n",
            "Epoch 50/100\n",
            "\u001b[1m93/93\u001b[0m \u001b[32m━━━━━━━━━━━━━━━━━━━━\u001b[0m\u001b[37m\u001b[0m \u001b[1m1s\u001b[0m 4ms/step - loss: 0.0197 - mae: 0.1126 - val_loss: 0.0216 - val_mae: 0.1155\n",
            "Epoch 51/100\n",
            "\u001b[1m93/93\u001b[0m \u001b[32m━━━━━━━━━━━━━━━━━━━━\u001b[0m\u001b[37m\u001b[0m \u001b[1m1s\u001b[0m 4ms/step - loss: 0.0205 - mae: 0.1145 - val_loss: 0.0250 - val_mae: 0.1248\n",
            "Epoch 52/100\n",
            "\u001b[1m93/93\u001b[0m \u001b[32m━━━━━━━━━━━━━━━━━━━━\u001b[0m\u001b[37m\u001b[0m \u001b[1m1s\u001b[0m 4ms/step - loss: 0.0203 - mae: 0.1139 - val_loss: 0.0238 - val_mae: 0.1214\n",
            "Epoch 53/100\n",
            "\u001b[1m93/93\u001b[0m \u001b[32m━━━━━━━━━━━━━━━━━━━━\u001b[0m\u001b[37m\u001b[0m \u001b[1m0s\u001b[0m 3ms/step - loss: 0.0193 - mae: 0.1111 - val_loss: 0.0235 - val_mae: 0.1212\n",
            "Epoch 54/100\n",
            "\u001b[1m93/93\u001b[0m \u001b[32m━━━━━━━━━━━━━━━━━━━━\u001b[0m\u001b[37m\u001b[0m \u001b[1m0s\u001b[0m 3ms/step - loss: 0.0193 - mae: 0.1113 - val_loss: 0.0245 - val_mae: 0.1229\n",
            "Epoch 55/100\n",
            "\u001b[1m93/93\u001b[0m \u001b[32m━━━━━━━━━━━━━━━━━━━━\u001b[0m\u001b[37m\u001b[0m \u001b[1m0s\u001b[0m 3ms/step - loss: 0.0195 - mae: 0.1114 - val_loss: 0.0222 - val_mae: 0.1162\n",
            "Epoch 56/100\n",
            "\u001b[1m93/93\u001b[0m \u001b[32m━━━━━━━━━━━━━━━━━━━━\u001b[0m\u001b[37m\u001b[0m \u001b[1m0s\u001b[0m 3ms/step - loss: 0.0205 - mae: 0.1139 - val_loss: 0.0234 - val_mae: 0.1203\n",
            "Epoch 57/100\n",
            "\u001b[1m93/93\u001b[0m \u001b[32m━━━━━━━━━━━━━━━━━━━━\u001b[0m\u001b[37m\u001b[0m \u001b[1m0s\u001b[0m 3ms/step - loss: 0.0193 - mae: 0.1110 - val_loss: 0.0226 - val_mae: 0.1181\n",
            "Epoch 58/100\n",
            "\u001b[1m93/93\u001b[0m \u001b[32m━━━━━━━━━━━━━━━━━━━━\u001b[0m\u001b[37m\u001b[0m \u001b[1m0s\u001b[0m 3ms/step - loss: 0.0198 - mae: 0.1127 - val_loss: 0.0230 - val_mae: 0.1188\n",
            "Epoch 59/100\n",
            "\u001b[1m93/93\u001b[0m \u001b[32m━━━━━━━━━━━━━━━━━━━━\u001b[0m\u001b[37m\u001b[0m \u001b[1m0s\u001b[0m 3ms/step - loss: 0.0194 - mae: 0.1115 - val_loss: 0.0226 - val_mae: 0.1177\n",
            "Epoch 60/100\n",
            "\u001b[1m93/93\u001b[0m \u001b[32m━━━━━━━━━━━━━━━━━━━━\u001b[0m\u001b[37m\u001b[0m \u001b[1m0s\u001b[0m 3ms/step - loss: 0.0201 - mae: 0.1128 - val_loss: 0.0242 - val_mae: 0.1223\n",
            "Epoch 61/100\n",
            "\u001b[1m93/93\u001b[0m \u001b[32m━━━━━━━━━━━━━━━━━━━━\u001b[0m\u001b[37m\u001b[0m \u001b[1m0s\u001b[0m 3ms/step - loss: 0.0198 - mae: 0.1119 - val_loss: 0.0232 - val_mae: 0.1190\n",
            "Epoch 62/100\n",
            "\u001b[1m93/93\u001b[0m \u001b[32m━━━━━━━━━━━━━━━━━━━━\u001b[0m\u001b[37m\u001b[0m \u001b[1m0s\u001b[0m 3ms/step - loss: 0.0204 - mae: 0.1131 - val_loss: 0.0219 - val_mae: 0.1163\n",
            "Epoch 63/100\n",
            "\u001b[1m93/93\u001b[0m \u001b[32m━━━━━━━━━━━━━━━━━━━━\u001b[0m\u001b[37m\u001b[0m \u001b[1m0s\u001b[0m 3ms/step - loss: 0.0203 - mae: 0.1132 - val_loss: 0.0217 - val_mae: 0.1138\n",
            "Epoch 64/100\n",
            "\u001b[1m93/93\u001b[0m \u001b[32m━━━━━━━━━━━━━━━━━━━━\u001b[0m\u001b[37m\u001b[0m \u001b[1m1s\u001b[0m 3ms/step - loss: 0.0193 - mae: 0.1113 - val_loss: 0.0215 - val_mae: 0.1131\n",
            "Epoch 65/100\n",
            "\u001b[1m93/93\u001b[0m \u001b[32m━━━━━━━━━━━━━━━━━━━━\u001b[0m\u001b[37m\u001b[0m \u001b[1m0s\u001b[0m 3ms/step - loss: 0.0197 - mae: 0.1121 - val_loss: 0.0227 - val_mae: 0.1179\n",
            "Epoch 66/100\n",
            "\u001b[1m93/93\u001b[0m \u001b[32m━━━━━━━━━━━━━━━━━━━━\u001b[0m\u001b[37m\u001b[0m \u001b[1m0s\u001b[0m 3ms/step - loss: 0.0198 - mae: 0.1126 - val_loss: 0.0247 - val_mae: 0.1247\n",
            "Epoch 67/100\n",
            "\u001b[1m93/93\u001b[0m \u001b[32m━━━━━━━━━━━━━━━━━━━━\u001b[0m\u001b[37m\u001b[0m \u001b[1m1s\u001b[0m 3ms/step - loss: 0.0209 - mae: 0.1155 - val_loss: 0.0226 - val_mae: 0.1184\n",
            "Epoch 68/100\n",
            "\u001b[1m93/93\u001b[0m \u001b[32m━━━━━━━━━━━━━━━━━━━━\u001b[0m\u001b[37m\u001b[0m \u001b[1m0s\u001b[0m 3ms/step - loss: 0.0196 - mae: 0.1130 - val_loss: 0.0215 - val_mae: 0.1145\n",
            "Epoch 69/100\n",
            "\u001b[1m93/93\u001b[0m \u001b[32m━━━━━━━━━━━━━━━━━━━━\u001b[0m\u001b[37m\u001b[0m \u001b[1m0s\u001b[0m 3ms/step - loss: 0.0175 - mae: 0.1048 - val_loss: 0.0223 - val_mae: 0.1160\n",
            "Epoch 70/100\n",
            "\u001b[1m93/93\u001b[0m \u001b[32m━━━━━━━━━━━━━━━━━━━━\u001b[0m\u001b[37m\u001b[0m \u001b[1m0s\u001b[0m 3ms/step - loss: 0.0180 - mae: 0.1085 - val_loss: 0.0234 - val_mae: 0.1202\n",
            "Epoch 71/100\n",
            "\u001b[1m93/93\u001b[0m \u001b[32m━━━━━━━━━━━━━━━━━━━━\u001b[0m\u001b[37m\u001b[0m \u001b[1m0s\u001b[0m 3ms/step - loss: 0.0200 - mae: 0.1131 - val_loss: 0.0237 - val_mae: 0.1219\n",
            "Epoch 72/100\n",
            "\u001b[1m93/93\u001b[0m \u001b[32m━━━━━━━━━━━━━━━━━━━━\u001b[0m\u001b[37m\u001b[0m \u001b[1m0s\u001b[0m 3ms/step - loss: 0.0193 - mae: 0.1114 - val_loss: 0.0223 - val_mae: 0.1169\n",
            "Epoch 73/100\n",
            "\u001b[1m93/93\u001b[0m \u001b[32m━━━━━━━━━━━━━━━━━━━━\u001b[0m\u001b[37m\u001b[0m \u001b[1m0s\u001b[0m 3ms/step - loss: 0.0200 - mae: 0.1129 - val_loss: 0.0247 - val_mae: 0.1229\n",
            "Epoch 74/100\n",
            "\u001b[1m93/93\u001b[0m \u001b[32m━━━━━━━━━━━━━━━━━━━━\u001b[0m\u001b[37m\u001b[0m \u001b[1m0s\u001b[0m 3ms/step - loss: 0.0196 - mae: 0.1122 - val_loss: 0.0220 - val_mae: 0.1151\n",
            "Epoch 75/100\n",
            "\u001b[1m93/93\u001b[0m \u001b[32m━━━━━━━━━━━━━━━━━━━━\u001b[0m\u001b[37m\u001b[0m \u001b[1m0s\u001b[0m 3ms/step - loss: 0.0190 - mae: 0.1092 - val_loss: 0.0225 - val_mae: 0.1171\n",
            "Epoch 76/100\n",
            "\u001b[1m93/93\u001b[0m \u001b[32m━━━━━━━━━━━━━━━━━━━━\u001b[0m\u001b[37m\u001b[0m \u001b[1m0s\u001b[0m 3ms/step - loss: 0.0196 - mae: 0.1122 - val_loss: 0.0244 - val_mae: 0.1227\n",
            "Epoch 77/100\n",
            "\u001b[1m93/93\u001b[0m \u001b[32m━━━━━━━━━━━━━━━━━━━━\u001b[0m\u001b[37m\u001b[0m \u001b[1m0s\u001b[0m 3ms/step - loss: 0.0177 - mae: 0.1062 - val_loss: 0.0233 - val_mae: 0.1197\n",
            "Epoch 78/100\n",
            "\u001b[1m93/93\u001b[0m \u001b[32m━━━━━━━━━━━━━━━━━━━━\u001b[0m\u001b[37m\u001b[0m \u001b[1m0s\u001b[0m 3ms/step - loss: 0.0204 - mae: 0.1136 - val_loss: 0.0230 - val_mae: 0.1204\n",
            "Epoch 79/100\n",
            "\u001b[1m93/93\u001b[0m \u001b[32m━━━━━━━━━━━━━━━━━━━━\u001b[0m\u001b[37m\u001b[0m \u001b[1m0s\u001b[0m 3ms/step - loss: 0.0192 - mae: 0.1107 - val_loss: 0.0213 - val_mae: 0.1127\n",
            "Epoch 80/100\n",
            "\u001b[1m93/93\u001b[0m \u001b[32m━━━━━━━━━━━━━━━━━━━━\u001b[0m\u001b[37m\u001b[0m \u001b[1m0s\u001b[0m 3ms/step - loss: 0.0190 - mae: 0.1101 - val_loss: 0.0244 - val_mae: 0.1220\n",
            "Epoch 81/100\n",
            "\u001b[1m93/93\u001b[0m \u001b[32m━━━━━━━━━━━━━━━━━━━━\u001b[0m\u001b[37m\u001b[0m \u001b[1m0s\u001b[0m 3ms/step - loss: 0.0192 - mae: 0.1112 - val_loss: 0.0216 - val_mae: 0.1144\n",
            "Epoch 82/100\n",
            "\u001b[1m93/93\u001b[0m \u001b[32m━━━━━━━━━━━━━━━━━━━━\u001b[0m\u001b[37m\u001b[0m \u001b[1m0s\u001b[0m 3ms/step - loss: 0.0180 - mae: 0.1058 - val_loss: 0.0229 - val_mae: 0.1185\n",
            "Epoch 83/100\n",
            "\u001b[1m93/93\u001b[0m \u001b[32m━━━━━━━━━━━━━━━━━━━━\u001b[0m\u001b[37m\u001b[0m \u001b[1m0s\u001b[0m 3ms/step - loss: 0.0188 - mae: 0.1092 - val_loss: 0.0217 - val_mae: 0.1143\n",
            "Epoch 84/100\n",
            "\u001b[1m93/93\u001b[0m \u001b[32m━━━━━━━━━━━━━━━━━━━━\u001b[0m\u001b[37m\u001b[0m \u001b[1m1s\u001b[0m 4ms/step - loss: 0.0191 - mae: 0.1091 - val_loss: 0.0220 - val_mae: 0.1144\n",
            "Epoch 85/100\n",
            "\u001b[1m93/93\u001b[0m \u001b[32m━━━━━━━━━━━━━━━━━━━━\u001b[0m\u001b[37m\u001b[0m \u001b[1m1s\u001b[0m 5ms/step - loss: 0.0194 - mae: 0.1104 - val_loss: 0.0217 - val_mae: 0.1151\n",
            "Epoch 86/100\n",
            "\u001b[1m93/93\u001b[0m \u001b[32m━━━━━━━━━━━━━━━━━━━━\u001b[0m\u001b[37m\u001b[0m \u001b[1m1s\u001b[0m 4ms/step - loss: 0.0184 - mae: 0.1077 - val_loss: 0.0238 - val_mae: 0.1203\n",
            "Epoch 87/100\n",
            "\u001b[1m93/93\u001b[0m \u001b[32m━━━━━━━━━━━━━━━━━━━━\u001b[0m\u001b[37m\u001b[0m \u001b[1m0s\u001b[0m 3ms/step - loss: 0.0196 - mae: 0.1118 - val_loss: 0.0235 - val_mae: 0.1193\n",
            "Epoch 88/100\n",
            "\u001b[1m93/93\u001b[0m \u001b[32m━━━━━━━━━━━━━━━━━━━━\u001b[0m\u001b[37m\u001b[0m \u001b[1m0s\u001b[0m 3ms/step - loss: 0.0192 - mae: 0.1097 - val_loss: 0.0220 - val_mae: 0.1164\n",
            "Epoch 89/100\n",
            "\u001b[1m93/93\u001b[0m \u001b[32m━━━━━━━━━━━━━━━━━━━━\u001b[0m\u001b[37m\u001b[0m \u001b[1m0s\u001b[0m 3ms/step - loss: 0.0201 - mae: 0.1136 - val_loss: 0.0235 - val_mae: 0.1208\n",
            "Epoch 90/100\n",
            "\u001b[1m93/93\u001b[0m \u001b[32m━━━━━━━━━━━━━━━━━━━━\u001b[0m\u001b[37m\u001b[0m \u001b[1m0s\u001b[0m 3ms/step - loss: 0.0193 - mae: 0.1112 - val_loss: 0.0236 - val_mae: 0.1205\n",
            "Epoch 91/100\n",
            "\u001b[1m93/93\u001b[0m \u001b[32m━━━━━━━━━━━━━━━━━━━━\u001b[0m\u001b[37m\u001b[0m \u001b[1m0s\u001b[0m 3ms/step - loss: 0.0179 - mae: 0.1080 - val_loss: 0.0227 - val_mae: 0.1168\n",
            "Epoch 92/100\n",
            "\u001b[1m93/93\u001b[0m \u001b[32m━━━━━━━━━━━━━━━━━━━━\u001b[0m\u001b[37m\u001b[0m \u001b[1m0s\u001b[0m 3ms/step - loss: 0.0189 - mae: 0.1093 - val_loss: 0.0247 - val_mae: 0.1235\n",
            "Epoch 93/100\n",
            "\u001b[1m93/93\u001b[0m \u001b[32m━━━━━━━━━━━━━━━━━━━━\u001b[0m\u001b[37m\u001b[0m \u001b[1m0s\u001b[0m 3ms/step - loss: 0.0181 - mae: 0.1065 - val_loss: 0.0230 - val_mae: 0.1185\n",
            "Epoch 94/100\n",
            "\u001b[1m93/93\u001b[0m \u001b[32m━━━━━━━━━━━━━━━━━━━━\u001b[0m\u001b[37m\u001b[0m \u001b[1m0s\u001b[0m 3ms/step - loss: 0.0181 - mae: 0.1069 - val_loss: 0.0260 - val_mae: 0.1263\n",
            "Epoch 95/100\n",
            "\u001b[1m93/93\u001b[0m \u001b[32m━━━━━━━━━━━━━━━━━━━━\u001b[0m\u001b[37m\u001b[0m \u001b[1m1s\u001b[0m 3ms/step - loss: 0.0190 - mae: 0.1087 - val_loss: 0.0214 - val_mae: 0.1143\n",
            "Epoch 96/100\n",
            "\u001b[1m93/93\u001b[0m \u001b[32m━━━━━━━━━━━━━━━━━━━━\u001b[0m\u001b[37m\u001b[0m \u001b[1m0s\u001b[0m 3ms/step - loss: 0.0183 - mae: 0.1078 - val_loss: 0.0231 - val_mae: 0.1191\n",
            "Epoch 97/100\n",
            "\u001b[1m93/93\u001b[0m \u001b[32m━━━━━━━━━━━━━━━━━━━━\u001b[0m\u001b[37m\u001b[0m \u001b[1m0s\u001b[0m 3ms/step - loss: 0.0182 - mae: 0.1074 - val_loss: 0.0254 - val_mae: 0.1265\n",
            "Epoch 98/100\n",
            "\u001b[1m93/93\u001b[0m \u001b[32m━━━━━━━━━━━━━━━━━━━━\u001b[0m\u001b[37m\u001b[0m \u001b[1m0s\u001b[0m 3ms/step - loss: 0.0181 - mae: 0.1082 - val_loss: 0.0219 - val_mae: 0.1134\n",
            "Epoch 99/100\n",
            "\u001b[1m93/93\u001b[0m \u001b[32m━━━━━━━━━━━━━━━━━━━━\u001b[0m\u001b[37m\u001b[0m \u001b[1m0s\u001b[0m 3ms/step - loss: 0.0180 - mae: 0.1061 - val_loss: 0.0217 - val_mae: 0.1145\n",
            "Epoch 100/100\n",
            "\u001b[1m93/93\u001b[0m \u001b[32m━━━━━━━━━━━━━━━━━━━━\u001b[0m\u001b[37m\u001b[0m \u001b[1m0s\u001b[0m 3ms/step - loss: 0.0176 - mae: 0.1048 - val_loss: 0.0227 - val_mae: 0.1177\n",
            "\u001b[1m103/103\u001b[0m \u001b[32m━━━━━━━━━━━━━━━━━━━━\u001b[0m\u001b[37m\u001b[0m \u001b[1m0s\u001b[0m 2ms/step\n",
            "\u001b[1m12/12\u001b[0m \u001b[32m━━━━━━━━━━━━━━━━━━━━\u001b[0m\u001b[37m\u001b[0m \u001b[1m0s\u001b[0m 3ms/step \n",
            "MLP Train RMSE: 0.1366, Test RMSE: 0.1423\n",
            "MLP Train MAE: 0.1087, Test MAE: 0.1151\n",
            "MLP Train MSE: 0.0186, Test MSE: 0.0203\n"
          ]
        }
      ]
    },
    {
      "cell_type": "code",
      "source": [
        "#CNN\n",
        "\n",
        "def create_sliding_window(X, Y, window_size=5, step=1):\n",
        "    X_windowed, Y_windowed = [], []\n",
        "    for i in range(0, len(X) - window_size + 1, step):\n",
        "        X_windowed.append(X[i:i+window_size])\n",
        "        Y_windowed.append(Y[i+window_size-1])\n",
        "    return np.array(X_windowed), np.array(Y_windowed)\n",
        "\n",
        "def train_cnn(X_train, Y_train, X_test, scaler_Y, epochs=100, batch_size=32):\n",
        "    time_steps, num_features = X_train.shape[1], X_train.shape[2]\n",
        "\n",
        "    model = keras.Sequential([\n",
        "        keras.layers.Conv1D(filters=64, kernel_size=3, activation='relu', input_shape=(time_steps, num_features)),\n",
        "        keras.layers.Conv1D(filters=32, kernel_size=3, activation='relu'),\n",
        "        keras.layers.Flatten(),\n",
        "        keras.layers.Dense(64, activation='relu'),\n",
        "        keras.layers.Dropout(0.2),\n",
        "        keras.layers.Dense(1, activation='linear')\n",
        "    ])\n",
        "\n",
        "    model.compile(optimizer=keras.optimizers.Adam(learning_rate=0.001),\n",
        "                  loss='mse',\n",
        "                  metrics=['mae'])\n",
        "\n",
        "    model.fit(X_train, Y_train, epochs=epochs, batch_size=batch_size, verbose=1, validation_split=0.1)\n",
        "\n",
        "    Y_train_pred = scaler_Y.inverse_transform(model.predict(X_train))\n",
        "    Y_test_pred = scaler_Y.inverse_transform(model.predict(X_test))\n",
        "\n",
        "    return model, Y_train_pred, Y_test_pred\n",
        "\n",
        "\n",
        "window_size, step = 5, 1\n",
        "X_train_windowed, Y_train_windowed = create_sliding_window(X_train, Y_train, window_size, step)\n",
        "X_test_windowed, Y_test_windowed = create_sliding_window(X_test, Y_test, window_size, step)\n",
        "\n",
        "X_train_windowed = X_train_windowed.reshape((X_train_windowed.shape[0], window_size, X_train.shape[1]))\n",
        "X_test_windowed = X_test_windowed.reshape((X_test_windowed.shape[0], window_size, X_test.shape[1]))\n",
        "\n",
        "cnn_model, Y_train_pred_inv, Y_test_pred_inv = train_cnn(\n",
        "    X_train_windowed, Y_train_windowed, X_test_windowed, scaler_Y, epochs=100, batch_size=32)\n",
        "\n",
        "Y_train_actual_inv = scaler_Y.inverse_transform(Y_train_windowed.reshape(-1, 1))\n",
        "Y_test_actual_inv = scaler_Y.inverse_transform(Y_test_windowed.reshape(-1, 1))\n",
        "\n",
        "train_rmse = np.sqrt(mean_squared_error(Y_train_actual_inv, Y_train_pred_inv))\n",
        "test_rmse = np.sqrt(mean_squared_error(Y_test_actual_inv, Y_test_pred_inv))\n",
        "train_mae = mean_absolute_error(Y_train_actual_inv, Y_train_pred_inv)\n",
        "test_mae = mean_absolute_error(Y_test_actual_inv, Y_test_pred_inv)\n",
        "train_mse = mean_squared_error(Y_train_actual_inv, Y_train_pred_inv)\n",
        "test_mse = mean_squared_error(Y_test_actual_inv, Y_test_pred_inv)\n",
        "\n",
        "print(f\"CNN Train RMSE: {train_rmse:.4f}, Test RMSE: {test_rmse:.4f}\")\n",
        "print(f\"CNN Train MAE: {train_mae:.4f}, Test MAE: {test_mae:.4f}\")\n",
        "print(f\"CNN Train MSE: {train_mse:.4f}, Test MSE: {test_mse:.4f}\")\n"
      ],
      "metadata": {
        "colab": {
          "base_uri": "https://localhost:8080/"
        },
        "id": "pRsSKDg3rzGu",
        "outputId": "7ded0fa7-f473-4681-ebb7-b336584d0e3a"
      },
      "execution_count": null,
      "outputs": [
        {
          "output_type": "stream",
          "name": "stdout",
          "text": [
            "Epoch 1/100\n"
          ]
        },
        {
          "output_type": "stream",
          "name": "stderr",
          "text": [
            "/usr/local/lib/python3.11/dist-packages/keras/src/layers/convolutional/base_conv.py:107: UserWarning: Do not pass an `input_shape`/`input_dim` argument to a layer. When using Sequential models, prefer using an `Input(shape)` object as the first layer in the model instead.\n",
            "  super().__init__(activity_regularizer=activity_regularizer, **kwargs)\n"
          ]
        },
        {
          "output_type": "stream",
          "name": "stdout",
          "text": [
            "\u001b[1m93/93\u001b[0m \u001b[32m━━━━━━━━━━━━━━━━━━━━\u001b[0m\u001b[37m\u001b[0m \u001b[1m2s\u001b[0m 5ms/step - loss: 0.0931 - mae: 0.2199 - val_loss: 0.0217 - val_mae: 0.1141\n",
            "Epoch 2/100\n",
            "\u001b[1m93/93\u001b[0m \u001b[32m━━━━━━━━━━━━━━━━━━━━\u001b[0m\u001b[37m\u001b[0m \u001b[1m0s\u001b[0m 3ms/step - loss: 0.0253 - mae: 0.1269 - val_loss: 0.0229 - val_mae: 0.1193\n",
            "Epoch 3/100\n",
            "\u001b[1m93/93\u001b[0m \u001b[32m━━━━━━━━━━━━━━━━━━━━\u001b[0m\u001b[37m\u001b[0m \u001b[1m0s\u001b[0m 3ms/step - loss: 0.0254 - mae: 0.1278 - val_loss: 0.0218 - val_mae: 0.1147\n",
            "Epoch 4/100\n",
            "\u001b[1m93/93\u001b[0m \u001b[32m━━━━━━━━━━━━━━━━━━━━\u001b[0m\u001b[37m\u001b[0m \u001b[1m0s\u001b[0m 3ms/step - loss: 0.0258 - mae: 0.1275 - val_loss: 0.0227 - val_mae: 0.1188\n",
            "Epoch 5/100\n",
            "\u001b[1m93/93\u001b[0m \u001b[32m━━━━━━━━━━━━━━━━━━━━\u001b[0m\u001b[37m\u001b[0m \u001b[1m0s\u001b[0m 3ms/step - loss: 0.0239 - mae: 0.1229 - val_loss: 0.0232 - val_mae: 0.1207\n",
            "Epoch 6/100\n",
            "\u001b[1m93/93\u001b[0m \u001b[32m━━━━━━━━━━━━━━━━━━━━\u001b[0m\u001b[37m\u001b[0m \u001b[1m0s\u001b[0m 3ms/step - loss: 0.0245 - mae: 0.1259 - val_loss: 0.0220 - val_mae: 0.1155\n",
            "Epoch 7/100\n",
            "\u001b[1m93/93\u001b[0m \u001b[32m━━━━━━━━━━━━━━━━━━━━\u001b[0m\u001b[37m\u001b[0m \u001b[1m1s\u001b[0m 3ms/step - loss: 0.0244 - mae: 0.1241 - val_loss: 0.0223 - val_mae: 0.1169\n",
            "Epoch 8/100\n",
            "\u001b[1m93/93\u001b[0m \u001b[32m━━━━━━━━━━━━━━━━━━━━\u001b[0m\u001b[37m\u001b[0m \u001b[1m0s\u001b[0m 3ms/step - loss: 0.0246 - mae: 0.1251 - val_loss: 0.0224 - val_mae: 0.1170\n",
            "Epoch 9/100\n",
            "\u001b[1m93/93\u001b[0m \u001b[32m━━━━━━━━━━━━━━━━━━━━\u001b[0m\u001b[37m\u001b[0m \u001b[1m1s\u001b[0m 3ms/step - loss: 0.0237 - mae: 0.1234 - val_loss: 0.0216 - val_mae: 0.1135\n",
            "Epoch 10/100\n",
            "\u001b[1m93/93\u001b[0m \u001b[32m━━━━━━━━━━━━━━━━━━━━\u001b[0m\u001b[37m\u001b[0m \u001b[1m1s\u001b[0m 3ms/step - loss: 0.0232 - mae: 0.1226 - val_loss: 0.0223 - val_mae: 0.1166\n",
            "Epoch 11/100\n",
            "\u001b[1m93/93\u001b[0m \u001b[32m━━━━━━━━━━━━━━━━━━━━\u001b[0m\u001b[37m\u001b[0m \u001b[1m0s\u001b[0m 3ms/step - loss: 0.0233 - mae: 0.1223 - val_loss: 0.0234 - val_mae: 0.1221\n",
            "Epoch 12/100\n",
            "\u001b[1m93/93\u001b[0m \u001b[32m━━━━━━━━━━━━━━━━━━━━\u001b[0m\u001b[37m\u001b[0m \u001b[1m0s\u001b[0m 3ms/step - loss: 0.0236 - mae: 0.1223 - val_loss: 0.0229 - val_mae: 0.1195\n",
            "Epoch 13/100\n",
            "\u001b[1m93/93\u001b[0m \u001b[32m━━━━━━━━━━━━━━━━━━━━\u001b[0m\u001b[37m\u001b[0m \u001b[1m0s\u001b[0m 3ms/step - loss: 0.0234 - mae: 0.1218 - val_loss: 0.0216 - val_mae: 0.1135\n",
            "Epoch 14/100\n",
            "\u001b[1m93/93\u001b[0m \u001b[32m━━━━━━━━━━━━━━━━━━━━\u001b[0m\u001b[37m\u001b[0m \u001b[1m0s\u001b[0m 3ms/step - loss: 0.0234 - mae: 0.1224 - val_loss: 0.0218 - val_mae: 0.1145\n",
            "Epoch 15/100\n",
            "\u001b[1m93/93\u001b[0m \u001b[32m━━━━━━━━━━━━━━━━━━━━\u001b[0m\u001b[37m\u001b[0m \u001b[1m0s\u001b[0m 3ms/step - loss: 0.0233 - mae: 0.1218 - val_loss: 0.0217 - val_mae: 0.1140\n",
            "Epoch 16/100\n",
            "\u001b[1m93/93\u001b[0m \u001b[32m━━━━━━━━━━━━━━━━━━━━\u001b[0m\u001b[37m\u001b[0m \u001b[1m1s\u001b[0m 3ms/step - loss: 0.0222 - mae: 0.1193 - val_loss: 0.0230 - val_mae: 0.1207\n",
            "Epoch 17/100\n",
            "\u001b[1m93/93\u001b[0m \u001b[32m━━━━━━━━━━━━━━━━━━━━\u001b[0m\u001b[37m\u001b[0m \u001b[1m0s\u001b[0m 3ms/step - loss: 0.0237 - mae: 0.1239 - val_loss: 0.0224 - val_mae: 0.1179\n",
            "Epoch 18/100\n",
            "\u001b[1m93/93\u001b[0m \u001b[32m━━━━━━━━━━━━━━━━━━━━\u001b[0m\u001b[37m\u001b[0m \u001b[1m0s\u001b[0m 3ms/step - loss: 0.0228 - mae: 0.1212 - val_loss: 0.0234 - val_mae: 0.1217\n",
            "Epoch 19/100\n",
            "\u001b[1m93/93\u001b[0m \u001b[32m━━━━━━━━━━━━━━━━━━━━\u001b[0m\u001b[37m\u001b[0m \u001b[1m0s\u001b[0m 4ms/step - loss: 0.0225 - mae: 0.1197 - val_loss: 0.0233 - val_mae: 0.1209\n",
            "Epoch 20/100\n",
            "\u001b[1m93/93\u001b[0m \u001b[32m━━━━━━━━━━━━━━━━━━━━\u001b[0m\u001b[37m\u001b[0m \u001b[1m1s\u001b[0m 4ms/step - loss: 0.0222 - mae: 0.1190 - val_loss: 0.0224 - val_mae: 0.1177\n",
            "Epoch 21/100\n",
            "\u001b[1m93/93\u001b[0m \u001b[32m━━━━━━━━━━━━━━━━━━━━\u001b[0m\u001b[37m\u001b[0m \u001b[1m0s\u001b[0m 4ms/step - loss: 0.0215 - mae: 0.1180 - val_loss: 0.0261 - val_mae: 0.1316\n",
            "Epoch 22/100\n",
            "\u001b[1m93/93\u001b[0m \u001b[32m━━━━━━━━━━━━━━━━━━━━\u001b[0m\u001b[37m\u001b[0m \u001b[1m1s\u001b[0m 5ms/step - loss: 0.0224 - mae: 0.1200 - val_loss: 0.0234 - val_mae: 0.1219\n",
            "Epoch 23/100\n",
            "\u001b[1m93/93\u001b[0m \u001b[32m━━━━━━━━━━━━━━━━━━━━\u001b[0m\u001b[37m\u001b[0m \u001b[1m0s\u001b[0m 3ms/step - loss: 0.0237 - mae: 0.1257 - val_loss: 0.0224 - val_mae: 0.1174\n",
            "Epoch 24/100\n",
            "\u001b[1m93/93\u001b[0m \u001b[32m━━━━━━━━━━━━━━━━━━━━\u001b[0m\u001b[37m\u001b[0m \u001b[1m1s\u001b[0m 3ms/step - loss: 0.0229 - mae: 0.1223 - val_loss: 0.0216 - val_mae: 0.1140\n",
            "Epoch 25/100\n",
            "\u001b[1m93/93\u001b[0m \u001b[32m━━━━━━━━━━━━━━━━━━━━\u001b[0m\u001b[37m\u001b[0m \u001b[1m0s\u001b[0m 3ms/step - loss: 0.0228 - mae: 0.1206 - val_loss: 0.0225 - val_mae: 0.1181\n",
            "Epoch 26/100\n",
            "\u001b[1m93/93\u001b[0m \u001b[32m━━━━━━━━━━━━━━━━━━━━\u001b[0m\u001b[37m\u001b[0m \u001b[1m0s\u001b[0m 3ms/step - loss: 0.0216 - mae: 0.1182 - val_loss: 0.0216 - val_mae: 0.1140\n",
            "Epoch 27/100\n",
            "\u001b[1m93/93\u001b[0m \u001b[32m━━━━━━━━━━━━━━━━━━━━\u001b[0m\u001b[37m\u001b[0m \u001b[1m0s\u001b[0m 3ms/step - loss: 0.0228 - mae: 0.1222 - val_loss: 0.0234 - val_mae: 0.1209\n",
            "Epoch 28/100\n",
            "\u001b[1m93/93\u001b[0m \u001b[32m━━━━━━━━━━━━━━━━━━━━\u001b[0m\u001b[37m\u001b[0m \u001b[1m1s\u001b[0m 3ms/step - loss: 0.0227 - mae: 0.1200 - val_loss: 0.0219 - val_mae: 0.1154\n",
            "Epoch 29/100\n",
            "\u001b[1m93/93\u001b[0m \u001b[32m━━━━━━━━━━━━━━━━━━━━\u001b[0m\u001b[37m\u001b[0m \u001b[1m0s\u001b[0m 3ms/step - loss: 0.0225 - mae: 0.1207 - val_loss: 0.0227 - val_mae: 0.1191\n",
            "Epoch 30/100\n",
            "\u001b[1m93/93\u001b[0m \u001b[32m━━━━━━━━━━━━━━━━━━━━\u001b[0m\u001b[37m\u001b[0m \u001b[1m0s\u001b[0m 3ms/step - loss: 0.0220 - mae: 0.1195 - val_loss: 0.0209 - val_mae: 0.1111\n",
            "Epoch 31/100\n",
            "\u001b[1m93/93\u001b[0m \u001b[32m━━━━━━━━━━━━━━━━━━━━\u001b[0m\u001b[37m\u001b[0m \u001b[1m0s\u001b[0m 3ms/step - loss: 0.0223 - mae: 0.1193 - val_loss: 0.0232 - val_mae: 0.1212\n",
            "Epoch 32/100\n",
            "\u001b[1m93/93\u001b[0m \u001b[32m━━━━━━━━━━━━━━━━━━━━\u001b[0m\u001b[37m\u001b[0m \u001b[1m1s\u001b[0m 3ms/step - loss: 0.0215 - mae: 0.1187 - val_loss: 0.0230 - val_mae: 0.1209\n",
            "Epoch 33/100\n",
            "\u001b[1m93/93\u001b[0m \u001b[32m━━━━━━━━━━━━━━━━━━━━\u001b[0m\u001b[37m\u001b[0m \u001b[1m1s\u001b[0m 3ms/step - loss: 0.0225 - mae: 0.1212 - val_loss: 0.0228 - val_mae: 0.1196\n",
            "Epoch 34/100\n",
            "\u001b[1m93/93\u001b[0m \u001b[32m━━━━━━━━━━━━━━━━━━━━\u001b[0m\u001b[37m\u001b[0m \u001b[1m1s\u001b[0m 3ms/step - loss: 0.0209 - mae: 0.1156 - val_loss: 0.0211 - val_mae: 0.1123\n",
            "Epoch 35/100\n",
            "\u001b[1m93/93\u001b[0m \u001b[32m━━━━━━━━━━━━━━━━━━━━\u001b[0m\u001b[37m\u001b[0m \u001b[1m0s\u001b[0m 3ms/step - loss: 0.0212 - mae: 0.1174 - val_loss: 0.0232 - val_mae: 0.1216\n",
            "Epoch 36/100\n",
            "\u001b[1m93/93\u001b[0m \u001b[32m━━━━━━━━━━━━━━━━━━━━\u001b[0m\u001b[37m\u001b[0m \u001b[1m1s\u001b[0m 3ms/step - loss: 0.0217 - mae: 0.1189 - val_loss: 0.0213 - val_mae: 0.1132\n",
            "Epoch 37/100\n",
            "\u001b[1m93/93\u001b[0m \u001b[32m━━━━━━━━━━━━━━━━━━━━\u001b[0m\u001b[37m\u001b[0m \u001b[1m1s\u001b[0m 6ms/step - loss: 0.0211 - mae: 0.1163 - val_loss: 0.0218 - val_mae: 0.1162\n",
            "Epoch 38/100\n",
            "\u001b[1m93/93\u001b[0m \u001b[32m━━━━━━━━━━━━━━━━━━━━\u001b[0m\u001b[37m\u001b[0m \u001b[1m0s\u001b[0m 3ms/step - loss: 0.0204 - mae: 0.1141 - val_loss: 0.0217 - val_mae: 0.1153\n",
            "Epoch 39/100\n",
            "\u001b[1m93/93\u001b[0m \u001b[32m━━━━━━━━━━━━━━━━━━━━\u001b[0m\u001b[37m\u001b[0m \u001b[1m1s\u001b[0m 6ms/step - loss: 0.0211 - mae: 0.1164 - val_loss: 0.0220 - val_mae: 0.1164\n",
            "Epoch 40/100\n",
            "\u001b[1m93/93\u001b[0m \u001b[32m━━━━━━━━━━━━━━━━━━━━\u001b[0m\u001b[37m\u001b[0m \u001b[1m0s\u001b[0m 3ms/step - loss: 0.0213 - mae: 0.1173 - val_loss: 0.0215 - val_mae: 0.1151\n",
            "Epoch 41/100\n",
            "\u001b[1m93/93\u001b[0m \u001b[32m━━━━━━━━━━━━━━━━━━━━\u001b[0m\u001b[37m\u001b[0m \u001b[1m1s\u001b[0m 3ms/step - loss: 0.0218 - mae: 0.1192 - val_loss: 0.0226 - val_mae: 0.1185\n",
            "Epoch 42/100\n",
            "\u001b[1m93/93\u001b[0m \u001b[32m━━━━━━━━━━━━━━━━━━━━\u001b[0m\u001b[37m\u001b[0m \u001b[1m1s\u001b[0m 3ms/step - loss: 0.0216 - mae: 0.1187 - val_loss: 0.0207 - val_mae: 0.1107\n",
            "Epoch 43/100\n",
            "\u001b[1m93/93\u001b[0m \u001b[32m━━━━━━━━━━━━━━━━━━━━\u001b[0m\u001b[37m\u001b[0m \u001b[1m1s\u001b[0m 4ms/step - loss: 0.0218 - mae: 0.1185 - val_loss: 0.0224 - val_mae: 0.1169\n",
            "Epoch 44/100\n",
            "\u001b[1m93/93\u001b[0m \u001b[32m━━━━━━━━━━━━━━━━━━━━\u001b[0m\u001b[37m\u001b[0m \u001b[1m0s\u001b[0m 5ms/step - loss: 0.0210 - mae: 0.1165 - val_loss: 0.0261 - val_mae: 0.1305\n",
            "Epoch 45/100\n",
            "\u001b[1m93/93\u001b[0m \u001b[32m━━━━━━━━━━━━━━━━━━━━\u001b[0m\u001b[37m\u001b[0m \u001b[1m0s\u001b[0m 5ms/step - loss: 0.0217 - mae: 0.1183 - val_loss: 0.0219 - val_mae: 0.1167\n",
            "Epoch 46/100\n",
            "\u001b[1m93/93\u001b[0m \u001b[32m━━━━━━━━━━━━━━━━━━━━\u001b[0m\u001b[37m\u001b[0m \u001b[1m1s\u001b[0m 5ms/step - loss: 0.0199 - mae: 0.1130 - val_loss: 0.0232 - val_mae: 0.1213\n",
            "Epoch 47/100\n",
            "\u001b[1m93/93\u001b[0m \u001b[32m━━━━━━━━━━━━━━━━━━━━\u001b[0m\u001b[37m\u001b[0m \u001b[1m1s\u001b[0m 5ms/step - loss: 0.0207 - mae: 0.1146 - val_loss: 0.0220 - val_mae: 0.1171\n",
            "Epoch 48/100\n",
            "\u001b[1m93/93\u001b[0m \u001b[32m━━━━━━━━━━━━━━━━━━━━\u001b[0m\u001b[37m\u001b[0m \u001b[1m0s\u001b[0m 3ms/step - loss: 0.0213 - mae: 0.1170 - val_loss: 0.0219 - val_mae: 0.1158\n",
            "Epoch 49/100\n",
            "\u001b[1m93/93\u001b[0m \u001b[32m━━━━━━━━━━━━━━━━━━━━\u001b[0m\u001b[37m\u001b[0m \u001b[1m1s\u001b[0m 3ms/step - loss: 0.0203 - mae: 0.1154 - val_loss: 0.0236 - val_mae: 0.1209\n",
            "Epoch 50/100\n",
            "\u001b[1m93/93\u001b[0m \u001b[32m━━━━━━━━━━━━━━━━━━━━\u001b[0m\u001b[37m\u001b[0m \u001b[1m0s\u001b[0m 3ms/step - loss: 0.0214 - mae: 0.1170 - val_loss: 0.0231 - val_mae: 0.1197\n",
            "Epoch 51/100\n",
            "\u001b[1m93/93\u001b[0m \u001b[32m━━━━━━━━━━━━━━━━━━━━\u001b[0m\u001b[37m\u001b[0m \u001b[1m1s\u001b[0m 3ms/step - loss: 0.0206 - mae: 0.1159 - val_loss: 0.0227 - val_mae: 0.1181\n",
            "Epoch 52/100\n",
            "\u001b[1m93/93\u001b[0m \u001b[32m━━━━━━━━━━━━━━━━━━━━\u001b[0m\u001b[37m\u001b[0m \u001b[1m1s\u001b[0m 3ms/step - loss: 0.0214 - mae: 0.1179 - val_loss: 0.0212 - val_mae: 0.1128\n",
            "Epoch 53/100\n",
            "\u001b[1m93/93\u001b[0m \u001b[32m━━━━━━━━━━━━━━━━━━━━\u001b[0m\u001b[37m\u001b[0m \u001b[1m0s\u001b[0m 3ms/step - loss: 0.0210 - mae: 0.1166 - val_loss: 0.0214 - val_mae: 0.1136\n",
            "Epoch 54/100\n",
            "\u001b[1m93/93\u001b[0m \u001b[32m━━━━━━━━━━━━━━━━━━━━\u001b[0m\u001b[37m\u001b[0m \u001b[1m0s\u001b[0m 3ms/step - loss: 0.0203 - mae: 0.1133 - val_loss: 0.0222 - val_mae: 0.1174\n",
            "Epoch 55/100\n",
            "\u001b[1m93/93\u001b[0m \u001b[32m━━━━━━━━━━━━━━━━━━━━\u001b[0m\u001b[37m\u001b[0m \u001b[1m1s\u001b[0m 3ms/step - loss: 0.0219 - mae: 0.1189 - val_loss: 0.0221 - val_mae: 0.1174\n",
            "Epoch 56/100\n",
            "\u001b[1m93/93\u001b[0m \u001b[32m━━━━━━━━━━━━━━━━━━━━\u001b[0m\u001b[37m\u001b[0m \u001b[1m0s\u001b[0m 3ms/step - loss: 0.0210 - mae: 0.1173 - val_loss: 0.0228 - val_mae: 0.1201\n",
            "Epoch 57/100\n",
            "\u001b[1m93/93\u001b[0m \u001b[32m━━━━━━━━━━━━━━━━━━━━\u001b[0m\u001b[37m\u001b[0m \u001b[1m1s\u001b[0m 3ms/step - loss: 0.0205 - mae: 0.1156 - val_loss: 0.0243 - val_mae: 0.1261\n",
            "Epoch 58/100\n",
            "\u001b[1m93/93\u001b[0m \u001b[32m━━━━━━━━━━━━━━━━━━━━\u001b[0m\u001b[37m\u001b[0m \u001b[1m0s\u001b[0m 3ms/step - loss: 0.0216 - mae: 0.1188 - val_loss: 0.0225 - val_mae: 0.1170\n",
            "Epoch 59/100\n",
            "\u001b[1m93/93\u001b[0m \u001b[32m━━━━━━━━━━━━━━━━━━━━\u001b[0m\u001b[37m\u001b[0m \u001b[1m0s\u001b[0m 3ms/step - loss: 0.0201 - mae: 0.1153 - val_loss: 0.0222 - val_mae: 0.1166\n",
            "Epoch 60/100\n",
            "\u001b[1m93/93\u001b[0m \u001b[32m━━━━━━━━━━━━━━━━━━━━\u001b[0m\u001b[37m\u001b[0m \u001b[1m0s\u001b[0m 3ms/step - loss: 0.0216 - mae: 0.1180 - val_loss: 0.0218 - val_mae: 0.1154\n",
            "Epoch 61/100\n",
            "\u001b[1m93/93\u001b[0m \u001b[32m━━━━━━━━━━━━━━━━━━━━\u001b[0m\u001b[37m\u001b[0m \u001b[1m0s\u001b[0m 3ms/step - loss: 0.0214 - mae: 0.1180 - val_loss: 0.0225 - val_mae: 0.1186\n",
            "Epoch 62/100\n",
            "\u001b[1m93/93\u001b[0m \u001b[32m━━━━━━━━━━━━━━━━━━━━\u001b[0m\u001b[37m\u001b[0m \u001b[1m0s\u001b[0m 3ms/step - loss: 0.0209 - mae: 0.1165 - val_loss: 0.0214 - val_mae: 0.1133\n",
            "Epoch 63/100\n",
            "\u001b[1m93/93\u001b[0m \u001b[32m━━━━━━━━━━━━━━━━━━━━\u001b[0m\u001b[37m\u001b[0m \u001b[1m1s\u001b[0m 3ms/step - loss: 0.0207 - mae: 0.1157 - val_loss: 0.0226 - val_mae: 0.1183\n",
            "Epoch 64/100\n",
            "\u001b[1m93/93\u001b[0m \u001b[32m━━━━━━━━━━━━━━━━━━━━\u001b[0m\u001b[37m\u001b[0m \u001b[1m0s\u001b[0m 3ms/step - loss: 0.0198 - mae: 0.1137 - val_loss: 0.0235 - val_mae: 0.1220\n",
            "Epoch 65/100\n",
            "\u001b[1m93/93\u001b[0m \u001b[32m━━━━━━━━━━━━━━━━━━━━\u001b[0m\u001b[37m\u001b[0m \u001b[1m1s\u001b[0m 3ms/step - loss: 0.0213 - mae: 0.1174 - val_loss: 0.0226 - val_mae: 0.1200\n",
            "Epoch 66/100\n",
            "\u001b[1m93/93\u001b[0m \u001b[32m━━━━━━━━━━━━━━━━━━━━\u001b[0m\u001b[37m\u001b[0m \u001b[1m0s\u001b[0m 3ms/step - loss: 0.0201 - mae: 0.1143 - val_loss: 0.0237 - val_mae: 0.1227\n",
            "Epoch 67/100\n",
            "\u001b[1m93/93\u001b[0m \u001b[32m━━━━━━━━━━━━━━━━━━━━\u001b[0m\u001b[37m\u001b[0m \u001b[1m0s\u001b[0m 3ms/step - loss: 0.0204 - mae: 0.1150 - val_loss: 0.0226 - val_mae: 0.1193\n",
            "Epoch 68/100\n",
            "\u001b[1m93/93\u001b[0m \u001b[32m━━━━━━━━━━━━━━━━━━━━\u001b[0m\u001b[37m\u001b[0m \u001b[1m1s\u001b[0m 3ms/step - loss: 0.0200 - mae: 0.1138 - val_loss: 0.0245 - val_mae: 0.1247\n",
            "Epoch 69/100\n",
            "\u001b[1m93/93\u001b[0m \u001b[32m━━━━━━━━━━━━━━━━━━━━\u001b[0m\u001b[37m\u001b[0m \u001b[1m0s\u001b[0m 3ms/step - loss: 0.0198 - mae: 0.1129 - val_loss: 0.0217 - val_mae: 0.1147\n",
            "Epoch 70/100\n",
            "\u001b[1m93/93\u001b[0m \u001b[32m━━━━━━━━━━━━━━━━━━━━\u001b[0m\u001b[37m\u001b[0m \u001b[1m1s\u001b[0m 4ms/step - loss: 0.0198 - mae: 0.1138 - val_loss: 0.0243 - val_mae: 0.1248\n",
            "Epoch 71/100\n",
            "\u001b[1m93/93\u001b[0m \u001b[32m━━━━━━━━━━━━━━━━━━━━\u001b[0m\u001b[37m\u001b[0m \u001b[1m0s\u001b[0m 5ms/step - loss: 0.0203 - mae: 0.1148 - val_loss: 0.0227 - val_mae: 0.1189\n",
            "Epoch 72/100\n",
            "\u001b[1m93/93\u001b[0m \u001b[32m━━━━━━━━━━━━━━━━━━━━\u001b[0m\u001b[37m\u001b[0m \u001b[1m1s\u001b[0m 5ms/step - loss: 0.0206 - mae: 0.1160 - val_loss: 0.0237 - val_mae: 0.1233\n",
            "Epoch 73/100\n",
            "\u001b[1m93/93\u001b[0m \u001b[32m━━━━━━━━━━━━━━━━━━━━\u001b[0m\u001b[37m\u001b[0m \u001b[1m0s\u001b[0m 5ms/step - loss: 0.0206 - mae: 0.1160 - val_loss: 0.0246 - val_mae: 0.1253\n",
            "Epoch 74/100\n",
            "\u001b[1m93/93\u001b[0m \u001b[32m━━━━━━━━━━━━━━━━━━━━\u001b[0m\u001b[37m\u001b[0m \u001b[1m1s\u001b[0m 5ms/step - loss: 0.0202 - mae: 0.1139 - val_loss: 0.0230 - val_mae: 0.1192\n",
            "Epoch 75/100\n",
            "\u001b[1m93/93\u001b[0m \u001b[32m━━━━━━━━━━━━━━━━━━━━\u001b[0m\u001b[37m\u001b[0m \u001b[1m0s\u001b[0m 3ms/step - loss: 0.0201 - mae: 0.1141 - val_loss: 0.0227 - val_mae: 0.1185\n",
            "Epoch 76/100\n",
            "\u001b[1m93/93\u001b[0m \u001b[32m━━━━━━━━━━━━━━━━━━━━\u001b[0m\u001b[37m\u001b[0m \u001b[1m1s\u001b[0m 3ms/step - loss: 0.0197 - mae: 0.1137 - val_loss: 0.0218 - val_mae: 0.1144\n",
            "Epoch 77/100\n",
            "\u001b[1m93/93\u001b[0m \u001b[32m━━━━━━━━━━━━━━━━━━━━\u001b[0m\u001b[37m\u001b[0m \u001b[1m0s\u001b[0m 3ms/step - loss: 0.0209 - mae: 0.1160 - val_loss: 0.0238 - val_mae: 0.1212\n",
            "Epoch 78/100\n",
            "\u001b[1m93/93\u001b[0m \u001b[32m━━━━━━━━━━━━━━━━━━━━\u001b[0m\u001b[37m\u001b[0m \u001b[1m0s\u001b[0m 3ms/step - loss: 0.0205 - mae: 0.1159 - val_loss: 0.0219 - val_mae: 0.1147\n",
            "Epoch 79/100\n",
            "\u001b[1m93/93\u001b[0m \u001b[32m━━━━━━━━━━━━━━━━━━━━\u001b[0m\u001b[37m\u001b[0m \u001b[1m1s\u001b[0m 3ms/step - loss: 0.0204 - mae: 0.1150 - val_loss: 0.0268 - val_mae: 0.1309\n",
            "Epoch 80/100\n",
            "\u001b[1m93/93\u001b[0m \u001b[32m━━━━━━━━━━━━━━━━━━━━\u001b[0m\u001b[37m\u001b[0m \u001b[1m0s\u001b[0m 3ms/step - loss: 0.0201 - mae: 0.1138 - val_loss: 0.0221 - val_mae: 0.1153\n",
            "Epoch 81/100\n",
            "\u001b[1m93/93\u001b[0m \u001b[32m━━━━━━━━━━━━━━━━━━━━\u001b[0m\u001b[37m\u001b[0m \u001b[1m0s\u001b[0m 3ms/step - loss: 0.0215 - mae: 0.1168 - val_loss: 0.0231 - val_mae: 0.1204\n",
            "Epoch 82/100\n",
            "\u001b[1m93/93\u001b[0m \u001b[32m━━━━━━━━━━━━━━━━━━━━\u001b[0m\u001b[37m\u001b[0m \u001b[1m1s\u001b[0m 3ms/step - loss: 0.0195 - mae: 0.1126 - val_loss: 0.0274 - val_mae: 0.1335\n",
            "Epoch 83/100\n",
            "\u001b[1m93/93\u001b[0m \u001b[32m━━━━━━━━━━━━━━━━━━━━\u001b[0m\u001b[37m\u001b[0m \u001b[1m0s\u001b[0m 3ms/step - loss: 0.0228 - mae: 0.1210 - val_loss: 0.0230 - val_mae: 0.1202\n",
            "Epoch 84/100\n",
            "\u001b[1m93/93\u001b[0m \u001b[32m━━━━━━━━━━━━━━━━━━━━\u001b[0m\u001b[37m\u001b[0m \u001b[1m0s\u001b[0m 3ms/step - loss: 0.0209 - mae: 0.1161 - val_loss: 0.0224 - val_mae: 0.1158\n",
            "Epoch 85/100\n",
            "\u001b[1m93/93\u001b[0m \u001b[32m━━━━━━━━━━━━━━━━━━━━\u001b[0m\u001b[37m\u001b[0m \u001b[1m1s\u001b[0m 3ms/step - loss: 0.0209 - mae: 0.1173 - val_loss: 0.0225 - val_mae: 0.1176\n",
            "Epoch 86/100\n",
            "\u001b[1m93/93\u001b[0m \u001b[32m━━━━━━━━━━━━━━━━━━━━\u001b[0m\u001b[37m\u001b[0m \u001b[1m0s\u001b[0m 3ms/step - loss: 0.0205 - mae: 0.1164 - val_loss: 0.0224 - val_mae: 0.1176\n",
            "Epoch 87/100\n",
            "\u001b[1m93/93\u001b[0m \u001b[32m━━━━━━━━━━━━━━━━━━━━\u001b[0m\u001b[37m\u001b[0m \u001b[1m0s\u001b[0m 3ms/step - loss: 0.0193 - mae: 0.1107 - val_loss: 0.0220 - val_mae: 0.1158\n",
            "Epoch 88/100\n",
            "\u001b[1m93/93\u001b[0m \u001b[32m━━━━━━━━━━━━━━━━━━━━\u001b[0m\u001b[37m\u001b[0m \u001b[1m0s\u001b[0m 3ms/step - loss: 0.0196 - mae: 0.1121 - val_loss: 0.0212 - val_mae: 0.1128\n",
            "Epoch 89/100\n",
            "\u001b[1m93/93\u001b[0m \u001b[32m━━━━━━━━━━━━━━━━━━━━\u001b[0m\u001b[37m\u001b[0m \u001b[1m0s\u001b[0m 3ms/step - loss: 0.0203 - mae: 0.1145 - val_loss: 0.0216 - val_mae: 0.1150\n",
            "Epoch 90/100\n",
            "\u001b[1m93/93\u001b[0m \u001b[32m━━━━━━━━━━━━━━━━━━━━\u001b[0m\u001b[37m\u001b[0m \u001b[1m0s\u001b[0m 3ms/step - loss: 0.0204 - mae: 0.1140 - val_loss: 0.0239 - val_mae: 0.1231\n",
            "Epoch 91/100\n",
            "\u001b[1m93/93\u001b[0m \u001b[32m━━━━━━━━━━━━━━━━━━━━\u001b[0m\u001b[37m\u001b[0m \u001b[1m0s\u001b[0m 3ms/step - loss: 0.0198 - mae: 0.1137 - val_loss: 0.0230 - val_mae: 0.1206\n",
            "Epoch 92/100\n",
            "\u001b[1m93/93\u001b[0m \u001b[32m━━━━━━━━━━━━━━━━━━━━\u001b[0m\u001b[37m\u001b[0m \u001b[1m0s\u001b[0m 3ms/step - loss: 0.0206 - mae: 0.1146 - val_loss: 0.0225 - val_mae: 0.1170\n",
            "Epoch 93/100\n",
            "\u001b[1m93/93\u001b[0m \u001b[32m━━━━━━━━━━━━━━━━━━━━\u001b[0m\u001b[37m\u001b[0m \u001b[1m1s\u001b[0m 3ms/step - loss: 0.0187 - mae: 0.1107 - val_loss: 0.0230 - val_mae: 0.1179\n",
            "Epoch 94/100\n",
            "\u001b[1m93/93\u001b[0m \u001b[32m━━━━━━━━━━━━━━━━━━━━\u001b[0m\u001b[37m\u001b[0m \u001b[1m0s\u001b[0m 3ms/step - loss: 0.0203 - mae: 0.1137 - val_loss: 0.0244 - val_mae: 0.1245\n",
            "Epoch 95/100\n",
            "\u001b[1m93/93\u001b[0m \u001b[32m━━━━━━━━━━━━━━━━━━━━\u001b[0m\u001b[37m\u001b[0m \u001b[1m1s\u001b[0m 3ms/step - loss: 0.0195 - mae: 0.1127 - val_loss: 0.0243 - val_mae: 0.1241\n",
            "Epoch 96/100\n",
            "\u001b[1m93/93\u001b[0m \u001b[32m━━━━━━━━━━━━━━━━━━━━\u001b[0m\u001b[37m\u001b[0m \u001b[1m0s\u001b[0m 3ms/step - loss: 0.0208 - mae: 0.1155 - val_loss: 0.0235 - val_mae: 0.1205\n",
            "Epoch 97/100\n",
            "\u001b[1m93/93\u001b[0m \u001b[32m━━━━━━━━━━━━━━━━━━━━\u001b[0m\u001b[37m\u001b[0m \u001b[1m0s\u001b[0m 3ms/step - loss: 0.0193 - mae: 0.1107 - val_loss: 0.0226 - val_mae: 0.1174\n",
            "Epoch 98/100\n",
            "\u001b[1m93/93\u001b[0m \u001b[32m━━━━━━━━━━━━━━━━━━━━\u001b[0m\u001b[37m\u001b[0m \u001b[1m1s\u001b[0m 3ms/step - loss: 0.0200 - mae: 0.1127 - val_loss: 0.0238 - val_mae: 0.1223\n",
            "Epoch 99/100\n",
            "\u001b[1m93/93\u001b[0m \u001b[32m━━━━━━━━━━━━━━━━━━━━\u001b[0m\u001b[37m\u001b[0m \u001b[1m0s\u001b[0m 4ms/step - loss: 0.0208 - mae: 0.1162 - val_loss: 0.0237 - val_mae: 0.1216\n",
            "Epoch 100/100\n",
            "\u001b[1m93/93\u001b[0m \u001b[32m━━━━━━━━━━━━━━━━━━━━\u001b[0m\u001b[37m\u001b[0m \u001b[1m1s\u001b[0m 7ms/step - loss: 0.0198 - mae: 0.1126 - val_loss: 0.0233 - val_mae: 0.1201\n",
            "\u001b[1m103/103\u001b[0m \u001b[32m━━━━━━━━━━━━━━━━━━━━\u001b[0m\u001b[37m\u001b[0m \u001b[1m0s\u001b[0m 3ms/step\n",
            "\u001b[1m12/12\u001b[0m \u001b[32m━━━━━━━━━━━━━━━━━━━━\u001b[0m\u001b[37m\u001b[0m \u001b[1m0s\u001b[0m 3ms/step \n",
            "CNN Train RMSE: 0.1411, Test RMSE: 0.1403\n",
            "CNN Train MAE: 0.1134, Test MAE: 0.1150\n",
            "CNN Train MSE: 0.0199, Test MSE: 0.0197\n"
          ]
        }
      ]
    },
    {
      "cell_type": "code",
      "source": [
        "from tqdm import tqdm\n",
        "\n",
        "df = pd.read_csv(\"weather_prediction_dataset.csv\")\n",
        "\n",
        "print(\"Dataset Columns:\", df.columns.tolist())\n",
        "\n",
        "cities = set()\n",
        "features = set()\n",
        "for col in df.columns:\n",
        "    if \"_\" in col:\n",
        "        city, feature = col.split(\"_\", 1)\n",
        "        cities.add(city)\n",
        "        features.add(feature)\n",
        "\n",
        "cities = list(cities)\n",
        "features = list(features)\n",
        "\n",
        "feature_columns = [f\"{city}_{feature}\" for city in cities for feature in features if f\"{city}_{feature}\" in df.columns]\n",
        "\n",
        "df = df[['DATE'] + feature_columns]\n",
        "\n",
        "df['DATE'] = pd.to_datetime(df['DATE'])\n",
        "df = df.sort_values(by='DATE')\n",
        "\n",
        "df.fillna(df.mean(), inplace=True)\n",
        "\n",
        "scaler = MinMaxScaler()\n",
        "df[feature_columns] = scaler.fit_transform(df[feature_columns])\n",
        "\n",
        "X = df[feature_columns].values[:-1]\n",
        "y = df[feature_columns].values[1:]\n",
        "\n",
        "split_idx = int(0.8 * len(X))\n",
        "X_train, X_test = X[:split_idx], X[split_idx:]\n",
        "y_train, y_test = y[:split_idx], y[split_idx:]\n",
        "\n",
        "beta = np.random.randn(len(feature_columns) + 1, len(feature_columns))\n",
        "learning_rate = 0.01\n",
        "threshold = 1e-4\n",
        "max_epochs = 1000\n",
        "\n",
        "for epoch in tqdm(range(max_epochs), desc=\"Training Progress\"):\n",
        "    y_pred = np.dot(np.c_[np.ones(X_train.shape[0]), X_train], beta)\n",
        "    error = y_pred - y_train\n",
        "    mse = np.mean(error ** 2)\n",
        "\n",
        "    gradient = (2 / len(X_train)) * np.dot(np.c_[np.ones(X_train.shape[0]), X_train].T, error)\n",
        "    beta -= learning_rate * gradient\n",
        "\n",
        "    y_test_pred = np.dot(np.c_[np.ones(X_test.shape[0]), X_test], beta)\n",
        "    test_mse = np.mean((y_test_pred - y_test) ** 2)\n",
        "\n",
        "    tqdm.write(f\"Epoch {epoch + 1}: Train MSE={mse:.6f}, Test MSE={test_mse:.6f}\")\n",
        "\n",
        "    if mse < threshold:\n",
        "        print(\"Stopping early as training error is below threshold.\")\n",
        "        break\n",
        "\n",
        "print(\"Final Weights:\", beta)\n",
        "\n"
      ],
      "metadata": {
        "colab": {
          "base_uri": "https://localhost:8080/"
        },
        "id": "vHojNUDE4WKF",
        "outputId": "9da9691a-31c9-404f-8327-8f20b7b875f9"
      },
      "execution_count": null,
      "outputs": [
        {
          "output_type": "stream",
          "name": "stdout",
          "text": [
            "Dataset Columns: ['DATE', 'MONTH', 'BASEL_cloud_cover', 'BASEL_humidity', 'BASEL_pressure', 'BASEL_global_radiation', 'BASEL_precipitation', 'BASEL_sunshine', 'BASEL_temp_mean', 'BASEL_temp_min', 'BASEL_temp_max', 'BUDAPEST_cloud_cover', 'BUDAPEST_humidity', 'BUDAPEST_pressure', 'BUDAPEST_global_radiation', 'BUDAPEST_precipitation', 'BUDAPEST_sunshine', 'BUDAPEST_temp_mean', 'BUDAPEST_temp_max', 'DE_BILT_cloud_cover', 'DE_BILT_wind_speed', 'DE_BILT_wind_gust', 'DE_BILT_humidity', 'DE_BILT_pressure', 'DE_BILT_global_radiation', 'DE_BILT_precipitation', 'DE_BILT_sunshine', 'DE_BILT_temp_mean', 'DE_BILT_temp_min', 'DE_BILT_temp_max', 'DRESDEN_cloud_cover', 'DRESDEN_wind_speed', 'DRESDEN_wind_gust', 'DRESDEN_humidity', 'DRESDEN_global_radiation', 'DRESDEN_precipitation', 'DRESDEN_sunshine', 'DRESDEN_temp_mean', 'DRESDEN_temp_min', 'DRESDEN_temp_max', 'DUSSELDORF_cloud_cover', 'DUSSELDORF_wind_speed', 'DUSSELDORF_wind_gust', 'DUSSELDORF_humidity', 'DUSSELDORF_pressure', 'DUSSELDORF_global_radiation', 'DUSSELDORF_precipitation', 'DUSSELDORF_sunshine', 'DUSSELDORF_temp_mean', 'DUSSELDORF_temp_min', 'DUSSELDORF_temp_max', 'HEATHROW_cloud_cover', 'HEATHROW_humidity', 'HEATHROW_pressure', 'HEATHROW_global_radiation', 'HEATHROW_precipitation', 'HEATHROW_sunshine', 'HEATHROW_temp_mean', 'HEATHROW_temp_min', 'HEATHROW_temp_max', 'KASSEL_wind_speed', 'KASSEL_wind_gust', 'KASSEL_humidity', 'KASSEL_pressure', 'KASSEL_global_radiation', 'KASSEL_precipitation', 'KASSEL_sunshine', 'KASSEL_temp_mean', 'KASSEL_temp_min', 'KASSEL_temp_max', 'LJUBLJANA_cloud_cover', 'LJUBLJANA_wind_speed', 'LJUBLJANA_humidity', 'LJUBLJANA_pressure', 'LJUBLJANA_global_radiation', 'LJUBLJANA_precipitation', 'LJUBLJANA_sunshine', 'LJUBLJANA_temp_mean', 'LJUBLJANA_temp_min', 'LJUBLJANA_temp_max', 'MAASTRICHT_cloud_cover', 'MAASTRICHT_wind_speed', 'MAASTRICHT_wind_gust', 'MAASTRICHT_humidity', 'MAASTRICHT_pressure', 'MAASTRICHT_global_radiation', 'MAASTRICHT_precipitation', 'MAASTRICHT_sunshine', 'MAASTRICHT_temp_mean', 'MAASTRICHT_temp_min', 'MAASTRICHT_temp_max', 'MALMO_wind_speed', 'MALMO_precipitation', 'MALMO_temp_mean', 'MALMO_temp_min', 'MALMO_temp_max', 'MONTELIMAR_wind_speed', 'MONTELIMAR_humidity', 'MONTELIMAR_pressure', 'MONTELIMAR_global_radiation', 'MONTELIMAR_precipitation', 'MONTELIMAR_temp_mean', 'MONTELIMAR_temp_min', 'MONTELIMAR_temp_max', 'MUENCHEN_cloud_cover', 'MUENCHEN_wind_speed', 'MUENCHEN_wind_gust', 'MUENCHEN_humidity', 'MUENCHEN_pressure', 'MUENCHEN_global_radiation', 'MUENCHEN_precipitation', 'MUENCHEN_sunshine', 'MUENCHEN_temp_mean', 'MUENCHEN_temp_min', 'MUENCHEN_temp_max', 'OSLO_cloud_cover', 'OSLO_wind_speed', 'OSLO_wind_gust', 'OSLO_humidity', 'OSLO_pressure', 'OSLO_global_radiation', 'OSLO_precipitation', 'OSLO_sunshine', 'OSLO_temp_mean', 'OSLO_temp_min', 'OSLO_temp_max', 'PERPIGNAN_wind_speed', 'PERPIGNAN_humidity', 'PERPIGNAN_pressure', 'PERPIGNAN_global_radiation', 'PERPIGNAN_precipitation', 'PERPIGNAN_temp_mean', 'PERPIGNAN_temp_min', 'PERPIGNAN_temp_max', 'ROMA_cloud_cover', 'ROMA_humidity', 'ROMA_pressure', 'ROMA_global_radiation', 'ROMA_sunshine', 'ROMA_temp_mean', 'ROMA_temp_min', 'ROMA_temp_max', 'SONNBLICK_cloud_cover', 'SONNBLICK_humidity', 'SONNBLICK_global_radiation', 'SONNBLICK_precipitation', 'SONNBLICK_sunshine', 'SONNBLICK_temp_mean', 'SONNBLICK_temp_min', 'SONNBLICK_temp_max', 'STOCKHOLM_cloud_cover', 'STOCKHOLM_pressure', 'STOCKHOLM_precipitation', 'STOCKHOLM_sunshine', 'STOCKHOLM_temp_mean', 'STOCKHOLM_temp_min', 'STOCKHOLM_temp_max', 'TOURS_wind_speed', 'TOURS_humidity', 'TOURS_pressure', 'TOURS_global_radiation', 'TOURS_precipitation', 'TOURS_temp_mean', 'TOURS_temp_min', 'TOURS_temp_max']\n"
          ]
        },
        {
          "output_type": "stream",
          "name": "stderr",
          "text": [
            "Training Progress:   0%|          | 0/1000 [00:00<?, ?it/s]"
          ]
        },
        {
          "output_type": "stream",
          "name": "stdout",
          "text": [
            "Epoch 1: Train MSE=49.882926, Test MSE=6.243806\n",
            "Epoch 2: Train MSE=6.406363, Test MSE=4.909198\n"
          ]
        },
        {
          "output_type": "stream",
          "name": "stderr",
          "text": [
            "Training Progress:   1%|          | 6/1000 [00:00<00:35, 28.13it/s]"
          ]
        },
        {
          "output_type": "stream",
          "name": "stdout",
          "text": [
            "Epoch 3: Train MSE=5.064478, Test MSE=4.698189\n",
            "Epoch 4: Train MSE=4.843059, Test MSE=4.532629\n",
            "Epoch 5: Train MSE=4.665585, Test MSE=4.380999\n",
            "Epoch 6: Train MSE=4.502582, Test MSE=4.241073\n"
          ]
        },
        {
          "output_type": "stream",
          "name": "stderr",
          "text": [
            "Training Progress:   1%|          | 6/1000 [00:00<00:35, 28.13it/s]"
          ]
        },
        {
          "output_type": "stream",
          "name": "stdout",
          "text": [
            "Epoch 7: Train MSE=4.352133, Test MSE=4.111769\n",
            "Epoch 8: Train MSE=4.213141, Test MSE=3.992168\n"
          ]
        },
        {
          "output_type": "stream",
          "name": "stderr",
          "text": [
            "Training Progress:   1%|▏         | 13/1000 [00:00<00:33, 29.63it/s]"
          ]
        },
        {
          "output_type": "stream",
          "name": "stdout",
          "text": [
            "Epoch 9: Train MSE=4.084627, Test MSE=3.881437\n",
            "Epoch 10: Train MSE=3.965693, Test MSE=3.778818\n",
            "Epoch 11: Train MSE=3.855523, Test MSE=3.683621\n",
            "Epoch 12: Train MSE=3.753369, Test MSE=3.595214\n",
            "Epoch 13: Train MSE=3.658552, Test MSE=3.513023\n"
          ]
        },
        {
          "output_type": "stream",
          "name": "stderr",
          "text": [
            "Training Progress:   1%|▏         | 13/1000 [00:00<00:33, 29.63it/s]"
          ]
        },
        {
          "output_type": "stream",
          "name": "stdout",
          "text": [
            "Epoch 14: Train MSE=3.570450, Test MSE=3.436520\n",
            "Epoch 15: Train MSE=3.488495, Test MSE=3.365227\n"
          ]
        },
        {
          "output_type": "stream",
          "name": "stderr",
          "text": [
            "Training Progress:   2%|▏         | 19/1000 [00:00<00:34, 28.15it/s]"
          ]
        },
        {
          "output_type": "stream",
          "name": "stdout",
          "text": [
            "Epoch 16: Train MSE=3.412170, Test MSE=3.298705\n",
            "Epoch 17: Train MSE=3.341002, Test MSE=3.236556\n",
            "Epoch 18: Train MSE=3.274559, Test MSE=3.178414\n",
            "Epoch 19: Train MSE=3.212447, Test MSE=3.123946\n"
          ]
        },
        {
          "output_type": "stream",
          "name": "stderr",
          "text": [
            "Training Progress:   2%|▏         | 19/1000 [00:00<00:34, 28.15it/s]"
          ]
        },
        {
          "output_type": "stream",
          "name": "stdout",
          "text": [
            "Epoch 20: Train MSE=3.154306, Test MSE=3.072847\n",
            "Epoch 21: Train MSE=3.099808, Test MSE=3.024841\n"
          ]
        },
        {
          "output_type": "stream",
          "name": "stderr",
          "text": [
            "Training Progress:   2%|▎         | 25/1000 [00:00<00:35, 27.40it/s]"
          ]
        },
        {
          "output_type": "stream",
          "name": "stdout",
          "text": [
            "Epoch 22: Train MSE=3.048653, Test MSE=2.979674\n",
            "Epoch 23: Train MSE=3.000567, Test MSE=2.937114\n",
            "Epoch 24: Train MSE=2.955299, Test MSE=2.896949\n",
            "Epoch 25: Train MSE=2.912621, Test MSE=2.858987\n"
          ]
        },
        {
          "output_type": "stream",
          "name": "stderr",
          "text": [
            "Training Progress:   2%|▎         | 25/1000 [00:00<00:35, 27.40it/s]"
          ]
        },
        {
          "output_type": "stream",
          "name": "stdout",
          "text": [
            "Epoch 26: Train MSE=2.872324, Test MSE=2.823050\n",
            "Epoch 27: Train MSE=2.834217, Test MSE=2.788978\n"
          ]
        },
        {
          "output_type": "stream",
          "name": "stderr",
          "text": [
            "                                                                    "
          ]
        },
        {
          "output_type": "stream",
          "name": "stdout",
          "text": [
            "Epoch 28: Train MSE=2.798126, Test MSE=2.756622\n",
            "Epoch 29: Train MSE=2.763892, Test MSE=2.725850\n",
            "Epoch 30: Train MSE=2.731368, Test MSE=2.696536\n",
            "Epoch 31: Train MSE=2.700422, Test MSE=2.668569\n"
          ]
        },
        {
          "output_type": "stream",
          "name": "stderr",
          "text": [
            "Training Progress:   3%|▎         | 32/1000 [00:01<00:34, 28.46it/s]"
          ]
        },
        {
          "output_type": "stream",
          "name": "stdout",
          "text": [
            "Epoch 32: Train MSE=2.670932, Test MSE=2.641847\n",
            "Epoch 33: Train MSE=2.642786, Test MSE=2.616274\n"
          ]
        },
        {
          "output_type": "stream",
          "name": "stderr",
          "text": [
            "Training Progress:   4%|▎         | 35/1000 [00:01<00:37, 25.40it/s]"
          ]
        },
        {
          "output_type": "stream",
          "name": "stdout",
          "text": [
            "Epoch 34: Train MSE=2.615883, Test MSE=2.591764\n",
            "Epoch 35: Train MSE=2.590129, Test MSE=2.568240\n"
          ]
        },
        {
          "output_type": "stream",
          "name": "stderr",
          "text": [
            "Training Progress:   4%|▎         | 35/1000 [00:01<00:37, 25.40it/s]"
          ]
        },
        {
          "output_type": "stream",
          "name": "stdout",
          "text": [
            "Epoch 36: Train MSE=2.565440, Test MSE=2.545629\n"
          ]
        },
        {
          "output_type": "stream",
          "name": "stderr",
          "text": [
            "Training Progress:   4%|▍         | 38/1000 [00:01<00:46, 20.58it/s]"
          ]
        },
        {
          "output_type": "stream",
          "name": "stdout",
          "text": [
            "Epoch 37: Train MSE=2.541737, Test MSE=2.523865\n",
            "Epoch 38: Train MSE=2.518949, Test MSE=2.502887\n"
          ]
        },
        {
          "output_type": "stream",
          "name": "stderr",
          "text": [
            "Training Progress:   4%|▍         | 38/1000 [00:01<00:46, 20.58it/s]"
          ]
        },
        {
          "output_type": "stream",
          "name": "stdout",
          "text": [
            "Epoch 39: Train MSE=2.497010, Test MSE=2.482641\n"
          ]
        },
        {
          "output_type": "stream",
          "name": "stderr",
          "text": [
            "Training Progress:   4%|▍         | 38/1000 [00:01<00:46, 20.58it/s]"
          ]
        },
        {
          "output_type": "stream",
          "name": "stdout",
          "text": [
            "Epoch 40: Train MSE=2.475861, Test MSE=2.463075\n"
          ]
        },
        {
          "output_type": "stream",
          "name": "stderr",
          "text": [
            "Training Progress:   4%|▍         | 41/1000 [00:02<01:18, 12.19it/s]"
          ]
        },
        {
          "output_type": "stream",
          "name": "stdout",
          "text": [
            "Epoch 41: Train MSE=2.455447, Test MSE=2.444144\n",
            "Epoch 42: Train MSE=2.435717, Test MSE=2.425804\n"
          ]
        },
        {
          "output_type": "stream",
          "name": "stderr",
          "text": [
            "Training Progress:   4%|▍         | 45/1000 [00:02<01:23, 11.39it/s]"
          ]
        },
        {
          "output_type": "stream",
          "name": "stdout",
          "text": [
            "Epoch 43: Train MSE=2.416625, Test MSE=2.408017\n",
            "Epoch 44: Train MSE=2.398130, Test MSE=2.390748\n",
            "Epoch 45: Train MSE=2.380191, Test MSE=2.373962\n"
          ]
        },
        {
          "output_type": "stream",
          "name": "stderr",
          "text": [
            "Training Progress:   5%|▍         | 47/1000 [00:02<01:28, 10.82it/s]"
          ]
        },
        {
          "output_type": "stream",
          "name": "stdout",
          "text": [
            "Epoch 46: Train MSE=2.362774, Test MSE=2.357630\n",
            "Epoch 47: Train MSE=2.345846, Test MSE=2.341725\n"
          ]
        },
        {
          "output_type": "stream",
          "name": "stderr",
          "text": [
            "Training Progress:   5%|▍         | 49/1000 [00:02<01:36,  9.90it/s]"
          ]
        },
        {
          "output_type": "stream",
          "name": "stdout",
          "text": [
            "Epoch 48: Train MSE=2.329377, Test MSE=2.326220\n",
            "Epoch 49: Train MSE=2.313339, Test MSE=2.311093\n"
          ]
        },
        {
          "output_type": "stream",
          "name": "stderr",
          "text": [
            "                                                                    "
          ]
        },
        {
          "output_type": "stream",
          "name": "stdout",
          "text": [
            "Epoch 50: Train MSE=2.297707, Test MSE=2.296322\n",
            "Epoch 51: Train MSE=2.282457, Test MSE=2.281888\n"
          ]
        },
        {
          "output_type": "stream",
          "name": "stderr",
          "text": [
            "Training Progress:   5%|▌         | 53/1000 [00:03<01:26, 10.91it/s]"
          ]
        },
        {
          "output_type": "stream",
          "name": "stdout",
          "text": [
            "Epoch 52: Train MSE=2.267568, Test MSE=2.267771\n",
            "Epoch 53: Train MSE=2.253020, Test MSE=2.253955\n",
            "Epoch 54: Train MSE=2.238795, Test MSE=2.240424\n"
          ]
        },
        {
          "output_type": "stream",
          "name": "stderr",
          "text": [
            "Training Progress:   6%|▌         | 57/1000 [00:03<01:20, 11.75it/s]"
          ]
        },
        {
          "output_type": "stream",
          "name": "stdout",
          "text": [
            "Epoch 55: Train MSE=2.224876, Test MSE=2.227165\n",
            "Epoch 56: Train MSE=2.211248, Test MSE=2.214164\n",
            "Epoch 57: Train MSE=2.197895, Test MSE=2.201409\n"
          ]
        },
        {
          "output_type": "stream",
          "name": "stderr",
          "text": [
            "Training Progress:   6%|▌         | 57/1000 [00:03<01:20, 11.75it/s]"
          ]
        },
        {
          "output_type": "stream",
          "name": "stdout",
          "text": [
            "Epoch 58: Train MSE=2.184805, Test MSE=2.188889\n"
          ]
        },
        {
          "output_type": "stream",
          "name": "stderr",
          "text": [
            "Training Progress:   6%|▌         | 59/1000 [00:03<01:43,  9.10it/s]"
          ]
        },
        {
          "output_type": "stream",
          "name": "stdout",
          "text": [
            "Epoch 59: Train MSE=2.171966, Test MSE=2.176592\n",
            "Epoch 60: Train MSE=2.159366, Test MSE=2.164510\n"
          ]
        },
        {
          "output_type": "stream",
          "name": "stderr",
          "text": [
            "Training Progress:   6%|▌         | 61/1000 [00:04<01:49,  8.61it/s]"
          ]
        },
        {
          "output_type": "stream",
          "name": "stdout",
          "text": [
            "Epoch 61: Train MSE=2.146994, Test MSE=2.152633\n"
          ]
        },
        {
          "output_type": "stream",
          "name": "stderr",
          "text": [
            "Training Progress:   6%|▋         | 63/1000 [00:04<02:08,  7.27it/s]"
          ]
        },
        {
          "output_type": "stream",
          "name": "stdout",
          "text": [
            "Epoch 62: Train MSE=2.134841, Test MSE=2.140953\n",
            "Epoch 63: Train MSE=2.122898, Test MSE=2.129463\n"
          ]
        },
        {
          "output_type": "stream",
          "name": "stderr",
          "text": [
            "Training Progress:   6%|▋         | 64/1000 [00:04<02:09,  7.22it/s]"
          ]
        },
        {
          "output_type": "stream",
          "name": "stdout",
          "text": [
            "Epoch 64: Train MSE=2.111156, Test MSE=2.118154\n"
          ]
        },
        {
          "output_type": "stream",
          "name": "stderr",
          "text": [
            "Training Progress:   6%|▋         | 65/1000 [00:04<02:52,  5.43it/s]"
          ]
        },
        {
          "output_type": "stream",
          "name": "stdout",
          "text": [
            "Epoch 65: Train MSE=2.099607, Test MSE=2.107021\n"
          ]
        },
        {
          "output_type": "stream",
          "name": "stderr",
          "text": [
            "Training Progress:   7%|▋         | 67/1000 [00:05<02:57,  5.26it/s]"
          ]
        },
        {
          "output_type": "stream",
          "name": "stdout",
          "text": [
            "Epoch 66: Train MSE=2.088244, Test MSE=2.096057\n",
            "Epoch 67: Train MSE=2.077061, Test MSE=2.085255\n"
          ]
        },
        {
          "output_type": "stream",
          "name": "stderr",
          "text": [
            "Training Progress:   7%|▋         | 68/1000 [00:05<03:22,  4.60it/s]"
          ]
        },
        {
          "output_type": "stream",
          "name": "stdout",
          "text": [
            "Epoch 68: Train MSE=2.066050, Test MSE=2.074612\n"
          ]
        },
        {
          "output_type": "stream",
          "name": "stderr",
          "text": [
            "Training Progress:   7%|▋         | 71/1000 [00:06<02:44,  5.66it/s]"
          ]
        },
        {
          "output_type": "stream",
          "name": "stdout",
          "text": [
            "Epoch 69: Train MSE=2.055206, Test MSE=2.064121\n",
            "Epoch 70: Train MSE=2.044523, Test MSE=2.053777\n",
            "Epoch 71: Train MSE=2.033996, Test MSE=2.043577\n"
          ]
        },
        {
          "output_type": "stream",
          "name": "stderr",
          "text": [
            "Training Progress:   7%|▋         | 73/1000 [00:06<02:48,  5.50it/s]"
          ]
        },
        {
          "output_type": "stream",
          "name": "stdout",
          "text": [
            "Epoch 72: Train MSE=2.023620, Test MSE=2.033515\n",
            "Epoch 73: Train MSE=2.013391, Test MSE=2.023588\n"
          ]
        },
        {
          "output_type": "stream",
          "name": "stderr",
          "text": [
            "Training Progress:   8%|▊         | 75/1000 [00:06<02:31,  6.09it/s]"
          ]
        },
        {
          "output_type": "stream",
          "name": "stdout",
          "text": [
            "Epoch 74: Train MSE=2.003304, Test MSE=2.013793\n",
            "Epoch 75: Train MSE=1.993354, Test MSE=2.004125\n"
          ]
        },
        {
          "output_type": "stream",
          "name": "stderr",
          "text": [
            "Training Progress:   8%|▊         | 77/1000 [00:07<02:31,  6.09it/s]"
          ]
        },
        {
          "output_type": "stream",
          "name": "stdout",
          "text": [
            "Epoch 76: Train MSE=1.983539, Test MSE=1.994581\n",
            "Epoch 77: Train MSE=1.973854, Test MSE=1.985158\n"
          ]
        },
        {
          "output_type": "stream",
          "name": "stderr",
          "text": [
            "Training Progress:   8%|▊         | 79/1000 [00:07<02:00,  7.67it/s]"
          ]
        },
        {
          "output_type": "stream",
          "name": "stdout",
          "text": [
            "Epoch 78: Train MSE=1.964296, Test MSE=1.975853\n",
            "Epoch 79: Train MSE=1.954862, Test MSE=1.966664\n"
          ]
        },
        {
          "output_type": "stream",
          "name": "stderr",
          "text": [
            "Training Progress:   8%|▊         | 82/1000 [00:07<01:47,  8.55it/s]"
          ]
        },
        {
          "output_type": "stream",
          "name": "stdout",
          "text": [
            "Epoch 80: Train MSE=1.945549, Test MSE=1.957586\n",
            "Epoch 81: Train MSE=1.936353, Test MSE=1.948619\n",
            "Epoch 82: Train MSE=1.927272, Test MSE=1.939758\n"
          ]
        },
        {
          "output_type": "stream",
          "name": "stderr",
          "text": [
            "Training Progress:   9%|▊         | 86/1000 [00:07<01:16, 11.96it/s]"
          ]
        },
        {
          "output_type": "stream",
          "name": "stdout",
          "text": [
            "Epoch 83: Train MSE=1.918304, Test MSE=1.931003\n",
            "Epoch 84: Train MSE=1.909445, Test MSE=1.922351\n",
            "Epoch 85: Train MSE=1.900693, Test MSE=1.913799\n",
            "Epoch 86: Train MSE=1.892046, Test MSE=1.905345\n"
          ]
        },
        {
          "output_type": "stream",
          "name": "stderr",
          "text": [
            "Training Progress:   9%|▉         | 88/1000 [00:08<01:21, 11.17it/s]"
          ]
        },
        {
          "output_type": "stream",
          "name": "stdout",
          "text": [
            "Epoch 87: Train MSE=1.883502, Test MSE=1.896988\n",
            "Epoch 88: Train MSE=1.875058, Test MSE=1.888726\n",
            "Epoch 89: Train MSE=1.866713, Test MSE=1.880556\n"
          ]
        },
        {
          "output_type": "stream",
          "name": "stderr",
          "text": [
            "Training Progress:   9%|▉         | 92/1000 [00:08<01:11, 12.69it/s]"
          ]
        },
        {
          "output_type": "stream",
          "name": "stdout",
          "text": [
            "Epoch 90: Train MSE=1.858464, Test MSE=1.872477\n",
            "Epoch 91: Train MSE=1.850310, Test MSE=1.864488\n",
            "Epoch 92: Train MSE=1.842248, Test MSE=1.856586\n",
            "Epoch 93: Train MSE=1.834278, Test MSE=1.848771\n"
          ]
        },
        {
          "output_type": "stream",
          "name": "stderr",
          "text": [
            "Training Progress:  10%|▉         | 96/1000 [00:08<01:10, 12.83it/s]"
          ]
        },
        {
          "output_type": "stream",
          "name": "stdout",
          "text": [
            "Epoch 94: Train MSE=1.826397, Test MSE=1.841040\n",
            "Epoch 95: Train MSE=1.818603, Test MSE=1.833392\n",
            "Epoch 96: Train MSE=1.810895, Test MSE=1.825825\n"
          ]
        },
        {
          "output_type": "stream",
          "name": "stderr",
          "text": [
            "Training Progress:  10%|█         | 100/1000 [00:08<01:06, 13.50it/s]"
          ]
        },
        {
          "output_type": "stream",
          "name": "stdout",
          "text": [
            "Epoch 97: Train MSE=1.803272, Test MSE=1.818339\n",
            "Epoch 98: Train MSE=1.795732, Test MSE=1.810932\n",
            "Epoch 99: Train MSE=1.788274, Test MSE=1.803602\n",
            "Epoch 100: Train MSE=1.780896, Test MSE=1.796348\n"
          ]
        },
        {
          "output_type": "stream",
          "name": "stderr",
          "text": [
            "Training Progress:  10%|█         | 102/1000 [00:09<01:11, 12.63it/s]"
          ]
        },
        {
          "output_type": "stream",
          "name": "stdout",
          "text": [
            "Epoch 101: Train MSE=1.773596, Test MSE=1.789170\n",
            "Epoch 102: Train MSE=1.766374, Test MSE=1.782065\n",
            "Epoch 103: Train MSE=1.759229, Test MSE=1.775033\n"
          ]
        },
        {
          "output_type": "stream",
          "name": "stderr",
          "text": [
            "Training Progress:  11%|█         | 106/1000 [00:09<01:03, 14.16it/s]"
          ]
        },
        {
          "output_type": "stream",
          "name": "stdout",
          "text": [
            "Epoch 104: Train MSE=1.752158, Test MSE=1.768073\n",
            "Epoch 105: Train MSE=1.745160, Test MSE=1.761183\n",
            "Epoch 106: Train MSE=1.738236, Test MSE=1.754362\n"
          ]
        },
        {
          "output_type": "stream",
          "name": "stderr",
          "text": [
            "Training Progress:  11%|█         | 106/1000 [00:09<01:03, 14.16it/s]"
          ]
        },
        {
          "output_type": "stream",
          "name": "stdout",
          "text": [
            "Epoch 107: Train MSE=1.731383, Test MSE=1.747610\n"
          ]
        },
        {
          "output_type": "stream",
          "name": "stderr",
          "text": [
            "Training Progress:  11%|█         | 108/1000 [00:09<01:56,  7.66it/s]"
          ]
        },
        {
          "output_type": "stream",
          "name": "stdout",
          "text": [
            "Epoch 108: Train MSE=1.724600, Test MSE=1.740924\n"
          ]
        },
        {
          "output_type": "stream",
          "name": "stderr",
          "text": [
            "Training Progress:  11%|█         | 110/1000 [00:10<02:23,  6.20it/s]"
          ]
        },
        {
          "output_type": "stream",
          "name": "stdout",
          "text": [
            "Epoch 109: Train MSE=1.717886, Test MSE=1.734305\n",
            "Epoch 110: Train MSE=1.711240, Test MSE=1.727751\n"
          ]
        },
        {
          "output_type": "stream",
          "name": "stderr",
          "text": [
            "Training Progress:  11%|█         | 112/1000 [00:10<02:30,  5.90it/s]"
          ]
        },
        {
          "output_type": "stream",
          "name": "stdout",
          "text": [
            "Epoch 111: Train MSE=1.704661, Test MSE=1.721261\n",
            "Epoch 112: Train MSE=1.698148, Test MSE=1.714834\n"
          ]
        },
        {
          "output_type": "stream",
          "name": "stderr",
          "text": [
            "Training Progress:  11%|█▏        | 114/1000 [00:11<02:19,  6.34it/s]"
          ]
        },
        {
          "output_type": "stream",
          "name": "stdout",
          "text": [
            "Epoch 113: Train MSE=1.691700, Test MSE=1.708470\n",
            "Epoch 114: Train MSE=1.685316, Test MSE=1.702167\n"
          ]
        },
        {
          "output_type": "stream",
          "name": "stderr",
          "text": []
        },
        {
          "output_type": "stream",
          "name": "stdout",
          "text": [
            "Epoch 115: Train MSE=1.678995, Test MSE=1.695925\n",
            "Epoch 116: Train MSE=1.672736, Test MSE=1.689742\n"
          ]
        },
        {
          "output_type": "stream",
          "name": "stderr",
          "text": [
            "Training Progress:  12%|█▏        | 119/1000 [00:11<01:31,  9.67it/s]"
          ]
        },
        {
          "output_type": "stream",
          "name": "stdout",
          "text": [
            "Epoch 117: Train MSE=1.666538, Test MSE=1.683618\n",
            "Epoch 118: Train MSE=1.660400, Test MSE=1.677551\n",
            "Epoch 119: Train MSE=1.654322, Test MSE=1.671542\n"
          ]
        },
        {
          "output_type": "stream",
          "name": "stderr",
          "text": [
            "Training Progress:  12%|█▏        | 121/1000 [00:11<01:46,  8.26it/s]"
          ]
        },
        {
          "output_type": "stream",
          "name": "stdout",
          "text": [
            "Epoch 120: Train MSE=1.648302, Test MSE=1.665590\n",
            "Epoch 121: Train MSE=1.642340, Test MSE=1.659692\n",
            "Epoch 122: Train MSE=1.636435, Test MSE=1.653850\n"
          ]
        },
        {
          "output_type": "stream",
          "name": "stderr",
          "text": [
            "Training Progress:  12%|█▏        | 123/1000 [00:12<01:56,  7.53it/s]"
          ]
        },
        {
          "output_type": "stream",
          "name": "stdout",
          "text": [
            "Epoch 123: Train MSE=1.630585, Test MSE=1.648061\n"
          ]
        },
        {
          "output_type": "stream",
          "name": "stderr",
          "text": [
            "Training Progress:  12%|█▎        | 125/1000 [00:12<02:08,  6.79it/s]"
          ]
        },
        {
          "output_type": "stream",
          "name": "stdout",
          "text": [
            "Epoch 124: Train MSE=1.624791, Test MSE=1.642325\n",
            "Epoch 125: Train MSE=1.619051, Test MSE=1.636642\n"
          ]
        },
        {
          "output_type": "stream",
          "name": "stderr",
          "text": [
            "Training Progress:  13%|█▎        | 127/1000 [00:12<02:33,  5.70it/s]"
          ]
        },
        {
          "output_type": "stream",
          "name": "stdout",
          "text": [
            "Epoch 126: Train MSE=1.613364, Test MSE=1.631011\n",
            "Epoch 127: Train MSE=1.607731, Test MSE=1.625431\n"
          ]
        },
        {
          "output_type": "stream",
          "name": "stderr",
          "text": []
        },
        {
          "output_type": "stream",
          "name": "stdout",
          "text": [
            "Epoch 128: Train MSE=1.602149, Test MSE=1.619901\n",
            "Epoch 129: Train MSE=1.596619, Test MSE=1.614420\n",
            "Epoch 130: Train MSE=1.591140, Test MSE=1.608989\n"
          ]
        },
        {
          "output_type": "stream",
          "name": "stderr",
          "text": [
            "Training Progress:  14%|█▎        | 136/1000 [00:13<00:54, 15.72it/s]"
          ]
        },
        {
          "output_type": "stream",
          "name": "stdout",
          "text": [
            "Epoch 131: Train MSE=1.585710, Test MSE=1.603606\n",
            "Epoch 132: Train MSE=1.580330, Test MSE=1.598270\n",
            "Epoch 133: Train MSE=1.574998, Test MSE=1.592982\n",
            "Epoch 134: Train MSE=1.569714, Test MSE=1.587740\n",
            "Epoch 135: Train MSE=1.564478, Test MSE=1.582543\n",
            "Epoch 136: Train MSE=1.559288, Test MSE=1.577392\n"
          ]
        },
        {
          "output_type": "stream",
          "name": "stderr",
          "text": [
            "Training Progress:  14%|█▍        | 142/1000 [00:13<00:40, 21.26it/s]"
          ]
        },
        {
          "output_type": "stream",
          "name": "stdout",
          "text": [
            "Epoch 137: Train MSE=1.554144, Test MSE=1.572285\n",
            "Epoch 138: Train MSE=1.549045, Test MSE=1.567223\n",
            "Epoch 139: Train MSE=1.543991, Test MSE=1.562203\n",
            "Epoch 140: Train MSE=1.538981, Test MSE=1.557227\n",
            "Epoch 141: Train MSE=1.534015, Test MSE=1.552292\n",
            "Epoch 142: Train MSE=1.529091, Test MSE=1.547400\n"
          ]
        },
        {
          "output_type": "stream",
          "name": "stderr",
          "text": [
            "Training Progress:  14%|█▍        | 145/1000 [00:13<00:36, 23.49it/s]"
          ]
        },
        {
          "output_type": "stream",
          "name": "stdout",
          "text": [
            "Epoch 143: Train MSE=1.524210, Test MSE=1.542548\n",
            "Epoch 144: Train MSE=1.519371, Test MSE=1.537737\n",
            "Epoch 145: Train MSE=1.514573, Test MSE=1.532967\n",
            "Epoch 146: Train MSE=1.509816, Test MSE=1.528236\n",
            "Epoch 147: Train MSE=1.505099, Test MSE=1.523544\n",
            "Epoch 148: Train MSE=1.500422, Test MSE=1.518890\n"
          ]
        },
        {
          "output_type": "stream",
          "name": "stderr",
          "text": [
            "Training Progress:  15%|█▌        | 152/1000 [00:14<00:34, 24.88it/s]"
          ]
        },
        {
          "output_type": "stream",
          "name": "stdout",
          "text": [
            "Epoch 149: Train MSE=1.495783, Test MSE=1.514275\n",
            "Epoch 150: Train MSE=1.491184, Test MSE=1.509697\n",
            "Epoch 151: Train MSE=1.486622, Test MSE=1.505156\n",
            "Epoch 152: Train MSE=1.482098, Test MSE=1.500652\n",
            "Epoch 153: Train MSE=1.477611, Test MSE=1.496184\n",
            "Epoch 154: Train MSE=1.473161, Test MSE=1.491752\n"
          ]
        },
        {
          "output_type": "stream",
          "name": "stderr",
          "text": [
            "Training Progress:  16%|█▌        | 158/1000 [00:14<00:35, 23.90it/s]"
          ]
        },
        {
          "output_type": "stream",
          "name": "stdout",
          "text": [
            "Epoch 155: Train MSE=1.468748, Test MSE=1.487355\n",
            "Epoch 156: Train MSE=1.464369, Test MSE=1.482993\n",
            "Epoch 157: Train MSE=1.460027, Test MSE=1.478666\n",
            "Epoch 158: Train MSE=1.455719, Test MSE=1.474372\n",
            "Epoch 159: Train MSE=1.451445, Test MSE=1.470113\n"
          ]
        },
        {
          "output_type": "stream",
          "name": "stderr",
          "text": [
            "Training Progress:  16%|█▋        | 164/1000 [00:14<00:33, 24.59it/s]"
          ]
        },
        {
          "output_type": "stream",
          "name": "stdout",
          "text": [
            "Epoch 160: Train MSE=1.447206, Test MSE=1.465886\n",
            "Epoch 161: Train MSE=1.443000, Test MSE=1.461692\n",
            "Epoch 162: Train MSE=1.438827, Test MSE=1.457530\n",
            "Epoch 163: Train MSE=1.434686, Test MSE=1.453401\n",
            "Epoch 164: Train MSE=1.430579, Test MSE=1.449303\n",
            "Epoch 165: Train MSE=1.426503, Test MSE=1.445236\n"
          ]
        },
        {
          "output_type": "stream",
          "name": "stderr",
          "text": [
            "Training Progress:  17%|█▋        | 170/1000 [00:14<00:32, 25.79it/s]"
          ]
        },
        {
          "output_type": "stream",
          "name": "stdout",
          "text": [
            "Epoch 166: Train MSE=1.422458, Test MSE=1.441200\n",
            "Epoch 167: Train MSE=1.418445, Test MSE=1.437194\n",
            "Epoch 168: Train MSE=1.414462, Test MSE=1.433219\n",
            "Epoch 169: Train MSE=1.410510, Test MSE=1.429273\n",
            "Epoch 170: Train MSE=1.406588, Test MSE=1.425356\n",
            "Epoch 171: Train MSE=1.402695, Test MSE=1.421469\n"
          ]
        },
        {
          "output_type": "stream",
          "name": "stderr",
          "text": [
            "Training Progress:  18%|█▊        | 176/1000 [00:15<00:31, 26.00it/s]"
          ]
        },
        {
          "output_type": "stream",
          "name": "stdout",
          "text": [
            "Epoch 172: Train MSE=1.398832, Test MSE=1.417610\n",
            "Epoch 173: Train MSE=1.394998, Test MSE=1.413780\n",
            "Epoch 174: Train MSE=1.391192, Test MSE=1.409978\n",
            "Epoch 175: Train MSE=1.387414, Test MSE=1.406203\n",
            "Epoch 176: Train MSE=1.383665, Test MSE=1.402456\n",
            "Epoch 177: Train MSE=1.379943, Test MSE=1.398736\n"
          ]
        },
        {
          "output_type": "stream",
          "name": "stderr",
          "text": [
            "Training Progress:  18%|█▊        | 182/1000 [00:15<00:31, 26.04it/s]"
          ]
        },
        {
          "output_type": "stream",
          "name": "stdout",
          "text": [
            "Epoch 178: Train MSE=1.376248, Test MSE=1.395042\n",
            "Epoch 179: Train MSE=1.372580, Test MSE=1.391375\n",
            "Epoch 180: Train MSE=1.368939, Test MSE=1.387734\n",
            "Epoch 181: Train MSE=1.365324, Test MSE=1.384119\n",
            "Epoch 182: Train MSE=1.361735, Test MSE=1.380530\n",
            "Epoch 183: Train MSE=1.358172, Test MSE=1.376965\n"
          ]
        },
        {
          "output_type": "stream",
          "name": "stderr",
          "text": []
        },
        {
          "output_type": "stream",
          "name": "stdout",
          "text": [
            "Epoch 184: Train MSE=1.354634, Test MSE=1.373426\n",
            "Epoch 185: Train MSE=1.351121, Test MSE=1.369911\n",
            "Epoch 186: Train MSE=1.347633, Test MSE=1.366421\n",
            "Epoch 187: Train MSE=1.344170, Test MSE=1.362954\n",
            "Epoch 188: Train MSE=1.340731, Test MSE=1.359512\n",
            "Epoch 189: Train MSE=1.337315, Test MSE=1.356093\n"
          ]
        },
        {
          "output_type": "stream",
          "name": "stderr",
          "text": []
        },
        {
          "output_type": "stream",
          "name": "stdout",
          "text": [
            "Epoch 190: Train MSE=1.333924, Test MSE=1.352698\n",
            "Epoch 191: Train MSE=1.330556, Test MSE=1.349325\n",
            "Epoch 192: Train MSE=1.327211, Test MSE=1.345976\n",
            "Epoch 193: Train MSE=1.323889, Test MSE=1.342648\n",
            "Epoch 194: Train MSE=1.320589, Test MSE=1.339344\n",
            "Epoch 195: Train MSE=1.317312, Test MSE=1.336061\n",
            "Epoch 196: Train MSE=1.314058, Test MSE=1.332800\n"
          ]
        },
        {
          "output_type": "stream",
          "name": "stderr",
          "text": [
            "Training Progress:  20%|██        | 202/1000 [00:15<00:27, 28.69it/s]"
          ]
        },
        {
          "output_type": "stream",
          "name": "stdout",
          "text": [
            "Epoch 197: Train MSE=1.310825, Test MSE=1.329561\n",
            "Epoch 198: Train MSE=1.307613, Test MSE=1.326343\n",
            "Epoch 199: Train MSE=1.304423, Test MSE=1.323146\n",
            "Epoch 200: Train MSE=1.301255, Test MSE=1.319970\n",
            "Epoch 201: Train MSE=1.298107, Test MSE=1.316814\n",
            "Epoch 202: Train MSE=1.294980, Test MSE=1.313679\n"
          ]
        },
        {
          "output_type": "stream",
          "name": "stderr",
          "text": [
            "Training Progress:  21%|██        | 208/1000 [00:16<00:28, 27.75it/s]"
          ]
        },
        {
          "output_type": "stream",
          "name": "stdout",
          "text": [
            "Epoch 203: Train MSE=1.291873, Test MSE=1.310565\n",
            "Epoch 204: Train MSE=1.288787, Test MSE=1.307470\n",
            "Epoch 205: Train MSE=1.285721, Test MSE=1.304395\n",
            "Epoch 206: Train MSE=1.282675, Test MSE=1.301340\n",
            "Epoch 207: Train MSE=1.279648, Test MSE=1.298304\n",
            "Epoch 208: Train MSE=1.276641, Test MSE=1.295287\n"
          ]
        },
        {
          "output_type": "stream",
          "name": "stderr",
          "text": [
            "Training Progress:  22%|██▏       | 215/1000 [00:16<00:26, 29.51it/s]"
          ]
        },
        {
          "output_type": "stream",
          "name": "stdout",
          "text": [
            "Epoch 209: Train MSE=1.273653, Test MSE=1.292290\n",
            "Epoch 210: Train MSE=1.270684, Test MSE=1.289311\n",
            "Epoch 211: Train MSE=1.267733, Test MSE=1.286350\n",
            "Epoch 212: Train MSE=1.264802, Test MSE=1.283408\n",
            "Epoch 213: Train MSE=1.261888, Test MSE=1.280485\n",
            "Epoch 214: Train MSE=1.258993, Test MSE=1.277579\n",
            "Epoch 215: Train MSE=1.256116, Test MSE=1.274691\n"
          ]
        },
        {
          "output_type": "stream",
          "name": "stderr",
          "text": [
            "Training Progress:  22%|██▏       | 221/1000 [00:16<00:26, 28.87it/s]"
          ]
        },
        {
          "output_type": "stream",
          "name": "stdout",
          "text": [
            "Epoch 216: Train MSE=1.253257, Test MSE=1.271821\n",
            "Epoch 217: Train MSE=1.250416, Test MSE=1.268968\n",
            "Epoch 218: Train MSE=1.247592, Test MSE=1.266132\n",
            "Epoch 219: Train MSE=1.244785, Test MSE=1.263314\n",
            "Epoch 220: Train MSE=1.241996, Test MSE=1.260513\n",
            "Epoch 221: Train MSE=1.239223, Test MSE=1.257728\n"
          ]
        },
        {
          "output_type": "stream",
          "name": "stderr",
          "text": [
            "Training Progress:  23%|██▎       | 227/1000 [00:16<00:27, 28.18it/s]"
          ]
        },
        {
          "output_type": "stream",
          "name": "stdout",
          "text": [
            "Epoch 222: Train MSE=1.236467, Test MSE=1.254960\n",
            "Epoch 223: Train MSE=1.233728, Test MSE=1.252209\n",
            "Epoch 224: Train MSE=1.231005, Test MSE=1.249473\n",
            "Epoch 225: Train MSE=1.228299, Test MSE=1.246754\n",
            "Epoch 226: Train MSE=1.225608, Test MSE=1.244051\n",
            "Epoch 227: Train MSE=1.222934, Test MSE=1.241364\n"
          ]
        },
        {
          "output_type": "stream",
          "name": "stderr",
          "text": [
            "Training Progress:  23%|██▎       | 233/1000 [00:17<00:28, 27.14it/s]"
          ]
        },
        {
          "output_type": "stream",
          "name": "stdout",
          "text": [
            "Epoch 228: Train MSE=1.220275, Test MSE=1.238692\n",
            "Epoch 229: Train MSE=1.217632, Test MSE=1.236036\n",
            "Epoch 230: Train MSE=1.215005, Test MSE=1.233395\n",
            "Epoch 231: Train MSE=1.212393, Test MSE=1.230769\n",
            "Epoch 232: Train MSE=1.209796, Test MSE=1.228159\n",
            "Epoch 233: Train MSE=1.207214, Test MSE=1.225563\n"
          ]
        },
        {
          "output_type": "stream",
          "name": "stderr",
          "text": [
            "                                                                     "
          ]
        },
        {
          "output_type": "stream",
          "name": "stdout",
          "text": [
            "Epoch 234: Train MSE=1.204646, Test MSE=1.222982\n",
            "Epoch 235: Train MSE=1.202094, Test MSE=1.220416\n",
            "Epoch 236: Train MSE=1.199556, Test MSE=1.217864\n",
            "Epoch 237: Train MSE=1.197033, Test MSE=1.215327\n",
            "Epoch 238: Train MSE=1.194524, Test MSE=1.212804\n"
          ]
        },
        {
          "output_type": "stream",
          "name": "stderr",
          "text": [
            "Training Progress:  24%|██▍       | 242/1000 [00:17<00:30, 25.05it/s]"
          ]
        },
        {
          "output_type": "stream",
          "name": "stdout",
          "text": [
            "Epoch 239: Train MSE=1.192029, Test MSE=1.210295\n",
            "Epoch 240: Train MSE=1.189548, Test MSE=1.207799\n",
            "Epoch 241: Train MSE=1.187082, Test MSE=1.205318\n",
            "Epoch 242: Train MSE=1.184629, Test MSE=1.202850\n",
            "Epoch 243: Train MSE=1.182189, Test MSE=1.200396\n"
          ]
        },
        {
          "output_type": "stream",
          "name": "stderr",
          "text": [
            "Training Progress:  25%|██▍       | 248/1000 [00:17<00:33, 22.72it/s]"
          ]
        },
        {
          "output_type": "stream",
          "name": "stdout",
          "text": [
            "Epoch 244: Train MSE=1.179763, Test MSE=1.197956\n",
            "Epoch 245: Train MSE=1.177351, Test MSE=1.195528\n",
            "Epoch 246: Train MSE=1.174952, Test MSE=1.193114\n",
            "Epoch 247: Train MSE=1.172565, Test MSE=1.190713\n",
            "Epoch 248: Train MSE=1.170192, Test MSE=1.188325\n"
          ]
        },
        {
          "output_type": "stream",
          "name": "stderr",
          "text": [
            "Training Progress:  25%|██▌       | 251/1000 [00:17<00:34, 21.50it/s]"
          ]
        },
        {
          "output_type": "stream",
          "name": "stdout",
          "text": [
            "Epoch 249: Train MSE=1.167832, Test MSE=1.185950\n",
            "Epoch 250: Train MSE=1.165485, Test MSE=1.183588\n",
            "Epoch 251: Train MSE=1.163150, Test MSE=1.181238\n",
            "Epoch 252: Train MSE=1.160828, Test MSE=1.178900\n"
          ]
        },
        {
          "output_type": "stream",
          "name": "stderr",
          "text": [
            "Training Progress:  25%|██▌       | 254/1000 [00:18<00:35, 20.91it/s]"
          ]
        },
        {
          "output_type": "stream",
          "name": "stdout",
          "text": [
            "Epoch 253: Train MSE=1.158518, Test MSE=1.176575\n",
            "Epoch 254: Train MSE=1.156221, Test MSE=1.174263\n",
            "Epoch 255: Train MSE=1.153936, Test MSE=1.171962\n",
            "Epoch 256: Train MSE=1.151663, Test MSE=1.169673\n"
          ]
        },
        {
          "output_type": "stream",
          "name": "stderr",
          "text": [
            "Training Progress:  26%|██▌       | 260/1000 [00:18<00:37, 19.56it/s]"
          ]
        },
        {
          "output_type": "stream",
          "name": "stdout",
          "text": [
            "Epoch 257: Train MSE=1.149402, Test MSE=1.167397\n",
            "Epoch 258: Train MSE=1.147153, Test MSE=1.165132\n",
            "Epoch 259: Train MSE=1.144915, Test MSE=1.162879\n",
            "Epoch 260: Train MSE=1.142689, Test MSE=1.160638\n"
          ]
        },
        {
          "output_type": "stream",
          "name": "stderr",
          "text": [
            "Training Progress:  26%|██▋       | 264/1000 [00:18<00:39, 18.80it/s]"
          ]
        },
        {
          "output_type": "stream",
          "name": "stdout",
          "text": [
            "Epoch 261: Train MSE=1.140475, Test MSE=1.158408\n",
            "Epoch 262: Train MSE=1.138273, Test MSE=1.156190\n",
            "Epoch 263: Train MSE=1.136081, Test MSE=1.153982\n",
            "Epoch 264: Train MSE=1.133901, Test MSE=1.151787\n"
          ]
        },
        {
          "output_type": "stream",
          "name": "stderr",
          "text": [
            "Training Progress:  27%|██▋       | 268/1000 [00:18<00:38, 18.83it/s]"
          ]
        },
        {
          "output_type": "stream",
          "name": "stdout",
          "text": [
            "Epoch 265: Train MSE=1.131733, Test MSE=1.149602\n",
            "Epoch 266: Train MSE=1.129575, Test MSE=1.147428\n",
            "Epoch 267: Train MSE=1.127428, Test MSE=1.145266\n",
            "Epoch 268: Train MSE=1.125292, Test MSE=1.143114\n"
          ]
        },
        {
          "output_type": "stream",
          "name": "stderr",
          "text": [
            "                                                                     "
          ]
        },
        {
          "output_type": "stream",
          "name": "stdout",
          "text": [
            "Epoch 269: Train MSE=1.123167, Test MSE=1.140973\n",
            "Epoch 270: Train MSE=1.121053, Test MSE=1.138843\n",
            "Epoch 271: Train MSE=1.118949, Test MSE=1.136723\n",
            "Epoch 272: Train MSE=1.116856, Test MSE=1.134614\n"
          ]
        },
        {
          "output_type": "stream",
          "name": "stderr",
          "text": [
            "Training Progress:  28%|██▊       | 275/1000 [00:19<00:38, 18.87it/s]"
          ]
        },
        {
          "output_type": "stream",
          "name": "stdout",
          "text": [
            "Epoch 273: Train MSE=1.114773, Test MSE=1.132515\n",
            "Epoch 274: Train MSE=1.112700, Test MSE=1.130426\n",
            "Epoch 275: Train MSE=1.110638, Test MSE=1.128348\n",
            "Epoch 276: Train MSE=1.108586, Test MSE=1.126280\n"
          ]
        },
        {
          "output_type": "stream",
          "name": "stderr",
          "text": [
            "Training Progress:  28%|██▊       | 279/1000 [00:19<00:38, 18.61it/s]"
          ]
        },
        {
          "output_type": "stream",
          "name": "stdout",
          "text": [
            "Epoch 277: Train MSE=1.106544, Test MSE=1.124222\n",
            "Epoch 278: Train MSE=1.104512, Test MSE=1.122173\n",
            "Epoch 279: Train MSE=1.102490, Test MSE=1.120135\n",
            "Epoch 280: Train MSE=1.100477, Test MSE=1.118107\n"
          ]
        },
        {
          "output_type": "stream",
          "name": "stderr",
          "text": [
            "Training Progress:  28%|██▊       | 283/1000 [00:19<00:39, 18.25it/s]"
          ]
        },
        {
          "output_type": "stream",
          "name": "stdout",
          "text": [
            "Epoch 281: Train MSE=1.098475, Test MSE=1.116088\n",
            "Epoch 282: Train MSE=1.096482, Test MSE=1.114079\n",
            "Epoch 283: Train MSE=1.094499, Test MSE=1.112080\n",
            "Epoch 284: Train MSE=1.092525, Test MSE=1.110090\n"
          ]
        },
        {
          "output_type": "stream",
          "name": "stderr",
          "text": [
            "Training Progress:  29%|██▊       | 287/1000 [00:19<00:39, 18.18it/s]"
          ]
        },
        {
          "output_type": "stream",
          "name": "stdout",
          "text": [
            "Epoch 285: Train MSE=1.090561, Test MSE=1.108110\n",
            "Epoch 286: Train MSE=1.088606, Test MSE=1.106139\n",
            "Epoch 287: Train MSE=1.086660, Test MSE=1.104177\n",
            "Epoch 288: Train MSE=1.084724, Test MSE=1.102224\n"
          ]
        },
        {
          "output_type": "stream",
          "name": "stderr",
          "text": []
        },
        {
          "output_type": "stream",
          "name": "stdout",
          "text": [
            "Epoch 289: Train MSE=1.082796, Test MSE=1.100281\n",
            "Epoch 290: Train MSE=1.080878, Test MSE=1.098347\n",
            "Epoch 291: Train MSE=1.078969, Test MSE=1.096421\n",
            "Epoch 292: Train MSE=1.077068, Test MSE=1.094505\n"
          ]
        },
        {
          "output_type": "stream",
          "name": "stderr",
          "text": [
            "Training Progress:  29%|██▉       | 294/1000 [00:20<00:36, 19.35it/s]"
          ]
        },
        {
          "output_type": "stream",
          "name": "stdout",
          "text": [
            "Epoch 293: Train MSE=1.075177, Test MSE=1.092597\n",
            "Epoch 294: Train MSE=1.073294, Test MSE=1.090698\n"
          ]
        },
        {
          "output_type": "stream",
          "name": "stderr",
          "text": [
            "Training Progress:  29%|██▉       | 294/1000 [00:20<00:36, 19.35it/s]"
          ]
        },
        {
          "output_type": "stream",
          "name": "stdout",
          "text": [
            "Epoch 295: Train MSE=1.071420, Test MSE=1.088808\n"
          ]
        },
        {
          "output_type": "stream",
          "name": "stderr",
          "text": [
            "Training Progress:  30%|██▉       | 298/1000 [00:20<01:02, 11.22it/s]"
          ]
        },
        {
          "output_type": "stream",
          "name": "stdout",
          "text": [
            "Epoch 296: Train MSE=1.069555, Test MSE=1.086927\n",
            "Epoch 297: Train MSE=1.067698, Test MSE=1.085054\n",
            "Epoch 298: Train MSE=1.065850, Test MSE=1.083189\n",
            "Epoch 299: Train MSE=1.064010, Test MSE=1.081334\n"
          ]
        },
        {
          "output_type": "stream",
          "name": "stderr",
          "text": [
            "Training Progress:  30%|███       | 302/1000 [00:20<00:49, 14.06it/s]"
          ]
        },
        {
          "output_type": "stream",
          "name": "stdout",
          "text": [
            "Epoch 300: Train MSE=1.062178, Test MSE=1.079486\n",
            "Epoch 301: Train MSE=1.060355, Test MSE=1.077647\n",
            "Epoch 302: Train MSE=1.058540, Test MSE=1.075816\n",
            "Epoch 303: Train MSE=1.056733, Test MSE=1.073993\n"
          ]
        },
        {
          "output_type": "stream",
          "name": "stderr",
          "text": [
            "Training Progress:  31%|███       | 306/1000 [00:21<00:48, 14.23it/s]"
          ]
        },
        {
          "output_type": "stream",
          "name": "stdout",
          "text": [
            "Epoch 304: Train MSE=1.054935, Test MSE=1.072178\n",
            "Epoch 305: Train MSE=1.053144, Test MSE=1.070372\n",
            "Epoch 306: Train MSE=1.051361, Test MSE=1.068573\n"
          ]
        },
        {
          "output_type": "stream",
          "name": "stderr",
          "text": [
            "Training Progress:  31%|███       | 310/1000 [00:21<00:45, 15.26it/s]"
          ]
        },
        {
          "output_type": "stream",
          "name": "stdout",
          "text": [
            "Epoch 307: Train MSE=1.049587, Test MSE=1.066783\n",
            "Epoch 308: Train MSE=1.047820, Test MSE=1.065000\n",
            "Epoch 309: Train MSE=1.046061, Test MSE=1.063225\n",
            "Epoch 310: Train MSE=1.044309, Test MSE=1.061458\n"
          ]
        },
        {
          "output_type": "stream",
          "name": "stderr",
          "text": [
            "Training Progress:  31%|███▏      | 314/1000 [00:21<00:40, 16.80it/s]"
          ]
        },
        {
          "output_type": "stream",
          "name": "stdout",
          "text": [
            "Epoch 311: Train MSE=1.042566, Test MSE=1.059699\n",
            "Epoch 312: Train MSE=1.040830, Test MSE=1.057947\n",
            "Epoch 313: Train MSE=1.039102, Test MSE=1.056203\n",
            "Epoch 314: Train MSE=1.037381, Test MSE=1.054466\n"
          ]
        },
        {
          "output_type": "stream",
          "name": "stderr",
          "text": [
            "Training Progress:  32%|███▏      | 318/1000 [00:21<00:40, 16.90it/s]"
          ]
        },
        {
          "output_type": "stream",
          "name": "stdout",
          "text": [
            "Epoch 315: Train MSE=1.035667, Test MSE=1.052737\n",
            "Epoch 316: Train MSE=1.033962, Test MSE=1.051016\n",
            "Epoch 317: Train MSE=1.032263, Test MSE=1.049302\n",
            "Epoch 318: Train MSE=1.030572, Test MSE=1.047595\n"
          ]
        },
        {
          "output_type": "stream",
          "name": "stderr",
          "text": [
            "Training Progress:  32%|███▏      | 322/1000 [00:22<00:41, 16.49it/s]"
          ]
        },
        {
          "output_type": "stream",
          "name": "stdout",
          "text": [
            "Epoch 319: Train MSE=1.028888, Test MSE=1.045895\n",
            "Epoch 320: Train MSE=1.027211, Test MSE=1.044203\n",
            "Epoch 321: Train MSE=1.025541, Test MSE=1.042518\n",
            "Epoch 322: Train MSE=1.023879, Test MSE=1.040839\n"
          ]
        },
        {
          "output_type": "stream",
          "name": "stderr",
          "text": [
            "Training Progress:  33%|███▎      | 326/1000 [00:22<00:41, 16.31it/s]"
          ]
        },
        {
          "output_type": "stream",
          "name": "stdout",
          "text": [
            "Epoch 323: Train MSE=1.022223, Test MSE=1.039168\n",
            "Epoch 324: Train MSE=1.020575, Test MSE=1.037504\n",
            "Epoch 325: Train MSE=1.018933, Test MSE=1.035847\n",
            "Epoch 326: Train MSE=1.017298, Test MSE=1.034197\n"
          ]
        },
        {
          "output_type": "stream",
          "name": "stderr",
          "text": [
            "Training Progress:  33%|███▎      | 328/1000 [00:22<00:41, 16.26it/s]"
          ]
        },
        {
          "output_type": "stream",
          "name": "stdout",
          "text": [
            "Epoch 327: Train MSE=1.015671, Test MSE=1.032554\n",
            "Epoch 328: Train MSE=1.014050, Test MSE=1.030918\n",
            "Epoch 329: Train MSE=1.012435, Test MSE=1.029288\n",
            "Epoch 330: Train MSE=1.010828, Test MSE=1.027665\n"
          ]
        },
        {
          "output_type": "stream",
          "name": "stderr",
          "text": [
            "Training Progress:  33%|███▎      | 334/1000 [00:22<00:33, 19.78it/s]"
          ]
        },
        {
          "output_type": "stream",
          "name": "stdout",
          "text": [
            "Epoch 331: Train MSE=1.009227, Test MSE=1.026049\n",
            "Epoch 332: Train MSE=1.007632, Test MSE=1.024440\n",
            "Epoch 333: Train MSE=1.006045, Test MSE=1.022837\n",
            "Epoch 334: Train MSE=1.004463, Test MSE=1.021240\n",
            "Epoch 335: Train MSE=1.002889, Test MSE=1.019651\n"
          ]
        },
        {
          "output_type": "stream",
          "name": "stderr",
          "text": [
            "Training Progress:  34%|███▍      | 340/1000 [00:23<00:28, 23.22it/s]"
          ]
        },
        {
          "output_type": "stream",
          "name": "stdout",
          "text": [
            "Epoch 336: Train MSE=1.001320, Test MSE=1.018067\n",
            "Epoch 337: Train MSE=0.999758, Test MSE=1.016490\n",
            "Epoch 338: Train MSE=0.998203, Test MSE=1.014920\n",
            "Epoch 339: Train MSE=0.996653, Test MSE=1.013355\n",
            "Epoch 340: Train MSE=0.995110, Test MSE=1.011797\n",
            "Epoch 341: Train MSE=0.993573, Test MSE=1.010245\n"
          ]
        },
        {
          "output_type": "stream",
          "name": "stderr",
          "text": [
            "Training Progress:  35%|███▍      | 346/1000 [00:23<00:25, 25.22it/s]"
          ]
        },
        {
          "output_type": "stream",
          "name": "stdout",
          "text": [
            "Epoch 342: Train MSE=0.992043, Test MSE=1.008700\n",
            "Epoch 343: Train MSE=0.990518, Test MSE=1.007161\n",
            "Epoch 344: Train MSE=0.989000, Test MSE=1.005627\n",
            "Epoch 345: Train MSE=0.987487, Test MSE=1.004100\n",
            "Epoch 346: Train MSE=0.985981, Test MSE=1.002579\n",
            "Epoch 347: Train MSE=0.984480, Test MSE=1.001064\n"
          ]
        },
        {
          "output_type": "stream",
          "name": "stderr",
          "text": [
            "Training Progress:  35%|███▌      | 353/1000 [00:23<00:23, 27.85it/s]"
          ]
        },
        {
          "output_type": "stream",
          "name": "stdout",
          "text": [
            "Epoch 348: Train MSE=0.982986, Test MSE=0.999555\n",
            "Epoch 349: Train MSE=0.981497, Test MSE=0.998051\n",
            "Epoch 350: Train MSE=0.980014, Test MSE=0.996554\n",
            "Epoch 351: Train MSE=0.978537, Test MSE=0.995062\n",
            "Epoch 352: Train MSE=0.977066, Test MSE=0.993577\n",
            "Epoch 353: Train MSE=0.975600, Test MSE=0.992097\n",
            "Epoch 354: Train MSE=0.974140, Test MSE=0.990622\n"
          ]
        },
        {
          "output_type": "stream",
          "name": "stderr",
          "text": [
            "Training Progress:  36%|███▌      | 359/1000 [00:23<00:24, 26.36it/s]"
          ]
        },
        {
          "output_type": "stream",
          "name": "stdout",
          "text": [
            "Epoch 355: Train MSE=0.972686, Test MSE=0.989154\n",
            "Epoch 356: Train MSE=0.971237, Test MSE=0.987691\n",
            "Epoch 357: Train MSE=0.969794, Test MSE=0.986234\n",
            "Epoch 358: Train MSE=0.968357, Test MSE=0.984782\n",
            "Epoch 359: Train MSE=0.966925, Test MSE=0.983336\n",
            "Epoch 360: Train MSE=0.965498, Test MSE=0.981895\n"
          ]
        },
        {
          "output_type": "stream",
          "name": "stderr",
          "text": [
            "Training Progress:  36%|███▋      | 365/1000 [00:23<00:23, 26.68it/s]"
          ]
        },
        {
          "output_type": "stream",
          "name": "stdout",
          "text": [
            "Epoch 361: Train MSE=0.964077, Test MSE=0.980460\n",
            "Epoch 362: Train MSE=0.962662, Test MSE=0.979030\n",
            "Epoch 363: Train MSE=0.961251, Test MSE=0.977606\n",
            "Epoch 364: Train MSE=0.959846, Test MSE=0.976187\n",
            "Epoch 365: Train MSE=0.958447, Test MSE=0.974773\n",
            "Epoch 366: Train MSE=0.957052, Test MSE=0.973365\n"
          ]
        },
        {
          "output_type": "stream",
          "name": "stderr",
          "text": [
            "Training Progress:  37%|███▋      | 372/1000 [00:24<00:22, 27.51it/s]"
          ]
        },
        {
          "output_type": "stream",
          "name": "stdout",
          "text": [
            "Epoch 367: Train MSE=0.955663, Test MSE=0.971962\n",
            "Epoch 368: Train MSE=0.954279, Test MSE=0.970564\n",
            "Epoch 369: Train MSE=0.952900, Test MSE=0.969172\n",
            "Epoch 370: Train MSE=0.951527, Test MSE=0.967784\n",
            "Epoch 371: Train MSE=0.950158, Test MSE=0.966402\n",
            "Epoch 372: Train MSE=0.948795, Test MSE=0.965025\n"
          ]
        },
        {
          "output_type": "stream",
          "name": "stderr",
          "text": [
            "Training Progress:  38%|███▊      | 378/1000 [00:24<00:22, 27.71it/s]"
          ]
        },
        {
          "output_type": "stream",
          "name": "stdout",
          "text": [
            "Epoch 373: Train MSE=0.947436, Test MSE=0.963653\n",
            "Epoch 374: Train MSE=0.946083, Test MSE=0.962286\n",
            "Epoch 375: Train MSE=0.944734, Test MSE=0.960924\n",
            "Epoch 376: Train MSE=0.943391, Test MSE=0.959567\n",
            "Epoch 377: Train MSE=0.942052, Test MSE=0.958215\n",
            "Epoch 378: Train MSE=0.940718, Test MSE=0.956868\n"
          ]
        },
        {
          "output_type": "stream",
          "name": "stderr",
          "text": [
            "Training Progress:  38%|███▊      | 384/1000 [00:24<00:22, 27.08it/s]"
          ]
        },
        {
          "output_type": "stream",
          "name": "stdout",
          "text": [
            "Epoch 379: Train MSE=0.939389, Test MSE=0.955526\n",
            "Epoch 380: Train MSE=0.938065, Test MSE=0.954188\n",
            "Epoch 381: Train MSE=0.936746, Test MSE=0.952856\n",
            "Epoch 382: Train MSE=0.935431, Test MSE=0.951528\n",
            "Epoch 383: Train MSE=0.934122, Test MSE=0.950205\n",
            "Epoch 384: Train MSE=0.932816, Test MSE=0.948887\n"
          ]
        },
        {
          "output_type": "stream",
          "name": "stderr",
          "text": [
            "Training Progress:  39%|███▊      | 387/1000 [00:24<00:25, 24.24it/s]"
          ]
        },
        {
          "output_type": "stream",
          "name": "stdout",
          "text": [
            "Epoch 385: Train MSE=0.931516, Test MSE=0.947573\n",
            "Epoch 386: Train MSE=0.930220, Test MSE=0.946265\n",
            "Epoch 387: Train MSE=0.928929, Test MSE=0.944961\n",
            "Epoch 388: Train MSE=0.927643, Test MSE=0.943661\n",
            "Epoch 389: Train MSE=0.926361, Test MSE=0.942366\n"
          ]
        },
        {
          "output_type": "stream",
          "name": "stderr",
          "text": [
            "Training Progress:  39%|███▉      | 393/1000 [00:25<00:23, 25.83it/s]"
          ]
        },
        {
          "output_type": "stream",
          "name": "stdout",
          "text": [
            "Epoch 390: Train MSE=0.925083, Test MSE=0.941076\n",
            "Epoch 391: Train MSE=0.923810, Test MSE=0.939790\n",
            "Epoch 392: Train MSE=0.922542, Test MSE=0.938509\n",
            "Epoch 393: Train MSE=0.921278, Test MSE=0.937232\n",
            "Epoch 394: Train MSE=0.920018, Test MSE=0.935960\n",
            "Epoch 395: Train MSE=0.918763, Test MSE=0.934693\n"
          ]
        },
        {
          "output_type": "stream",
          "name": "stderr",
          "text": [
            "Training Progress:  40%|███▉      | 399/1000 [00:25<00:23, 25.84it/s]"
          ]
        },
        {
          "output_type": "stream",
          "name": "stdout",
          "text": [
            "Epoch 396: Train MSE=0.917513, Test MSE=0.933429\n",
            "Epoch 397: Train MSE=0.916266, Test MSE=0.932170\n",
            "Epoch 398: Train MSE=0.915024, Test MSE=0.930916\n",
            "Epoch 399: Train MSE=0.913786, Test MSE=0.929666\n",
            "Epoch 400: Train MSE=0.912553, Test MSE=0.928420\n",
            "Epoch 401: Train MSE=0.911324, Test MSE=0.927178\n"
          ]
        },
        {
          "output_type": "stream",
          "name": "stderr",
          "text": [
            "Training Progress:  40%|████      | 405/1000 [00:25<00:22, 26.47it/s]"
          ]
        },
        {
          "output_type": "stream",
          "name": "stdout",
          "text": [
            "Epoch 402: Train MSE=0.910099, Test MSE=0.925941\n",
            "Epoch 403: Train MSE=0.908878, Test MSE=0.924708\n",
            "Epoch 404: Train MSE=0.907661, Test MSE=0.923479\n",
            "Epoch 405: Train MSE=0.906449, Test MSE=0.922255\n",
            "Epoch 406: Train MSE=0.905240, Test MSE=0.921034\n",
            "Epoch 407: Train MSE=0.904036, Test MSE=0.919818\n"
          ]
        },
        {
          "output_type": "stream",
          "name": "stderr",
          "text": [
            "Training Progress:  41%|████      | 411/1000 [00:25<00:22, 26.45it/s]"
          ]
        },
        {
          "output_type": "stream",
          "name": "stdout",
          "text": [
            "Epoch 408: Train MSE=0.902836, Test MSE=0.918606\n",
            "Epoch 409: Train MSE=0.901640, Test MSE=0.917398\n",
            "Epoch 410: Train MSE=0.900448, Test MSE=0.916194\n",
            "Epoch 411: Train MSE=0.899260, Test MSE=0.914994\n",
            "Epoch 412: Train MSE=0.898076, Test MSE=0.913798\n"
          ]
        },
        {
          "output_type": "stream",
          "name": "stderr",
          "text": [
            "Training Progress:  42%|████▏     | 417/1000 [00:25<00:23, 24.84it/s]"
          ]
        },
        {
          "output_type": "stream",
          "name": "stdout",
          "text": [
            "Epoch 413: Train MSE=0.896896, Test MSE=0.912606\n",
            "Epoch 414: Train MSE=0.895720, Test MSE=0.911418\n",
            "Epoch 415: Train MSE=0.894548, Test MSE=0.910235\n",
            "Epoch 416: Train MSE=0.893380, Test MSE=0.909055\n",
            "Epoch 417: Train MSE=0.892215, Test MSE=0.907879\n",
            "Epoch 418: Train MSE=0.891055, Test MSE=0.906707\n"
          ]
        },
        {
          "output_type": "stream",
          "name": "stderr",
          "text": [
            "Training Progress:  42%|████▏     | 423/1000 [00:26<00:22, 25.72it/s]"
          ]
        },
        {
          "output_type": "stream",
          "name": "stdout",
          "text": [
            "Epoch 419: Train MSE=0.889898, Test MSE=0.905539\n",
            "Epoch 420: Train MSE=0.888745, Test MSE=0.904374\n",
            "Epoch 421: Train MSE=0.887596, Test MSE=0.903214\n",
            "Epoch 422: Train MSE=0.886451, Test MSE=0.902057\n",
            "Epoch 423: Train MSE=0.885309, Test MSE=0.900904\n",
            "Epoch 424: Train MSE=0.884172, Test MSE=0.899755\n"
          ]
        },
        {
          "output_type": "stream",
          "name": "stderr",
          "text": [
            "Training Progress:  43%|████▎     | 429/1000 [00:26<00:21, 26.60it/s]"
          ]
        },
        {
          "output_type": "stream",
          "name": "stdout",
          "text": [
            "Epoch 425: Train MSE=0.883038, Test MSE=0.898610\n",
            "Epoch 426: Train MSE=0.881907, Test MSE=0.897468\n",
            "Epoch 427: Train MSE=0.880781, Test MSE=0.896331\n",
            "Epoch 428: Train MSE=0.879658, Test MSE=0.895196\n",
            "Epoch 429: Train MSE=0.878538, Test MSE=0.894066\n",
            "Epoch 430: Train MSE=0.877422, Test MSE=0.892939\n"
          ]
        },
        {
          "output_type": "stream",
          "name": "stderr",
          "text": [
            "Training Progress:  44%|████▎     | 435/1000 [00:26<00:22, 25.45it/s]"
          ]
        },
        {
          "output_type": "stream",
          "name": "stdout",
          "text": [
            "Epoch 431: Train MSE=0.876310, Test MSE=0.891816\n",
            "Epoch 432: Train MSE=0.875202, Test MSE=0.890696\n",
            "Epoch 433: Train MSE=0.874097, Test MSE=0.889581\n",
            "Epoch 434: Train MSE=0.872995, Test MSE=0.888468\n",
            "Epoch 435: Train MSE=0.871897, Test MSE=0.887359\n"
          ]
        },
        {
          "output_type": "stream",
          "name": "stderr",
          "text": [
            "Training Progress:  44%|████▍     | 438/1000 [00:26<00:21, 25.89it/s]"
          ]
        },
        {
          "output_type": "stream",
          "name": "stdout",
          "text": [
            "Epoch 436: Train MSE=0.870803, Test MSE=0.886254\n",
            "Epoch 437: Train MSE=0.869712, Test MSE=0.885152\n",
            "Epoch 438: Train MSE=0.868624, Test MSE=0.884054\n",
            "Epoch 439: Train MSE=0.867540, Test MSE=0.882960\n",
            "Epoch 440: Train MSE=0.866459, Test MSE=0.881868\n"
          ]
        },
        {
          "output_type": "stream",
          "name": "stderr",
          "text": [
            "Training Progress:  44%|████▍     | 444/1000 [00:27<00:22, 25.01it/s]"
          ]
        },
        {
          "output_type": "stream",
          "name": "stdout",
          "text": [
            "Epoch 441: Train MSE=0.865382, Test MSE=0.880781\n",
            "Epoch 442: Train MSE=0.864308, Test MSE=0.879696\n",
            "Epoch 443: Train MSE=0.863238, Test MSE=0.878615\n",
            "Epoch 444: Train MSE=0.862171, Test MSE=0.877538\n",
            "Epoch 445: Train MSE=0.861107, Test MSE=0.876464\n",
            "Epoch 446: Train MSE=0.860046, Test MSE=0.875393\n"
          ]
        },
        {
          "output_type": "stream",
          "name": "stderr",
          "text": [
            "Training Progress:  45%|████▌     | 450/1000 [00:27<00:22, 24.60it/s]"
          ]
        },
        {
          "output_type": "stream",
          "name": "stdout",
          "text": [
            "Epoch 447: Train MSE=0.858989, Test MSE=0.874325\n",
            "Epoch 448: Train MSE=0.857935, Test MSE=0.873261\n",
            "Epoch 449: Train MSE=0.856885, Test MSE=0.872200\n",
            "Epoch 450: Train MSE=0.855837, Test MSE=0.871143\n",
            "Epoch 451: Train MSE=0.854793, Test MSE=0.870089\n",
            "Epoch 452: Train MSE=0.853752, Test MSE=0.869038\n"
          ]
        },
        {
          "output_type": "stream",
          "name": "stderr",
          "text": [
            "Training Progress:  46%|████▌     | 456/1000 [00:27<00:21, 25.77it/s]"
          ]
        },
        {
          "output_type": "stream",
          "name": "stdout",
          "text": [
            "Epoch 453: Train MSE=0.852715, Test MSE=0.867990\n",
            "Epoch 454: Train MSE=0.851680, Test MSE=0.866946\n",
            "Epoch 455: Train MSE=0.850649, Test MSE=0.865904\n",
            "Epoch 456: Train MSE=0.849620, Test MSE=0.864866\n",
            "Epoch 457: Train MSE=0.848595, Test MSE=0.863831\n",
            "Epoch 458: Train MSE=0.847573, Test MSE=0.862800\n"
          ]
        },
        {
          "output_type": "stream",
          "name": "stderr",
          "text": [
            "Training Progress:  46%|████▌     | 462/1000 [00:27<00:21, 24.69it/s]"
          ]
        },
        {
          "output_type": "stream",
          "name": "stdout",
          "text": [
            "Epoch 459: Train MSE=0.846555, Test MSE=0.861771\n",
            "Epoch 460: Train MSE=0.845539, Test MSE=0.860746\n",
            "Epoch 461: Train MSE=0.844526, Test MSE=0.859723\n",
            "Epoch 462: Train MSE=0.843517, Test MSE=0.858704\n",
            "Epoch 463: Train MSE=0.842510, Test MSE=0.857688\n"
          ]
        },
        {
          "output_type": "stream",
          "name": "stderr",
          "text": [
            "Training Progress:  46%|████▋     | 465/1000 [00:27<00:22, 23.29it/s]"
          ]
        },
        {
          "output_type": "stream",
          "name": "stdout",
          "text": [
            "Epoch 464: Train MSE=0.841506, Test MSE=0.856675\n",
            "Epoch 465: Train MSE=0.840506, Test MSE=0.855665\n",
            "Epoch 466: Train MSE=0.839508, Test MSE=0.854658\n",
            "Epoch 467: Train MSE=0.838514, Test MSE=0.853654\n",
            "Epoch 468: Train MSE=0.837522, Test MSE=0.852653\n"
          ]
        },
        {
          "output_type": "stream",
          "name": "stderr",
          "text": [
            "Training Progress:  47%|████▋     | 471/1000 [00:28<00:22, 23.11it/s]"
          ]
        },
        {
          "output_type": "stream",
          "name": "stdout",
          "text": [
            "Epoch 469: Train MSE=0.836534, Test MSE=0.851655\n",
            "Epoch 470: Train MSE=0.835548, Test MSE=0.850660\n",
            "Epoch 471: Train MSE=0.834565, Test MSE=0.849668\n",
            "Epoch 472: Train MSE=0.833585, Test MSE=0.848679\n",
            "Epoch 473: Train MSE=0.832608, Test MSE=0.847693\n"
          ]
        },
        {
          "output_type": "stream",
          "name": "stderr",
          "text": [
            "Training Progress:  48%|████▊     | 477/1000 [00:28<00:21, 23.89it/s]"
          ]
        },
        {
          "output_type": "stream",
          "name": "stdout",
          "text": [
            "Epoch 474: Train MSE=0.831634, Test MSE=0.846709\n",
            "Epoch 475: Train MSE=0.830663, Test MSE=0.845729\n",
            "Epoch 476: Train MSE=0.829695, Test MSE=0.844752\n",
            "Epoch 477: Train MSE=0.828729, Test MSE=0.843777\n",
            "Epoch 478: Train MSE=0.827766, Test MSE=0.842805\n",
            "Epoch 479: Train MSE=0.826806, Test MSE=0.841837\n"
          ]
        },
        {
          "output_type": "stream",
          "name": "stderr",
          "text": []
        },
        {
          "output_type": "stream",
          "name": "stdout",
          "text": [
            "Epoch 480: Train MSE=0.825849, Test MSE=0.840871\n",
            "Epoch 481: Train MSE=0.824895, Test MSE=0.839907\n",
            "Epoch 482: Train MSE=0.823943, Test MSE=0.838947\n",
            "Epoch 483: Train MSE=0.822995, Test MSE=0.837990\n",
            "Epoch 484: Train MSE=0.822049, Test MSE=0.837035\n"
          ]
        },
        {
          "output_type": "stream",
          "name": "stderr",
          "text": [
            "Training Progress:  49%|████▉     | 489/1000 [00:28<00:21, 23.83it/s]"
          ]
        },
        {
          "output_type": "stream",
          "name": "stdout",
          "text": [
            "Epoch 485: Train MSE=0.821105, Test MSE=0.836083\n",
            "Epoch 486: Train MSE=0.820165, Test MSE=0.835134\n",
            "Epoch 487: Train MSE=0.819227, Test MSE=0.834187\n",
            "Epoch 488: Train MSE=0.818291, Test MSE=0.833243\n",
            "Epoch 489: Train MSE=0.817359, Test MSE=0.832302\n"
          ]
        },
        {
          "output_type": "stream",
          "name": "stderr",
          "text": [
            "Training Progress:  50%|████▉     | 495/1000 [00:29<00:21, 23.65it/s]"
          ]
        },
        {
          "output_type": "stream",
          "name": "stdout",
          "text": [
            "Epoch 490: Train MSE=0.816429, Test MSE=0.831364\n",
            "Epoch 491: Train MSE=0.815502, Test MSE=0.830428\n",
            "Epoch 492: Train MSE=0.814577, Test MSE=0.829495\n",
            "Epoch 493: Train MSE=0.813655, Test MSE=0.828565\n",
            "Epoch 494: Train MSE=0.812736, Test MSE=0.827637\n",
            "Epoch 495: Train MSE=0.811819, Test MSE=0.826712\n"
          ]
        },
        {
          "output_type": "stream",
          "name": "stderr",
          "text": [
            "Training Progress:  50%|█████     | 501/1000 [00:29<00:19, 25.25it/s]"
          ]
        },
        {
          "output_type": "stream",
          "name": "stdout",
          "text": [
            "Epoch 496: Train MSE=0.810905, Test MSE=0.825790\n",
            "Epoch 497: Train MSE=0.809993, Test MSE=0.824870\n",
            "Epoch 498: Train MSE=0.809084, Test MSE=0.823953\n",
            "Epoch 499: Train MSE=0.808178, Test MSE=0.823038\n",
            "Epoch 500: Train MSE=0.807274, Test MSE=0.822126\n",
            "Epoch 501: Train MSE=0.806373, Test MSE=0.821217\n"
          ]
        },
        {
          "output_type": "stream",
          "name": "stderr",
          "text": [
            "Training Progress:  50%|█████     | 504/1000 [00:29<00:21, 23.42it/s]"
          ]
        },
        {
          "output_type": "stream",
          "name": "stdout",
          "text": [
            "Epoch 502: Train MSE=0.805474, Test MSE=0.820310\n",
            "Epoch 503: Train MSE=0.804577, Test MSE=0.819406\n",
            "Epoch 504: Train MSE=0.803684, Test MSE=0.818504\n",
            "Epoch 505: Train MSE=0.802792, Test MSE=0.817605\n",
            "Epoch 506: Train MSE=0.801903, Test MSE=0.816708\n"
          ]
        },
        {
          "output_type": "stream",
          "name": "stderr",
          "text": [
            "Training Progress:  51%|█████     | 510/1000 [00:29<00:20, 24.04it/s]"
          ]
        },
        {
          "output_type": "stream",
          "name": "stdout",
          "text": [
            "Epoch 507: Train MSE=0.801017, Test MSE=0.815813\n",
            "Epoch 508: Train MSE=0.800133, Test MSE=0.814922\n",
            "Epoch 509: Train MSE=0.799251, Test MSE=0.814032\n",
            "Epoch 510: Train MSE=0.798372, Test MSE=0.813146\n",
            "Epoch 511: Train MSE=0.797495, Test MSE=0.812261\n"
          ]
        },
        {
          "output_type": "stream",
          "name": "stderr",
          "text": [
            "Training Progress:  52%|█████▏    | 516/1000 [00:30<00:20, 23.09it/s]"
          ]
        },
        {
          "output_type": "stream",
          "name": "stdout",
          "text": [
            "Epoch 512: Train MSE=0.796621, Test MSE=0.811379\n",
            "Epoch 513: Train MSE=0.795749, Test MSE=0.810500\n",
            "Epoch 514: Train MSE=0.794879, Test MSE=0.809623\n",
            "Epoch 515: Train MSE=0.794012, Test MSE=0.808748\n",
            "Epoch 516: Train MSE=0.793147, Test MSE=0.807876\n"
          ]
        },
        {
          "output_type": "stream",
          "name": "stderr",
          "text": [
            "Training Progress:  52%|█████▏    | 519/1000 [00:30<00:21, 22.59it/s]"
          ]
        },
        {
          "output_type": "stream",
          "name": "stdout",
          "text": [
            "Epoch 517: Train MSE=0.792285, Test MSE=0.807006\n",
            "Epoch 518: Train MSE=0.791425, Test MSE=0.806138\n",
            "Epoch 519: Train MSE=0.790567, Test MSE=0.805273\n",
            "Epoch 520: Train MSE=0.789711, Test MSE=0.804410\n",
            "Epoch 521: Train MSE=0.788858, Test MSE=0.803550\n"
          ]
        },
        {
          "output_type": "stream",
          "name": "stderr",
          "text": [
            "Training Progress:  52%|█████▎    | 525/1000 [00:30<00:19, 23.89it/s]"
          ]
        },
        {
          "output_type": "stream",
          "name": "stdout",
          "text": [
            "Epoch 522: Train MSE=0.788007, Test MSE=0.802691\n",
            "Epoch 523: Train MSE=0.787159, Test MSE=0.801836\n",
            "Epoch 524: Train MSE=0.786312, Test MSE=0.800982\n",
            "Epoch 525: Train MSE=0.785468, Test MSE=0.800131\n",
            "Epoch 526: Train MSE=0.784627, Test MSE=0.799282\n"
          ]
        },
        {
          "output_type": "stream",
          "name": "stderr",
          "text": [
            "Training Progress:  53%|█████▎    | 531/1000 [00:30<00:18, 25.09it/s]"
          ]
        },
        {
          "output_type": "stream",
          "name": "stdout",
          "text": [
            "Epoch 527: Train MSE=0.783787, Test MSE=0.798435\n",
            "Epoch 528: Train MSE=0.782950, Test MSE=0.797591\n",
            "Epoch 529: Train MSE=0.782115, Test MSE=0.796749\n",
            "Epoch 530: Train MSE=0.781282, Test MSE=0.795909\n",
            "Epoch 531: Train MSE=0.780451, Test MSE=0.795071\n",
            "Epoch 532: Train MSE=0.779623, Test MSE=0.794236\n"
          ]
        },
        {
          "output_type": "stream",
          "name": "stderr",
          "text": [
            "Training Progress:  54%|█████▎    | 537/1000 [00:30<00:18, 24.98it/s]"
          ]
        },
        {
          "output_type": "stream",
          "name": "stdout",
          "text": [
            "Epoch 533: Train MSE=0.778796, Test MSE=0.793403\n",
            "Epoch 534: Train MSE=0.777972, Test MSE=0.792572\n",
            "Epoch 535: Train MSE=0.777150, Test MSE=0.791743\n",
            "Epoch 536: Train MSE=0.776330, Test MSE=0.790916\n",
            "Epoch 537: Train MSE=0.775513, Test MSE=0.790092\n",
            "Epoch 538: Train MSE=0.774697, Test MSE=0.789270\n"
          ]
        },
        {
          "output_type": "stream",
          "name": "stderr",
          "text": []
        },
        {
          "output_type": "stream",
          "name": "stdout",
          "text": [
            "Epoch 539: Train MSE=0.773884, Test MSE=0.788450\n",
            "Epoch 540: Train MSE=0.773073, Test MSE=0.787632\n",
            "Epoch 541: Train MSE=0.772263, Test MSE=0.786816\n",
            "Epoch 542: Train MSE=0.771456, Test MSE=0.786003\n",
            "Epoch 543: Train MSE=0.770651, Test MSE=0.785191\n"
          ]
        },
        {
          "output_type": "stream",
          "name": "stderr",
          "text": [
            "Training Progress:  55%|█████▍    | 549/1000 [00:31<00:17, 26.11it/s]"
          ]
        },
        {
          "output_type": "stream",
          "name": "stdout",
          "text": [
            "Epoch 544: Train MSE=0.769849, Test MSE=0.784382\n",
            "Epoch 545: Train MSE=0.769048, Test MSE=0.783574\n",
            "Epoch 546: Train MSE=0.768249, Test MSE=0.782769\n",
            "Epoch 547: Train MSE=0.767452, Test MSE=0.781966\n",
            "Epoch 548: Train MSE=0.766658, Test MSE=0.781165\n",
            "Epoch 549: Train MSE=0.765865, Test MSE=0.780366\n"
          ]
        },
        {
          "output_type": "stream",
          "name": "stderr",
          "text": [
            "Training Progress:  56%|█████▌    | 555/1000 [00:31<00:16, 26.61it/s]"
          ]
        },
        {
          "output_type": "stream",
          "name": "stdout",
          "text": [
            "Epoch 550: Train MSE=0.765075, Test MSE=0.779569\n",
            "Epoch 551: Train MSE=0.764286, Test MSE=0.778775\n",
            "Epoch 552: Train MSE=0.763500, Test MSE=0.777982\n",
            "Epoch 553: Train MSE=0.762715, Test MSE=0.777191\n",
            "Epoch 554: Train MSE=0.761932, Test MSE=0.776402\n",
            "Epoch 555: Train MSE=0.761152, Test MSE=0.775616\n"
          ]
        },
        {
          "output_type": "stream",
          "name": "stderr",
          "text": [
            "Training Progress:  56%|█████▌    | 561/1000 [00:31<00:17, 25.77it/s]"
          ]
        },
        {
          "output_type": "stream",
          "name": "stdout",
          "text": [
            "Epoch 556: Train MSE=0.760373, Test MSE=0.774831\n",
            "Epoch 557: Train MSE=0.759597, Test MSE=0.774048\n",
            "Epoch 558: Train MSE=0.758822, Test MSE=0.773268\n",
            "Epoch 559: Train MSE=0.758049, Test MSE=0.772489\n",
            "Epoch 560: Train MSE=0.757279, Test MSE=0.771712\n",
            "Epoch 561: Train MSE=0.756510, Test MSE=0.770938\n"
          ]
        },
        {
          "output_type": "stream",
          "name": "stderr",
          "text": [
            "Training Progress:  56%|█████▋    | 564/1000 [00:32<00:16, 26.18it/s]"
          ]
        },
        {
          "output_type": "stream",
          "name": "stdout",
          "text": [
            "Epoch 562: Train MSE=0.755743, Test MSE=0.770165\n",
            "Epoch 563: Train MSE=0.754978, Test MSE=0.769394\n",
            "Epoch 564: Train MSE=0.754215, Test MSE=0.768625\n",
            "Epoch 565: Train MSE=0.753454, Test MSE=0.767858\n",
            "Epoch 566: Train MSE=0.752695, Test MSE=0.767093\n",
            "Epoch 567: Train MSE=0.751937, Test MSE=0.766330\n"
          ]
        },
        {
          "output_type": "stream",
          "name": "stderr",
          "text": [
            "                                                                     "
          ]
        },
        {
          "output_type": "stream",
          "name": "stdout",
          "text": [
            "Epoch 568: Train MSE=0.751182, Test MSE=0.765569\n",
            "Epoch 569: Train MSE=0.750428, Test MSE=0.764809\n",
            "Epoch 570: Train MSE=0.749677, Test MSE=0.764052\n",
            "Epoch 571: Train MSE=0.748927, Test MSE=0.763297\n",
            "Epoch 572: Train MSE=0.748179, Test MSE=0.762543\n"
          ]
        },
        {
          "output_type": "stream",
          "name": "stderr",
          "text": [
            "Training Progress:  58%|█████▊    | 576/1000 [00:32<00:16, 25.19it/s]"
          ]
        },
        {
          "output_type": "stream",
          "name": "stdout",
          "text": [
            "Epoch 573: Train MSE=0.747433, Test MSE=0.761791\n",
            "Epoch 574: Train MSE=0.746688, Test MSE=0.761041\n",
            "Epoch 575: Train MSE=0.745946, Test MSE=0.760293\n",
            "Epoch 576: Train MSE=0.745205, Test MSE=0.759547\n",
            "Epoch 577: Train MSE=0.744466, Test MSE=0.758803\n",
            "Epoch 578: Train MSE=0.743729, Test MSE=0.758060\n"
          ]
        },
        {
          "output_type": "stream",
          "name": "stderr",
          "text": [
            "Training Progress:  58%|█████▊    | 582/1000 [00:32<00:17, 24.29it/s]"
          ]
        },
        {
          "output_type": "stream",
          "name": "stdout",
          "text": [
            "Epoch 579: Train MSE=0.742994, Test MSE=0.757320\n",
            "Epoch 580: Train MSE=0.742260, Test MSE=0.756581\n",
            "Epoch 581: Train MSE=0.741529, Test MSE=0.755844\n",
            "Epoch 582: Train MSE=0.740799, Test MSE=0.755108\n",
            "Epoch 583: Train MSE=0.740071, Test MSE=0.754375\n"
          ]
        },
        {
          "output_type": "stream",
          "name": "stderr",
          "text": [
            "Training Progress:  58%|█████▊    | 585/1000 [00:32<00:19, 21.37it/s]"
          ]
        },
        {
          "output_type": "stream",
          "name": "stdout",
          "text": [
            "Epoch 584: Train MSE=0.739344, Test MSE=0.753643\n",
            "Epoch 585: Train MSE=0.738620, Test MSE=0.752913\n",
            "Epoch 586: Train MSE=0.737897, Test MSE=0.752185\n"
          ]
        },
        {
          "output_type": "stream",
          "name": "stderr",
          "text": [
            "Training Progress:  58%|█████▊    | 585/1000 [00:33<00:19, 21.37it/s]"
          ]
        },
        {
          "output_type": "stream",
          "name": "stdout",
          "text": [
            "Epoch 587: Train MSE=0.737176, Test MSE=0.751459\n"
          ]
        },
        {
          "output_type": "stream",
          "name": "stderr",
          "text": [
            "Training Progress:  59%|█████▉    | 590/1000 [00:33<00:28, 14.17it/s]"
          ]
        },
        {
          "output_type": "stream",
          "name": "stdout",
          "text": [
            "Epoch 588: Train MSE=0.736456, Test MSE=0.750734\n",
            "Epoch 589: Train MSE=0.735738, Test MSE=0.750012\n",
            "Epoch 590: Train MSE=0.735022, Test MSE=0.749290\n",
            "Epoch 591: Train MSE=0.734308, Test MSE=0.748571\n"
          ]
        },
        {
          "output_type": "stream",
          "name": "stderr",
          "text": [
            "Training Progress:  59%|█████▉    | 594/1000 [00:33<00:26, 15.16it/s]"
          ]
        },
        {
          "output_type": "stream",
          "name": "stdout",
          "text": [
            "Epoch 592: Train MSE=0.733596, Test MSE=0.747854\n",
            "Epoch 593: Train MSE=0.732885, Test MSE=0.747138\n",
            "Epoch 594: Train MSE=0.732176, Test MSE=0.746424\n",
            "Epoch 595: Train MSE=0.731468, Test MSE=0.745711\n"
          ]
        },
        {
          "output_type": "stream",
          "name": "stderr",
          "text": [
            "Training Progress:  60%|█████▉    | 598/1000 [00:33<00:24, 16.36it/s]"
          ]
        },
        {
          "output_type": "stream",
          "name": "stdout",
          "text": [
            "Epoch 596: Train MSE=0.730762, Test MSE=0.745000\n",
            "Epoch 597: Train MSE=0.730058, Test MSE=0.744291\n",
            "Epoch 598: Train MSE=0.729356, Test MSE=0.743584\n",
            "Epoch 599: Train MSE=0.728655, Test MSE=0.742878\n"
          ]
        },
        {
          "output_type": "stream",
          "name": "stderr",
          "text": [
            "Training Progress:  60%|██████    | 602/1000 [00:34<00:23, 17.14it/s]"
          ]
        },
        {
          "output_type": "stream",
          "name": "stdout",
          "text": [
            "Epoch 600: Train MSE=0.727956, Test MSE=0.742174\n",
            "Epoch 601: Train MSE=0.727258, Test MSE=0.741472\n",
            "Epoch 602: Train MSE=0.726562, Test MSE=0.740771\n",
            "Epoch 603: Train MSE=0.725868, Test MSE=0.740072\n"
          ]
        },
        {
          "output_type": "stream",
          "name": "stderr",
          "text": [
            "Training Progress:  61%|██████    | 606/1000 [00:34<00:24, 16.26it/s]"
          ]
        },
        {
          "output_type": "stream",
          "name": "stdout",
          "text": [
            "Epoch 604: Train MSE=0.725175, Test MSE=0.739375\n",
            "Epoch 605: Train MSE=0.724484, Test MSE=0.738679\n",
            "Epoch 606: Train MSE=0.723795, Test MSE=0.737985\n",
            "Epoch 607: Train MSE=0.723107, Test MSE=0.737293\n"
          ]
        },
        {
          "output_type": "stream",
          "name": "stderr",
          "text": [
            "                                                                     "
          ]
        },
        {
          "output_type": "stream",
          "name": "stdout",
          "text": [
            "Epoch 608: Train MSE=0.722421, Test MSE=0.736602\n",
            "Epoch 609: Train MSE=0.721736, Test MSE=0.735913\n",
            "Epoch 610: Train MSE=0.721053, Test MSE=0.735225\n",
            "Epoch 611: Train MSE=0.720372, Test MSE=0.734539\n"
          ]
        },
        {
          "output_type": "stream",
          "name": "stderr",
          "text": [
            "Training Progress:  62%|██████▏   | 615/1000 [00:34<00:21, 18.16it/s]"
          ]
        },
        {
          "output_type": "stream",
          "name": "stdout",
          "text": [
            "Epoch 612: Train MSE=0.719692, Test MSE=0.733855\n",
            "Epoch 613: Train MSE=0.719014, Test MSE=0.733172\n",
            "Epoch 614: Train MSE=0.718337, Test MSE=0.732491\n",
            "Epoch 615: Train MSE=0.717662, Test MSE=0.731811\n"
          ]
        },
        {
          "output_type": "stream",
          "name": "stderr",
          "text": [
            "Training Progress:  62%|██████▏   | 619/1000 [00:34<00:20, 18.65it/s]"
          ]
        },
        {
          "output_type": "stream",
          "name": "stdout",
          "text": [
            "Epoch 616: Train MSE=0.716988, Test MSE=0.731133\n",
            "Epoch 617: Train MSE=0.716316, Test MSE=0.730457\n",
            "Epoch 618: Train MSE=0.715646, Test MSE=0.729782\n",
            "Epoch 619: Train MSE=0.714977, Test MSE=0.729109\n"
          ]
        },
        {
          "output_type": "stream",
          "name": "stderr",
          "text": [
            "Training Progress:  62%|██████▏   | 623/1000 [00:35<00:21, 17.68it/s]"
          ]
        },
        {
          "output_type": "stream",
          "name": "stdout",
          "text": [
            "Epoch 620: Train MSE=0.714309, Test MSE=0.728437\n",
            "Epoch 621: Train MSE=0.713643, Test MSE=0.727767\n",
            "Epoch 622: Train MSE=0.712979, Test MSE=0.727098\n",
            "Epoch 623: Train MSE=0.712316, Test MSE=0.726431\n"
          ]
        },
        {
          "output_type": "stream",
          "name": "stderr",
          "text": [
            "Training Progress:  62%|██████▎   | 625/1000 [00:35<00:23, 16.21it/s]"
          ]
        },
        {
          "output_type": "stream",
          "name": "stdout",
          "text": [
            "Epoch 624: Train MSE=0.711655, Test MSE=0.725765\n",
            "Epoch 625: Train MSE=0.710995, Test MSE=0.725101\n",
            "Epoch 626: Train MSE=0.710336, Test MSE=0.724439\n"
          ]
        },
        {
          "output_type": "stream",
          "name": "stderr",
          "text": [
            "Training Progress:  63%|██████▎   | 629/1000 [00:35<00:29, 12.53it/s]"
          ]
        },
        {
          "output_type": "stream",
          "name": "stdout",
          "text": [
            "Epoch 627: Train MSE=0.709679, Test MSE=0.723778\n",
            "Epoch 628: Train MSE=0.709024, Test MSE=0.723118\n",
            "Epoch 629: Train MSE=0.708370, Test MSE=0.722460\n",
            "Epoch 630: Train MSE=0.707718, Test MSE=0.721803\n"
          ]
        },
        {
          "output_type": "stream",
          "name": "stderr",
          "text": [
            "Training Progress:  64%|██████▎   | 635/1000 [00:36<00:22, 16.55it/s]"
          ]
        },
        {
          "output_type": "stream",
          "name": "stdout",
          "text": [
            "Epoch 631: Train MSE=0.707067, Test MSE=0.721148\n",
            "Epoch 632: Train MSE=0.706417, Test MSE=0.720495\n",
            "Epoch 633: Train MSE=0.705769, Test MSE=0.719842\n",
            "Epoch 634: Train MSE=0.705122, Test MSE=0.719192\n",
            "Epoch 635: Train MSE=0.704477, Test MSE=0.718543\n"
          ]
        },
        {
          "output_type": "stream",
          "name": "stderr",
          "text": [
            "Training Progress:  64%|██████▍   | 639/1000 [00:36<00:21, 16.70it/s]"
          ]
        },
        {
          "output_type": "stream",
          "name": "stdout",
          "text": [
            "Epoch 636: Train MSE=0.703833, Test MSE=0.717895\n",
            "Epoch 637: Train MSE=0.703191, Test MSE=0.717249\n",
            "Epoch 638: Train MSE=0.702550, Test MSE=0.716604\n",
            "Epoch 639: Train MSE=0.701910, Test MSE=0.715960\n"
          ]
        },
        {
          "output_type": "stream",
          "name": "stderr",
          "text": [
            "Training Progress:  64%|██████▍   | 643/1000 [00:36<00:21, 16.48it/s]"
          ]
        },
        {
          "output_type": "stream",
          "name": "stdout",
          "text": [
            "Epoch 640: Train MSE=0.701272, Test MSE=0.715318\n",
            "Epoch 641: Train MSE=0.700635, Test MSE=0.714678\n",
            "Epoch 642: Train MSE=0.700000, Test MSE=0.714039\n",
            "Epoch 643: Train MSE=0.699366, Test MSE=0.713401\n"
          ]
        },
        {
          "output_type": "stream",
          "name": "stderr",
          "text": [
            "Training Progress:  65%|██████▍   | 647/1000 [00:36<00:21, 16.06it/s]"
          ]
        },
        {
          "output_type": "stream",
          "name": "stdout",
          "text": [
            "Epoch 644: Train MSE=0.698734, Test MSE=0.712765\n",
            "Epoch 645: Train MSE=0.698103, Test MSE=0.712130\n",
            "Epoch 646: Train MSE=0.697473, Test MSE=0.711497\n",
            "Epoch 647: Train MSE=0.696845, Test MSE=0.710864\n"
          ]
        },
        {
          "output_type": "stream",
          "name": "stderr",
          "text": [
            "Training Progress:  65%|██████▌   | 651/1000 [00:37<00:20, 16.76it/s]"
          ]
        },
        {
          "output_type": "stream",
          "name": "stdout",
          "text": [
            "Epoch 648: Train MSE=0.696218, Test MSE=0.710234\n",
            "Epoch 649: Train MSE=0.695592, Test MSE=0.709605\n",
            "Epoch 650: Train MSE=0.694968, Test MSE=0.708977\n",
            "Epoch 651: Train MSE=0.694345, Test MSE=0.708350\n"
          ]
        },
        {
          "output_type": "stream",
          "name": "stderr",
          "text": [
            "Training Progress:  66%|██████▌   | 655/1000 [00:37<00:20, 16.46it/s]"
          ]
        },
        {
          "output_type": "stream",
          "name": "stdout",
          "text": [
            "Epoch 652: Train MSE=0.693723, Test MSE=0.707725\n",
            "Epoch 653: Train MSE=0.693103, Test MSE=0.707101\n",
            "Epoch 654: Train MSE=0.692484, Test MSE=0.706479\n",
            "Epoch 655: Train MSE=0.691867, Test MSE=0.705858\n"
          ]
        },
        {
          "output_type": "stream",
          "name": "stderr",
          "text": [
            "Training Progress:  66%|██████▌   | 659/1000 [00:37<00:21, 15.75it/s]"
          ]
        },
        {
          "output_type": "stream",
          "name": "stdout",
          "text": [
            "Epoch 656: Train MSE=0.691251, Test MSE=0.705238\n",
            "Epoch 657: Train MSE=0.690636, Test MSE=0.704620\n",
            "Epoch 658: Train MSE=0.690022, Test MSE=0.704003\n",
            "Epoch 659: Train MSE=0.689410, Test MSE=0.703387\n"
          ]
        },
        {
          "output_type": "stream",
          "name": "stderr",
          "text": [
            "Training Progress:  66%|██████▋   | 664/1000 [00:37<00:18, 18.23it/s]"
          ]
        },
        {
          "output_type": "stream",
          "name": "stdout",
          "text": [
            "Epoch 660: Train MSE=0.688799, Test MSE=0.702773\n",
            "Epoch 661: Train MSE=0.688190, Test MSE=0.702160\n",
            "Epoch 662: Train MSE=0.687581, Test MSE=0.701549\n",
            "Epoch 663: Train MSE=0.686975, Test MSE=0.700938\n",
            "Epoch 664: Train MSE=0.686369, Test MSE=0.700329\n"
          ]
        },
        {
          "output_type": "stream",
          "name": "stderr",
          "text": [
            "Training Progress:  67%|██████▋   | 667/1000 [00:38<00:16, 19.91it/s]"
          ]
        },
        {
          "output_type": "stream",
          "name": "stdout",
          "text": [
            "Epoch 665: Train MSE=0.685764, Test MSE=0.699722\n",
            "Epoch 666: Train MSE=0.685161, Test MSE=0.699115\n",
            "Epoch 667: Train MSE=0.684560, Test MSE=0.698510\n",
            "Epoch 668: Train MSE=0.683959, Test MSE=0.697906\n",
            "Epoch 669: Train MSE=0.683360, Test MSE=0.697304\n"
          ]
        },
        {
          "output_type": "stream",
          "name": "stderr",
          "text": [
            "Training Progress:  67%|██████▋   | 673/1000 [00:38<00:15, 21.34it/s]"
          ]
        },
        {
          "output_type": "stream",
          "name": "stdout",
          "text": [
            "Epoch 670: Train MSE=0.682762, Test MSE=0.696703\n",
            "Epoch 671: Train MSE=0.682165, Test MSE=0.696103\n",
            "Epoch 672: Train MSE=0.681570, Test MSE=0.695504\n",
            "Epoch 673: Train MSE=0.680975, Test MSE=0.694907\n",
            "Epoch 674: Train MSE=0.680383, Test MSE=0.694311\n"
          ]
        },
        {
          "output_type": "stream",
          "name": "stderr",
          "text": [
            "Training Progress:  68%|██████▊   | 679/1000 [00:38<00:14, 22.00it/s]"
          ]
        },
        {
          "output_type": "stream",
          "name": "stdout",
          "text": [
            "Epoch 675: Train MSE=0.679791, Test MSE=0.693716\n",
            "Epoch 676: Train MSE=0.679200, Test MSE=0.693122\n",
            "Epoch 677: Train MSE=0.678611, Test MSE=0.692530\n",
            "Epoch 678: Train MSE=0.678023, Test MSE=0.691939\n",
            "Epoch 679: Train MSE=0.677436, Test MSE=0.691349\n"
          ]
        },
        {
          "output_type": "stream",
          "name": "stderr",
          "text": [
            "                                                                     "
          ]
        },
        {
          "output_type": "stream",
          "name": "stdout",
          "text": [
            "Epoch 680: Train MSE=0.676851, Test MSE=0.690760\n",
            "Epoch 681: Train MSE=0.676267, Test MSE=0.690173\n",
            "Epoch 682: Train MSE=0.675683, Test MSE=0.689587\n",
            "Epoch 683: Train MSE=0.675102, Test MSE=0.689002\n",
            "Epoch 684: Train MSE=0.674521, Test MSE=0.688418\n"
          ]
        },
        {
          "output_type": "stream",
          "name": "stderr",
          "text": [
            "Training Progress:  69%|██████▉   | 688/1000 [00:38<00:14, 22.17it/s]"
          ]
        },
        {
          "output_type": "stream",
          "name": "stdout",
          "text": [
            "Epoch 685: Train MSE=0.673941, Test MSE=0.687836\n",
            "Epoch 686: Train MSE=0.673363, Test MSE=0.687255\n",
            "Epoch 687: Train MSE=0.672786, Test MSE=0.686675\n",
            "Epoch 688: Train MSE=0.672210, Test MSE=0.686096\n",
            "Epoch 689: Train MSE=0.671635, Test MSE=0.685518\n"
          ]
        },
        {
          "output_type": "stream",
          "name": "stderr",
          "text": [
            "Training Progress:  69%|██████▉   | 694/1000 [00:39<00:13, 23.00it/s]"
          ]
        },
        {
          "output_type": "stream",
          "name": "stdout",
          "text": [
            "Epoch 690: Train MSE=0.671062, Test MSE=0.684942\n",
            "Epoch 691: Train MSE=0.670489, Test MSE=0.684367\n",
            "Epoch 692: Train MSE=0.669918, Test MSE=0.683793\n",
            "Epoch 693: Train MSE=0.669348, Test MSE=0.683220\n",
            "Epoch 694: Train MSE=0.668779, Test MSE=0.682648\n"
          ]
        },
        {
          "output_type": "stream",
          "name": "stderr",
          "text": [
            "Training Progress:  70%|███████   | 700/1000 [00:39<00:12, 24.96it/s]"
          ]
        },
        {
          "output_type": "stream",
          "name": "stdout",
          "text": [
            "Epoch 695: Train MSE=0.668212, Test MSE=0.682078\n",
            "Epoch 696: Train MSE=0.667645, Test MSE=0.681508\n",
            "Epoch 697: Train MSE=0.667080, Test MSE=0.680940\n",
            "Epoch 698: Train MSE=0.666516, Test MSE=0.680373\n",
            "Epoch 699: Train MSE=0.665952, Test MSE=0.679808\n",
            "Epoch 700: Train MSE=0.665390, Test MSE=0.679243\n"
          ]
        },
        {
          "output_type": "stream",
          "name": "stderr",
          "text": [
            "Training Progress:  71%|███████   | 706/1000 [00:39<00:11, 24.57it/s]"
          ]
        },
        {
          "output_type": "stream",
          "name": "stdout",
          "text": [
            "Epoch 701: Train MSE=0.664830, Test MSE=0.678679\n",
            "Epoch 702: Train MSE=0.664270, Test MSE=0.678117\n",
            "Epoch 703: Train MSE=0.663711, Test MSE=0.677556\n",
            "Epoch 704: Train MSE=0.663154, Test MSE=0.676996\n",
            "Epoch 705: Train MSE=0.662598, Test MSE=0.676437\n",
            "Epoch 706: Train MSE=0.662043, Test MSE=0.675879\n"
          ]
        },
        {
          "output_type": "stream",
          "name": "stderr",
          "text": [
            "Training Progress:  71%|███████   | 709/1000 [00:39<00:11, 24.44it/s]"
          ]
        },
        {
          "output_type": "stream",
          "name": "stdout",
          "text": [
            "Epoch 707: Train MSE=0.661489, Test MSE=0.675322\n",
            "Epoch 708: Train MSE=0.660936, Test MSE=0.674767\n",
            "Epoch 709: Train MSE=0.660384, Test MSE=0.674213\n",
            "Epoch 710: Train MSE=0.659833, Test MSE=0.673659\n",
            "Epoch 711: Train MSE=0.659283, Test MSE=0.673107\n"
          ]
        },
        {
          "output_type": "stream",
          "name": "stderr",
          "text": [
            "Training Progress:  72%|███████▏  | 715/1000 [00:40<00:11, 25.05it/s]"
          ]
        },
        {
          "output_type": "stream",
          "name": "stdout",
          "text": [
            "Epoch 712: Train MSE=0.658735, Test MSE=0.672556\n",
            "Epoch 713: Train MSE=0.658187, Test MSE=0.672006\n",
            "Epoch 714: Train MSE=0.657641, Test MSE=0.671457\n",
            "Epoch 715: Train MSE=0.657096, Test MSE=0.670910\n",
            "Epoch 716: Train MSE=0.656551, Test MSE=0.670363\n",
            "Epoch 717: Train MSE=0.656008, Test MSE=0.669817\n"
          ]
        },
        {
          "output_type": "stream",
          "name": "stderr",
          "text": [
            "Training Progress:  72%|███████▏  | 721/1000 [00:40<00:11, 24.39it/s]"
          ]
        },
        {
          "output_type": "stream",
          "name": "stdout",
          "text": [
            "Epoch 718: Train MSE=0.655466, Test MSE=0.669273\n",
            "Epoch 719: Train MSE=0.654925, Test MSE=0.668730\n",
            "Epoch 720: Train MSE=0.654385, Test MSE=0.668187\n",
            "Epoch 721: Train MSE=0.653847, Test MSE=0.667646\n",
            "Epoch 722: Train MSE=0.653309, Test MSE=0.667106\n"
          ]
        },
        {
          "output_type": "stream",
          "name": "stderr",
          "text": [
            "Training Progress:  73%|███████▎  | 727/1000 [00:40<00:11, 24.40it/s]"
          ]
        },
        {
          "output_type": "stream",
          "name": "stdout",
          "text": [
            "Epoch 723: Train MSE=0.652772, Test MSE=0.666567\n",
            "Epoch 724: Train MSE=0.652236, Test MSE=0.666029\n",
            "Epoch 725: Train MSE=0.651702, Test MSE=0.665492\n",
            "Epoch 726: Train MSE=0.651168, Test MSE=0.664956\n",
            "Epoch 727: Train MSE=0.650636, Test MSE=0.664421\n"
          ]
        },
        {
          "output_type": "stream",
          "name": "stderr",
          "text": [
            "Training Progress:  73%|███████▎  | 733/1000 [00:40<00:10, 24.99it/s]"
          ]
        },
        {
          "output_type": "stream",
          "name": "stdout",
          "text": [
            "Epoch 728: Train MSE=0.650104, Test MSE=0.663887\n",
            "Epoch 729: Train MSE=0.649574, Test MSE=0.663355\n",
            "Epoch 730: Train MSE=0.649044, Test MSE=0.662823\n",
            "Epoch 731: Train MSE=0.648516, Test MSE=0.662292\n",
            "Epoch 732: Train MSE=0.647988, Test MSE=0.661763\n",
            "Epoch 733: Train MSE=0.647462, Test MSE=0.661234\n"
          ]
        },
        {
          "output_type": "stream",
          "name": "stderr",
          "text": [
            "Training Progress:  74%|███████▎  | 736/1000 [00:40<00:11, 23.68it/s]"
          ]
        },
        {
          "output_type": "stream",
          "name": "stdout",
          "text": [
            "Epoch 734: Train MSE=0.646937, Test MSE=0.660707\n",
            "Epoch 735: Train MSE=0.646412, Test MSE=0.660180\n",
            "Epoch 736: Train MSE=0.645889, Test MSE=0.659655\n",
            "Epoch 737: Train MSE=0.645367, Test MSE=0.659130\n",
            "Epoch 738: Train MSE=0.644845, Test MSE=0.658607\n"
          ]
        },
        {
          "output_type": "stream",
          "name": "stderr",
          "text": [
            "Training Progress:  74%|███████▍  | 742/1000 [00:41<00:10, 24.19it/s]"
          ]
        },
        {
          "output_type": "stream",
          "name": "stdout",
          "text": [
            "Epoch 739: Train MSE=0.644325, Test MSE=0.658084\n",
            "Epoch 740: Train MSE=0.643806, Test MSE=0.657563\n",
            "Epoch 741: Train MSE=0.643287, Test MSE=0.657042\n",
            "Epoch 742: Train MSE=0.642770, Test MSE=0.656523\n",
            "Epoch 743: Train MSE=0.642254, Test MSE=0.656005\n"
          ]
        },
        {
          "output_type": "stream",
          "name": "stderr",
          "text": [
            "Training Progress:  75%|███████▍  | 748/1000 [00:41<00:10, 23.75it/s]"
          ]
        },
        {
          "output_type": "stream",
          "name": "stdout",
          "text": [
            "Epoch 744: Train MSE=0.641738, Test MSE=0.655487\n",
            "Epoch 745: Train MSE=0.641224, Test MSE=0.654971\n",
            "Epoch 746: Train MSE=0.640711, Test MSE=0.654455\n",
            "Epoch 747: Train MSE=0.640198, Test MSE=0.653941\n",
            "Epoch 748: Train MSE=0.639687, Test MSE=0.653428\n"
          ]
        },
        {
          "output_type": "stream",
          "name": "stderr",
          "text": [
            "Training Progress:  75%|███████▌  | 751/1000 [00:41<00:10, 23.77it/s]"
          ]
        },
        {
          "output_type": "stream",
          "name": "stdout",
          "text": [
            "Epoch 749: Train MSE=0.639176, Test MSE=0.652915\n",
            "Epoch 750: Train MSE=0.638667, Test MSE=0.652404\n",
            "Epoch 751: Train MSE=0.638158, Test MSE=0.651893\n",
            "Epoch 752: Train MSE=0.637651, Test MSE=0.651384\n",
            "Epoch 753: Train MSE=0.637144, Test MSE=0.650875\n"
          ]
        },
        {
          "output_type": "stream",
          "name": "stderr",
          "text": [
            "Training Progress:  76%|███████▌  | 757/1000 [00:41<00:10, 24.26it/s]"
          ]
        },
        {
          "output_type": "stream",
          "name": "stdout",
          "text": [
            "Epoch 754: Train MSE=0.636638, Test MSE=0.650367\n",
            "Epoch 755: Train MSE=0.636133, Test MSE=0.649861\n",
            "Epoch 756: Train MSE=0.635630, Test MSE=0.649355\n",
            "Epoch 757: Train MSE=0.635127, Test MSE=0.648850\n",
            "Epoch 758: Train MSE=0.634625, Test MSE=0.648347\n",
            "Epoch 759: Train MSE=0.634124, Test MSE=0.647844\n"
          ]
        },
        {
          "output_type": "stream",
          "name": "stderr",
          "text": [
            "Training Progress:  76%|███████▋  | 763/1000 [00:41<00:10, 22.68it/s]"
          ]
        },
        {
          "output_type": "stream",
          "name": "stdout",
          "text": [
            "Epoch 760: Train MSE=0.633624, Test MSE=0.647342\n",
            "Epoch 761: Train MSE=0.633125, Test MSE=0.646841\n",
            "Epoch 762: Train MSE=0.632627, Test MSE=0.646341\n",
            "Epoch 763: Train MSE=0.632130, Test MSE=0.645842\n",
            "Epoch 764: Train MSE=0.631633, Test MSE=0.645344\n"
          ]
        },
        {
          "output_type": "stream",
          "name": "stderr",
          "text": [
            "Training Progress:  77%|███████▋  | 769/1000 [00:42<00:09, 23.99it/s]"
          ]
        },
        {
          "output_type": "stream",
          "name": "stdout",
          "text": [
            "Epoch 765: Train MSE=0.631138, Test MSE=0.644847\n",
            "Epoch 766: Train MSE=0.630643, Test MSE=0.644350\n",
            "Epoch 767: Train MSE=0.630150, Test MSE=0.643855\n",
            "Epoch 768: Train MSE=0.629657, Test MSE=0.643361\n",
            "Epoch 769: Train MSE=0.629165, Test MSE=0.642867\n",
            "Epoch 770: Train MSE=0.628675, Test MSE=0.642375\n"
          ]
        },
        {
          "output_type": "stream",
          "name": "stderr",
          "text": [
            "Training Progress:  78%|███████▊  | 775/1000 [00:42<00:09, 24.72it/s]"
          ]
        },
        {
          "output_type": "stream",
          "name": "stdout",
          "text": [
            "Epoch 771: Train MSE=0.628185, Test MSE=0.641883\n",
            "Epoch 772: Train MSE=0.627696, Test MSE=0.641392\n",
            "Epoch 773: Train MSE=0.627208, Test MSE=0.640902\n",
            "Epoch 774: Train MSE=0.626720, Test MSE=0.640414\n",
            "Epoch 775: Train MSE=0.626234, Test MSE=0.639926\n",
            "Epoch 776: Train MSE=0.625749, Test MSE=0.639438\n"
          ]
        },
        {
          "output_type": "stream",
          "name": "stderr",
          "text": [
            "Training Progress:  78%|███████▊  | 781/1000 [00:42<00:08, 24.97it/s]"
          ]
        },
        {
          "output_type": "stream",
          "name": "stdout",
          "text": [
            "Epoch 777: Train MSE=0.625264, Test MSE=0.638952\n",
            "Epoch 778: Train MSE=0.624780, Test MSE=0.638467\n",
            "Epoch 779: Train MSE=0.624298, Test MSE=0.637982\n",
            "Epoch 780: Train MSE=0.623816, Test MSE=0.637499\n",
            "Epoch 781: Train MSE=0.623335, Test MSE=0.637016\n",
            "Epoch 782: Train MSE=0.622854, Test MSE=0.636534\n"
          ]
        },
        {
          "output_type": "stream",
          "name": "stderr",
          "text": [
            "Training Progress:  79%|███████▊  | 787/1000 [00:42<00:08, 23.78it/s]"
          ]
        },
        {
          "output_type": "stream",
          "name": "stdout",
          "text": [
            "Epoch 783: Train MSE=0.622375, Test MSE=0.636054\n",
            "Epoch 784: Train MSE=0.621897, Test MSE=0.635574\n",
            "Epoch 785: Train MSE=0.621419, Test MSE=0.635094\n",
            "Epoch 786: Train MSE=0.620942, Test MSE=0.634616\n",
            "Epoch 787: Train MSE=0.620467, Test MSE=0.634139\n"
          ]
        },
        {
          "output_type": "stream",
          "name": "stderr",
          "text": [
            "                                                                     "
          ]
        },
        {
          "output_type": "stream",
          "name": "stdout",
          "text": [
            "Epoch 788: Train MSE=0.619992, Test MSE=0.633662\n",
            "Epoch 789: Train MSE=0.619518, Test MSE=0.633187\n",
            "Epoch 790: Train MSE=0.619044, Test MSE=0.632712\n",
            "Epoch 791: Train MSE=0.618572, Test MSE=0.632238\n",
            "Epoch 792: Train MSE=0.618100, Test MSE=0.631765\n"
          ]
        },
        {
          "output_type": "stream",
          "name": "stderr",
          "text": [
            "Training Progress:  80%|███████▉  | 796/1000 [00:43<00:08, 23.36it/s]"
          ]
        },
        {
          "output_type": "stream",
          "name": "stdout",
          "text": [
            "Epoch 793: Train MSE=0.617630, Test MSE=0.631292\n",
            "Epoch 794: Train MSE=0.617160, Test MSE=0.630821\n",
            "Epoch 795: Train MSE=0.616691, Test MSE=0.630351\n",
            "Epoch 796: Train MSE=0.616222, Test MSE=0.629881\n",
            "Epoch 797: Train MSE=0.615755, Test MSE=0.629412\n"
          ]
        },
        {
          "output_type": "stream",
          "name": "stderr",
          "text": [
            "Training Progress:  80%|████████  | 802/1000 [00:43<00:08, 23.63it/s]"
          ]
        },
        {
          "output_type": "stream",
          "name": "stdout",
          "text": [
            "Epoch 798: Train MSE=0.615288, Test MSE=0.628944\n",
            "Epoch 799: Train MSE=0.614823, Test MSE=0.628477\n",
            "Epoch 800: Train MSE=0.614358, Test MSE=0.628011\n",
            "Epoch 801: Train MSE=0.613894, Test MSE=0.627545\n",
            "Epoch 802: Train MSE=0.613430, Test MSE=0.627080\n"
          ]
        },
        {
          "output_type": "stream",
          "name": "stderr",
          "text": [
            "Training Progress:  80%|████████  | 805/1000 [00:43<00:08, 23.08it/s]"
          ]
        },
        {
          "output_type": "stream",
          "name": "stdout",
          "text": [
            "Epoch 803: Train MSE=0.612968, Test MSE=0.626617\n",
            "Epoch 804: Train MSE=0.612506, Test MSE=0.626154\n",
            "Epoch 805: Train MSE=0.612046, Test MSE=0.625691\n",
            "Epoch 806: Train MSE=0.611586, Test MSE=0.625230\n",
            "Epoch 807: Train MSE=0.611126, Test MSE=0.624769\n"
          ]
        },
        {
          "output_type": "stream",
          "name": "stderr",
          "text": [
            "Training Progress:  81%|████████  | 811/1000 [00:44<00:08, 22.87it/s]"
          ]
        },
        {
          "output_type": "stream",
          "name": "stdout",
          "text": [
            "Epoch 808: Train MSE=0.610668, Test MSE=0.624310\n",
            "Epoch 809: Train MSE=0.610211, Test MSE=0.623851\n",
            "Epoch 810: Train MSE=0.609754, Test MSE=0.623393\n",
            "Epoch 811: Train MSE=0.609298, Test MSE=0.622935\n",
            "Epoch 812: Train MSE=0.608843, Test MSE=0.622479\n"
          ]
        },
        {
          "output_type": "stream",
          "name": "stderr",
          "text": [
            "Training Progress:  82%|████████▏ | 817/1000 [00:44<00:07, 23.65it/s]"
          ]
        },
        {
          "output_type": "stream",
          "name": "stdout",
          "text": [
            "Epoch 813: Train MSE=0.608388, Test MSE=0.622023\n",
            "Epoch 814: Train MSE=0.607935, Test MSE=0.621568\n",
            "Epoch 815: Train MSE=0.607482, Test MSE=0.621114\n",
            "Epoch 816: Train MSE=0.607030, Test MSE=0.620661\n",
            "Epoch 817: Train MSE=0.606579, Test MSE=0.620208\n",
            "Epoch 818: Train MSE=0.606128, Test MSE=0.619757\n"
          ]
        },
        {
          "output_type": "stream",
          "name": "stderr",
          "text": []
        },
        {
          "output_type": "stream",
          "name": "stdout",
          "text": [
            "Epoch 819: Train MSE=0.605679, Test MSE=0.619306\n",
            "Epoch 820: Train MSE=0.605230, Test MSE=0.618855\n",
            "Epoch 821: Train MSE=0.604782, Test MSE=0.618406\n",
            "Epoch 822: Train MSE=0.604334, Test MSE=0.617958\n",
            "Epoch 823: Train MSE=0.603888, Test MSE=0.617510\n"
          ]
        },
        {
          "output_type": "stream",
          "name": "stderr",
          "text": [
            "Training Progress:  83%|████████▎ | 829/1000 [00:44<00:06, 24.84it/s]"
          ]
        },
        {
          "output_type": "stream",
          "name": "stdout",
          "text": [
            "Epoch 824: Train MSE=0.603442, Test MSE=0.617063\n",
            "Epoch 825: Train MSE=0.602997, Test MSE=0.616616\n",
            "Epoch 826: Train MSE=0.602553, Test MSE=0.616171\n",
            "Epoch 827: Train MSE=0.602109, Test MSE=0.615726\n",
            "Epoch 828: Train MSE=0.601666, Test MSE=0.615282\n",
            "Epoch 829: Train MSE=0.601224, Test MSE=0.614839\n"
          ]
        },
        {
          "output_type": "stream",
          "name": "stderr",
          "text": [
            "Training Progress:  84%|████████▎ | 835/1000 [00:44<00:06, 24.64it/s]"
          ]
        },
        {
          "output_type": "stream",
          "name": "stdout",
          "text": [
            "Epoch 830: Train MSE=0.600783, Test MSE=0.614397\n",
            "Epoch 831: Train MSE=0.600343, Test MSE=0.613955\n",
            "Epoch 832: Train MSE=0.599903, Test MSE=0.613514\n",
            "Epoch 833: Train MSE=0.599464, Test MSE=0.613074\n",
            "Epoch 834: Train MSE=0.599026, Test MSE=0.612635\n",
            "Epoch 835: Train MSE=0.598588, Test MSE=0.612196\n"
          ]
        },
        {
          "output_type": "stream",
          "name": "stderr",
          "text": [
            "Training Progress:  84%|████████▍ | 838/1000 [00:45<00:07, 23.00it/s]"
          ]
        },
        {
          "output_type": "stream",
          "name": "stdout",
          "text": [
            "Epoch 836: Train MSE=0.598152, Test MSE=0.611758\n",
            "Epoch 837: Train MSE=0.597716, Test MSE=0.611321\n",
            "Epoch 838: Train MSE=0.597280, Test MSE=0.610885\n",
            "Epoch 839: Train MSE=0.596846, Test MSE=0.610449\n",
            "Epoch 840: Train MSE=0.596412, Test MSE=0.610014\n"
          ]
        },
        {
          "output_type": "stream",
          "name": "stderr",
          "text": [
            "Training Progress:  84%|████████▍ | 844/1000 [00:45<00:06, 22.93it/s]"
          ]
        },
        {
          "output_type": "stream",
          "name": "stdout",
          "text": [
            "Epoch 841: Train MSE=0.595979, Test MSE=0.609580\n",
            "Epoch 842: Train MSE=0.595547, Test MSE=0.609147\n",
            "Epoch 843: Train MSE=0.595115, Test MSE=0.608714\n",
            "Epoch 844: Train MSE=0.594684, Test MSE=0.608282\n",
            "Epoch 845: Train MSE=0.594254, Test MSE=0.607851\n"
          ]
        },
        {
          "output_type": "stream",
          "name": "stderr",
          "text": [
            "Training Progress:  85%|████████▌ | 850/1000 [00:45<00:06, 24.50it/s]"
          ]
        },
        {
          "output_type": "stream",
          "name": "stdout",
          "text": [
            "Epoch 846: Train MSE=0.593825, Test MSE=0.607420\n",
            "Epoch 847: Train MSE=0.593396, Test MSE=0.606990\n",
            "Epoch 848: Train MSE=0.592968, Test MSE=0.606561\n",
            "Epoch 849: Train MSE=0.592541, Test MSE=0.606133\n",
            "Epoch 850: Train MSE=0.592114, Test MSE=0.605705\n",
            "Epoch 851: Train MSE=0.591688, Test MSE=0.605279\n"
          ]
        },
        {
          "output_type": "stream",
          "name": "stderr",
          "text": [
            "Training Progress:  86%|████████▌ | 856/1000 [00:45<00:06, 23.72it/s]"
          ]
        },
        {
          "output_type": "stream",
          "name": "stdout",
          "text": [
            "Epoch 852: Train MSE=0.591263, Test MSE=0.604852\n",
            "Epoch 853: Train MSE=0.590839, Test MSE=0.604427\n",
            "Epoch 854: Train MSE=0.590415, Test MSE=0.604002\n",
            "Epoch 855: Train MSE=0.589992, Test MSE=0.603578\n",
            "Epoch 856: Train MSE=0.589569, Test MSE=0.603155\n"
          ]
        },
        {
          "output_type": "stream",
          "name": "stderr",
          "text": [
            "Training Progress:  86%|████████▌ | 862/1000 [00:46<00:05, 24.28it/s]"
          ]
        },
        {
          "output_type": "stream",
          "name": "stdout",
          "text": [
            "Epoch 857: Train MSE=0.589148, Test MSE=0.602732\n",
            "Epoch 858: Train MSE=0.588727, Test MSE=0.602310\n",
            "Epoch 859: Train MSE=0.588307, Test MSE=0.601889\n",
            "Epoch 860: Train MSE=0.587887, Test MSE=0.601469\n",
            "Epoch 861: Train MSE=0.587468, Test MSE=0.601049\n",
            "Epoch 862: Train MSE=0.587050, Test MSE=0.600630\n"
          ]
        },
        {
          "output_type": "stream",
          "name": "stderr",
          "text": [
            "Training Progress:  86%|████████▋ | 865/1000 [00:46<00:05, 23.57it/s]"
          ]
        },
        {
          "output_type": "stream",
          "name": "stdout",
          "text": [
            "Epoch 863: Train MSE=0.586633, Test MSE=0.600211\n",
            "Epoch 864: Train MSE=0.586216, Test MSE=0.599793\n",
            "Epoch 865: Train MSE=0.585800, Test MSE=0.599376\n",
            "Epoch 866: Train MSE=0.585384, Test MSE=0.598960\n",
            "Epoch 867: Train MSE=0.584970, Test MSE=0.598544\n"
          ]
        },
        {
          "output_type": "stream",
          "name": "stderr",
          "text": [
            "Training Progress:  87%|████████▋ | 871/1000 [00:46<00:05, 24.25it/s]"
          ]
        },
        {
          "output_type": "stream",
          "name": "stdout",
          "text": [
            "Epoch 868: Train MSE=0.584556, Test MSE=0.598129\n",
            "Epoch 869: Train MSE=0.584142, Test MSE=0.597715\n",
            "Epoch 870: Train MSE=0.583729, Test MSE=0.597301\n",
            "Epoch 871: Train MSE=0.583317, Test MSE=0.596888\n",
            "Epoch 872: Train MSE=0.582906, Test MSE=0.596476\n"
          ]
        },
        {
          "output_type": "stream",
          "name": "stderr",
          "text": []
        },
        {
          "output_type": "stream",
          "name": "stdout",
          "text": [
            "Epoch 873: Train MSE=0.582495, Test MSE=0.596064\n",
            "Epoch 874: Train MSE=0.582085, Test MSE=0.595654\n",
            "Epoch 875: Train MSE=0.581676, Test MSE=0.595243\n",
            "Epoch 876: Train MSE=0.581267, Test MSE=0.594834\n",
            "Epoch 877: Train MSE=0.580859, Test MSE=0.594425\n"
          ]
        },
        {
          "output_type": "stream",
          "name": "stderr",
          "text": [
            "Training Progress:  88%|████████▊ | 880/1000 [00:46<00:04, 24.05it/s]"
          ]
        },
        {
          "output_type": "stream",
          "name": "stdout",
          "text": [
            "Epoch 878: Train MSE=0.580452, Test MSE=0.594016\n",
            "Epoch 879: Train MSE=0.580045, Test MSE=0.593609\n",
            "Epoch 880: Train MSE=0.579639, Test MSE=0.593202\n",
            "Epoch 881: Train MSE=0.579234, Test MSE=0.592796\n",
            "Epoch 882: Train MSE=0.578829, Test MSE=0.592390\n"
          ]
        },
        {
          "output_type": "stream",
          "name": "stderr",
          "text": [
            "Training Progress:  89%|████████▊ | 886/1000 [00:47<00:05, 22.55it/s]"
          ]
        },
        {
          "output_type": "stream",
          "name": "stdout",
          "text": [
            "Epoch 883: Train MSE=0.578425, Test MSE=0.591985\n",
            "Epoch 884: Train MSE=0.578021, Test MSE=0.591581\n",
            "Epoch 885: Train MSE=0.577618, Test MSE=0.591177\n",
            "Epoch 886: Train MSE=0.577216, Test MSE=0.590774\n",
            "Epoch 887: Train MSE=0.576815, Test MSE=0.590372\n"
          ]
        },
        {
          "output_type": "stream",
          "name": "stderr",
          "text": [
            "Training Progress:  89%|████████▉ | 892/1000 [00:47<00:04, 21.82it/s]"
          ]
        },
        {
          "output_type": "stream",
          "name": "stdout",
          "text": [
            "Epoch 888: Train MSE=0.576414, Test MSE=0.589970\n",
            "Epoch 889: Train MSE=0.576013, Test MSE=0.589569\n",
            "Epoch 890: Train MSE=0.575614, Test MSE=0.589168\n",
            "Epoch 891: Train MSE=0.575215, Test MSE=0.588769\n",
            "Epoch 892: Train MSE=0.574817, Test MSE=0.588369\n"
          ]
        },
        {
          "output_type": "stream",
          "name": "stderr",
          "text": [
            "Training Progress:  90%|████████▉ | 895/1000 [00:47<00:04, 22.30it/s]"
          ]
        },
        {
          "output_type": "stream",
          "name": "stdout",
          "text": [
            "Epoch 893: Train MSE=0.574419, Test MSE=0.587971\n",
            "Epoch 894: Train MSE=0.574022, Test MSE=0.587573\n",
            "Epoch 895: Train MSE=0.573625, Test MSE=0.587176\n",
            "Epoch 896: Train MSE=0.573229, Test MSE=0.586779\n",
            "Epoch 897: Train MSE=0.572834, Test MSE=0.586383\n"
          ]
        },
        {
          "output_type": "stream",
          "name": "stderr",
          "text": [
            "Training Progress:  90%|█████████ | 901/1000 [00:47<00:04, 20.17it/s]"
          ]
        },
        {
          "output_type": "stream",
          "name": "stdout",
          "text": [
            "Epoch 898: Train MSE=0.572440, Test MSE=0.585988\n",
            "Epoch 899: Train MSE=0.572046, Test MSE=0.585593\n",
            "Epoch 900: Train MSE=0.571652, Test MSE=0.585199\n",
            "Epoch 901: Train MSE=0.571260, Test MSE=0.584805\n"
          ]
        },
        {
          "output_type": "stream",
          "name": "stderr",
          "text": [
            "Training Progress:  90%|█████████ | 904/1000 [00:48<00:05, 19.07it/s]"
          ]
        },
        {
          "output_type": "stream",
          "name": "stdout",
          "text": [
            "Epoch 902: Train MSE=0.570868, Test MSE=0.584413\n",
            "Epoch 903: Train MSE=0.570476, Test MSE=0.584020\n",
            "Epoch 904: Train MSE=0.570085, Test MSE=0.583629\n",
            "Epoch 905: Train MSE=0.569695, Test MSE=0.583238\n"
          ]
        },
        {
          "output_type": "stream",
          "name": "stderr",
          "text": [
            "Training Progress:  91%|█████████ | 908/1000 [00:48<00:05, 17.87it/s]"
          ]
        },
        {
          "output_type": "stream",
          "name": "stdout",
          "text": [
            "Epoch 906: Train MSE=0.569305, Test MSE=0.582847\n",
            "Epoch 907: Train MSE=0.568916, Test MSE=0.582458\n",
            "Epoch 908: Train MSE=0.568528, Test MSE=0.582068\n"
          ]
        },
        {
          "output_type": "stream",
          "name": "stderr",
          "text": [
            "Training Progress:  91%|█████████ | 912/1000 [00:48<00:05, 16.83it/s]"
          ]
        },
        {
          "output_type": "stream",
          "name": "stdout",
          "text": [
            "Epoch 909: Train MSE=0.568140, Test MSE=0.581680\n",
            "Epoch 910: Train MSE=0.567753, Test MSE=0.581292\n",
            "Epoch 911: Train MSE=0.567366, Test MSE=0.580905\n",
            "Epoch 912: Train MSE=0.566980, Test MSE=0.580518\n"
          ]
        },
        {
          "output_type": "stream",
          "name": "stderr",
          "text": [
            "Training Progress:  92%|█████████▏| 916/1000 [00:48<00:04, 17.00it/s]"
          ]
        },
        {
          "output_type": "stream",
          "name": "stdout",
          "text": [
            "Epoch 913: Train MSE=0.566595, Test MSE=0.580132\n",
            "Epoch 914: Train MSE=0.566210, Test MSE=0.579746\n",
            "Epoch 915: Train MSE=0.565826, Test MSE=0.579361\n",
            "Epoch 916: Train MSE=0.565442, Test MSE=0.578977\n"
          ]
        },
        {
          "output_type": "stream",
          "name": "stderr",
          "text": [
            "Training Progress:  92%|█████████▏| 920/1000 [00:48<00:04, 17.04it/s]"
          ]
        },
        {
          "output_type": "stream",
          "name": "stdout",
          "text": [
            "Epoch 917: Train MSE=0.565059, Test MSE=0.578593\n",
            "Epoch 918: Train MSE=0.564677, Test MSE=0.578210\n",
            "Epoch 919: Train MSE=0.564295, Test MSE=0.577827\n",
            "Epoch 920: Train MSE=0.563914, Test MSE=0.577445\n"
          ]
        },
        {
          "output_type": "stream",
          "name": "stderr",
          "text": [
            "Training Progress:  92%|█████████▏| 922/1000 [00:49<00:06, 12.66it/s]"
          ]
        },
        {
          "output_type": "stream",
          "name": "stdout",
          "text": [
            "Epoch 921: Train MSE=0.563533, Test MSE=0.577064\n",
            "Epoch 922: Train MSE=0.563153, Test MSE=0.576683\n"
          ]
        },
        {
          "output_type": "stream",
          "name": "stderr",
          "text": [
            "Training Progress:  93%|█████████▎| 926/1000 [00:49<00:05, 13.86it/s]"
          ]
        },
        {
          "output_type": "stream",
          "name": "stdout",
          "text": [
            "Epoch 923: Train MSE=0.562773, Test MSE=0.576303\n",
            "Epoch 924: Train MSE=0.562394, Test MSE=0.575924\n",
            "Epoch 925: Train MSE=0.562016, Test MSE=0.575545\n",
            "Epoch 926: Train MSE=0.561638, Test MSE=0.575166\n"
          ]
        },
        {
          "output_type": "stream",
          "name": "stderr",
          "text": [
            "Training Progress:  93%|█████████▎| 928/1000 [00:49<00:05, 13.99it/s]"
          ]
        },
        {
          "output_type": "stream",
          "name": "stdout",
          "text": [
            "Epoch 927: Train MSE=0.561261, Test MSE=0.574788\n",
            "Epoch 928: Train MSE=0.560884, Test MSE=0.574411\n",
            "Epoch 929: Train MSE=0.560508, Test MSE=0.574034\n"
          ]
        },
        {
          "output_type": "stream",
          "name": "stderr",
          "text": [
            "Training Progress:  93%|█████████▎| 932/1000 [00:49<00:04, 14.59it/s]"
          ]
        },
        {
          "output_type": "stream",
          "name": "stdout",
          "text": [
            "Epoch 930: Train MSE=0.560133, Test MSE=0.573658\n",
            "Epoch 931: Train MSE=0.559758, Test MSE=0.573283\n",
            "Epoch 932: Train MSE=0.559384, Test MSE=0.572908\n"
          ]
        },
        {
          "output_type": "stream",
          "name": "stderr",
          "text": [
            "Training Progress:  94%|█████████▎| 936/1000 [00:50<00:04, 13.62it/s]"
          ]
        },
        {
          "output_type": "stream",
          "name": "stdout",
          "text": [
            "Epoch 933: Train MSE=0.559010, Test MSE=0.572533\n",
            "Epoch 934: Train MSE=0.558637, Test MSE=0.572159\n",
            "Epoch 935: Train MSE=0.558264, Test MSE=0.571786\n",
            "Epoch 936: Train MSE=0.557892, Test MSE=0.571413\n"
          ]
        },
        {
          "output_type": "stream",
          "name": "stderr",
          "text": [
            "Training Progress:  94%|█████████▍| 940/1000 [00:50<00:04, 14.89it/s]"
          ]
        },
        {
          "output_type": "stream",
          "name": "stdout",
          "text": [
            "Epoch 937: Train MSE=0.557521, Test MSE=0.571041\n",
            "Epoch 938: Train MSE=0.557150, Test MSE=0.570670\n",
            "Epoch 939: Train MSE=0.556779, Test MSE=0.570299\n",
            "Epoch 940: Train MSE=0.556409, Test MSE=0.569928\n"
          ]
        },
        {
          "output_type": "stream",
          "name": "stderr",
          "text": [
            "Training Progress:  94%|█████████▍| 944/1000 [00:50<00:03, 16.05it/s]"
          ]
        },
        {
          "output_type": "stream",
          "name": "stdout",
          "text": [
            "Epoch 941: Train MSE=0.556040, Test MSE=0.569558\n",
            "Epoch 942: Train MSE=0.555672, Test MSE=0.569189\n",
            "Epoch 943: Train MSE=0.555303, Test MSE=0.568820\n",
            "Epoch 944: Train MSE=0.554936, Test MSE=0.568452\n"
          ]
        },
        {
          "output_type": "stream",
          "name": "stderr",
          "text": [
            "Training Progress:  95%|█████████▍| 948/1000 [00:50<00:03, 15.79it/s]"
          ]
        },
        {
          "output_type": "stream",
          "name": "stdout",
          "text": [
            "Epoch 945: Train MSE=0.554569, Test MSE=0.568085\n",
            "Epoch 946: Train MSE=0.554202, Test MSE=0.567717\n",
            "Epoch 947: Train MSE=0.553836, Test MSE=0.567351\n",
            "Epoch 948: Train MSE=0.553471, Test MSE=0.566985\n"
          ]
        },
        {
          "output_type": "stream",
          "name": "stderr",
          "text": [
            "Training Progress:  95%|█████████▌| 950/1000 [00:51<00:03, 15.88it/s]"
          ]
        },
        {
          "output_type": "stream",
          "name": "stdout",
          "text": [
            "Epoch 949: Train MSE=0.553106, Test MSE=0.566619\n",
            "Epoch 950: Train MSE=0.552742, Test MSE=0.566255\n",
            "Epoch 951: Train MSE=0.552378, Test MSE=0.565890\n"
          ]
        },
        {
          "output_type": "stream",
          "name": "stderr",
          "text": [
            "Training Progress:  95%|█████████▌| 954/1000 [00:51<00:03, 14.94it/s]"
          ]
        },
        {
          "output_type": "stream",
          "name": "stdout",
          "text": [
            "Epoch 952: Train MSE=0.552015, Test MSE=0.565526\n",
            "Epoch 953: Train MSE=0.551652, Test MSE=0.565163\n",
            "Epoch 954: Train MSE=0.551290, Test MSE=0.564800\n",
            "Epoch 955: Train MSE=0.550928, Test MSE=0.564438\n"
          ]
        },
        {
          "output_type": "stream",
          "name": "stderr",
          "text": [
            "Training Progress:  96%|█████████▌| 958/1000 [00:51<00:02, 16.53it/s]"
          ]
        },
        {
          "output_type": "stream",
          "name": "stdout",
          "text": [
            "Epoch 956: Train MSE=0.550567, Test MSE=0.564077\n",
            "Epoch 957: Train MSE=0.550207, Test MSE=0.563715\n",
            "Epoch 958: Train MSE=0.549847, Test MSE=0.563355\n",
            "Epoch 959: Train MSE=0.549487, Test MSE=0.562995\n"
          ]
        },
        {
          "output_type": "stream",
          "name": "stderr",
          "text": [
            "Training Progress:  96%|█████████▌| 962/1000 [00:51<00:02, 16.25it/s]"
          ]
        },
        {
          "output_type": "stream",
          "name": "stdout",
          "text": [
            "Epoch 960: Train MSE=0.549128, Test MSE=0.562635\n",
            "Epoch 961: Train MSE=0.548770, Test MSE=0.562276\n",
            "Epoch 962: Train MSE=0.548412, Test MSE=0.561918\n",
            "Epoch 963: Train MSE=0.548055, Test MSE=0.561560\n"
          ]
        },
        {
          "output_type": "stream",
          "name": "stderr",
          "text": [
            "Training Progress:  97%|█████████▋| 966/1000 [00:52<00:02, 16.11it/s]"
          ]
        },
        {
          "output_type": "stream",
          "name": "stdout",
          "text": [
            "Epoch 964: Train MSE=0.547698, Test MSE=0.561203\n",
            "Epoch 965: Train MSE=0.547342, Test MSE=0.560846\n",
            "Epoch 966: Train MSE=0.546986, Test MSE=0.560489\n",
            "Epoch 967: Train MSE=0.546631, Test MSE=0.560134\n"
          ]
        },
        {
          "output_type": "stream",
          "name": "stderr",
          "text": [
            "Training Progress:  97%|█████████▋| 970/1000 [00:52<00:01, 16.03it/s]"
          ]
        },
        {
          "output_type": "stream",
          "name": "stdout",
          "text": [
            "Epoch 968: Train MSE=0.546276, Test MSE=0.559778\n",
            "Epoch 969: Train MSE=0.545922, Test MSE=0.559424\n",
            "Epoch 970: Train MSE=0.545568, Test MSE=0.559069\n",
            "Epoch 971: Train MSE=0.545215, Test MSE=0.558716\n"
          ]
        },
        {
          "output_type": "stream",
          "name": "stderr",
          "text": [
            "Training Progress:  97%|█████████▋| 974/1000 [00:52<00:01, 15.68it/s]"
          ]
        },
        {
          "output_type": "stream",
          "name": "stdout",
          "text": [
            "Epoch 972: Train MSE=0.544862, Test MSE=0.558362\n",
            "Epoch 973: Train MSE=0.544510, Test MSE=0.558010\n",
            "Epoch 974: Train MSE=0.544158, Test MSE=0.557657\n",
            "Epoch 975: Train MSE=0.543807, Test MSE=0.557306\n"
          ]
        },
        {
          "output_type": "stream",
          "name": "stderr",
          "text": [
            "Training Progress:  98%|█████████▊| 978/1000 [00:52<00:01, 16.23it/s]"
          ]
        },
        {
          "output_type": "stream",
          "name": "stdout",
          "text": [
            "Epoch 976: Train MSE=0.543456, Test MSE=0.556955\n",
            "Epoch 977: Train MSE=0.543106, Test MSE=0.556604\n",
            "Epoch 978: Train MSE=0.542757, Test MSE=0.556254\n",
            "Epoch 979: Train MSE=0.542408, Test MSE=0.555904\n"
          ]
        },
        {
          "output_type": "stream",
          "name": "stderr",
          "text": [
            "Training Progress:  98%|█████████▊| 982/1000 [00:53<00:01, 16.37it/s]"
          ]
        },
        {
          "output_type": "stream",
          "name": "stdout",
          "text": [
            "Epoch 980: Train MSE=0.542059, Test MSE=0.555555\n",
            "Epoch 981: Train MSE=0.541711, Test MSE=0.555206\n",
            "Epoch 982: Train MSE=0.541363, Test MSE=0.554858\n",
            "Epoch 983: Train MSE=0.541016, Test MSE=0.554511\n"
          ]
        },
        {
          "output_type": "stream",
          "name": "stderr",
          "text": [
            "Training Progress:  99%|█████████▊| 986/1000 [00:53<00:00, 16.92it/s]"
          ]
        },
        {
          "output_type": "stream",
          "name": "stdout",
          "text": [
            "Epoch 984: Train MSE=0.540670, Test MSE=0.554164\n",
            "Epoch 985: Train MSE=0.540324, Test MSE=0.553817\n",
            "Epoch 986: Train MSE=0.539978, Test MSE=0.553471\n",
            "Epoch 987: Train MSE=0.539633, Test MSE=0.553125\n"
          ]
        },
        {
          "output_type": "stream",
          "name": "stderr",
          "text": [
            "Training Progress:  99%|█████████▉| 990/1000 [00:53<00:00, 16.52it/s]"
          ]
        },
        {
          "output_type": "stream",
          "name": "stdout",
          "text": [
            "Epoch 988: Train MSE=0.539288, Test MSE=0.552780\n",
            "Epoch 989: Train MSE=0.538944, Test MSE=0.552436\n",
            "Epoch 990: Train MSE=0.538601, Test MSE=0.552091\n",
            "Epoch 991: Train MSE=0.538257, Test MSE=0.551748\n"
          ]
        },
        {
          "output_type": "stream",
          "name": "stderr",
          "text": [
            "Training Progress:  99%|█████████▉| 994/1000 [00:53<00:00, 17.84it/s]"
          ]
        },
        {
          "output_type": "stream",
          "name": "stdout",
          "text": [
            "Epoch 992: Train MSE=0.537915, Test MSE=0.551405\n",
            "Epoch 993: Train MSE=0.537573, Test MSE=0.551062\n",
            "Epoch 994: Train MSE=0.537231, Test MSE=0.550720\n",
            "Epoch 995: Train MSE=0.536890, Test MSE=0.550378\n"
          ]
        },
        {
          "output_type": "stream",
          "name": "stderr",
          "text": [
            "Training Progress: 100%|██████████| 1000/1000 [00:54<00:00, 18.50it/s]"
          ]
        },
        {
          "output_type": "stream",
          "name": "stdout",
          "text": [
            "Epoch 996: Train MSE=0.536549, Test MSE=0.550037\n",
            "Epoch 997: Train MSE=0.536209, Test MSE=0.549696\n",
            "Epoch 998: Train MSE=0.535869, Test MSE=0.549356\n",
            "Epoch 999: Train MSE=0.535530, Test MSE=0.549016\n",
            "Epoch 1000: Train MSE=0.535191, Test MSE=0.548677\n",
            "Final Weights: [[ 1.13881582  0.30383753  0.82835183 ... -2.86406444 -0.32161383\n",
            "   1.02501588]\n",
            " [-1.51646835  0.15135329 -0.39889649 ...  1.80728625 -0.12076481\n",
            "   1.83917328]\n",
            " [-0.14811714  2.11100745 -1.02459078 ... -0.71920399 -0.15056644\n",
            "   1.20302396]\n",
            " ...\n",
            " [ 0.57287024  0.33007624 -0.74918709 ...  0.61006595  1.01004855\n",
            "  -1.89661203]\n",
            " [-0.23438432 -0.63474101 -0.52777305 ...  0.22380712 -0.40271538\n",
            "  -1.17109881]\n",
            " [-1.63391897  0.95737078 -0.86049077 ... -0.31798714 -0.25871309\n",
            "  -0.9389051 ]]\n"
          ]
        },
        {
          "output_type": "stream",
          "name": "stderr",
          "text": [
            "\n"
          ]
        }
      ]
    },
    {
      "cell_type": "code",
      "source": [
        "from sklearn.linear_model import LinearRegression, Ridge, Lasso\n",
        "\n",
        "df = pd.read_csv(\"weather_prediction_dataset.csv\")\n",
        "\n",
        "print(\"Dataset Columns:\", df.columns.tolist())\n",
        "\n",
        "city = \"BASEL\"\n",
        "feature_columns = [col for col in df.columns if col.startswith(f\"{city}_\")]\n",
        "\n",
        "df = df[['DATE'] + feature_columns]\n",
        "\n",
        "df['DATE'] = pd.to_datetime(df['DATE'])\n",
        "df = df.sort_values(by='DATE')\n",
        "\n",
        "df.fillna(df.mean(), inplace=True)\n",
        "\n",
        "scaler = MinMaxScaler()\n",
        "df[feature_columns] = scaler.fit_transform(df[feature_columns])\n",
        "\n",
        "X = df[feature_columns].values[:-1]\n",
        "y = df[feature_columns].values[1:]\n",
        "\n",
        "split_idx = int(0.8 * len(X))\n",
        "X_train, X_test = X[:split_idx], X[split_idx:]\n",
        "y_train, y_test = y[:split_idx], y[split_idx:]\n",
        "\n",
        "models = {\n",
        "    \"Linear Regression\": LinearRegression(),\n",
        "    \"Ridge Regression\": Ridge(alpha=1.0),\n",
        "    \"Lasso Regression\": Lasso(alpha=0.1)\n",
        "}\n",
        "\n",
        "results = {}\n",
        "for name, model in models.items():\n",
        "    print(f\"Training {name}...\")\n",
        "    model.fit(X_train, y_train)\n",
        "    y_train_pred = model.predict(X_train)\n",
        "    y_test_pred = model.predict(X_test)\n",
        "\n",
        "    train_mse = mean_squared_error(y_train, y_train_pred)\n",
        "    test_mse = mean_squared_error(y_test, y_test_pred)\n",
        "\n",
        "    results[name] = {\n",
        "        \"Train MSE\": train_mse,\n",
        "        \"Test MSE\": test_mse\n",
        "    }\n",
        "    print(f\"{name}: Train MSE={train_mse:.6f}, Test MSE={test_mse:.6f}\")\n",
        "\n",
        "best_model = min(results, key=lambda x: results[x][\"Test MSE\"])\n",
        "print(\"Best model:\", best_model, \"with Test MSE:\", results[best_model][\"Test MSE\"])"
      ],
      "metadata": {
        "colab": {
          "base_uri": "https://localhost:8080/"
        },
        "id": "pkuMJQX6C3ys",
        "outputId": "52da52c8-c12e-40e1-fe04-9af485ed268b"
      },
      "execution_count": null,
      "outputs": [
        {
          "output_type": "stream",
          "name": "stdout",
          "text": [
            "Dataset Columns: ['DATE', 'MONTH', 'BASEL_cloud_cover', 'BASEL_humidity', 'BASEL_pressure', 'BASEL_global_radiation', 'BASEL_precipitation', 'BASEL_sunshine', 'BASEL_temp_mean', 'BASEL_temp_min', 'BASEL_temp_max', 'BUDAPEST_cloud_cover', 'BUDAPEST_humidity', 'BUDAPEST_pressure', 'BUDAPEST_global_radiation', 'BUDAPEST_precipitation', 'BUDAPEST_sunshine', 'BUDAPEST_temp_mean', 'BUDAPEST_temp_max', 'DE_BILT_cloud_cover', 'DE_BILT_wind_speed', 'DE_BILT_wind_gust', 'DE_BILT_humidity', 'DE_BILT_pressure', 'DE_BILT_global_radiation', 'DE_BILT_precipitation', 'DE_BILT_sunshine', 'DE_BILT_temp_mean', 'DE_BILT_temp_min', 'DE_BILT_temp_max', 'DRESDEN_cloud_cover', 'DRESDEN_wind_speed', 'DRESDEN_wind_gust', 'DRESDEN_humidity', 'DRESDEN_global_radiation', 'DRESDEN_precipitation', 'DRESDEN_sunshine', 'DRESDEN_temp_mean', 'DRESDEN_temp_min', 'DRESDEN_temp_max', 'DUSSELDORF_cloud_cover', 'DUSSELDORF_wind_speed', 'DUSSELDORF_wind_gust', 'DUSSELDORF_humidity', 'DUSSELDORF_pressure', 'DUSSELDORF_global_radiation', 'DUSSELDORF_precipitation', 'DUSSELDORF_sunshine', 'DUSSELDORF_temp_mean', 'DUSSELDORF_temp_min', 'DUSSELDORF_temp_max', 'HEATHROW_cloud_cover', 'HEATHROW_humidity', 'HEATHROW_pressure', 'HEATHROW_global_radiation', 'HEATHROW_precipitation', 'HEATHROW_sunshine', 'HEATHROW_temp_mean', 'HEATHROW_temp_min', 'HEATHROW_temp_max', 'KASSEL_wind_speed', 'KASSEL_wind_gust', 'KASSEL_humidity', 'KASSEL_pressure', 'KASSEL_global_radiation', 'KASSEL_precipitation', 'KASSEL_sunshine', 'KASSEL_temp_mean', 'KASSEL_temp_min', 'KASSEL_temp_max', 'LJUBLJANA_cloud_cover', 'LJUBLJANA_wind_speed', 'LJUBLJANA_humidity', 'LJUBLJANA_pressure', 'LJUBLJANA_global_radiation', 'LJUBLJANA_precipitation', 'LJUBLJANA_sunshine', 'LJUBLJANA_temp_mean', 'LJUBLJANA_temp_min', 'LJUBLJANA_temp_max', 'MAASTRICHT_cloud_cover', 'MAASTRICHT_wind_speed', 'MAASTRICHT_wind_gust', 'MAASTRICHT_humidity', 'MAASTRICHT_pressure', 'MAASTRICHT_global_radiation', 'MAASTRICHT_precipitation', 'MAASTRICHT_sunshine', 'MAASTRICHT_temp_mean', 'MAASTRICHT_temp_min', 'MAASTRICHT_temp_max', 'MALMO_wind_speed', 'MALMO_precipitation', 'MALMO_temp_mean', 'MALMO_temp_min', 'MALMO_temp_max', 'MONTELIMAR_wind_speed', 'MONTELIMAR_humidity', 'MONTELIMAR_pressure', 'MONTELIMAR_global_radiation', 'MONTELIMAR_precipitation', 'MONTELIMAR_temp_mean', 'MONTELIMAR_temp_min', 'MONTELIMAR_temp_max', 'MUENCHEN_cloud_cover', 'MUENCHEN_wind_speed', 'MUENCHEN_wind_gust', 'MUENCHEN_humidity', 'MUENCHEN_pressure', 'MUENCHEN_global_radiation', 'MUENCHEN_precipitation', 'MUENCHEN_sunshine', 'MUENCHEN_temp_mean', 'MUENCHEN_temp_min', 'MUENCHEN_temp_max', 'OSLO_cloud_cover', 'OSLO_wind_speed', 'OSLO_wind_gust', 'OSLO_humidity', 'OSLO_pressure', 'OSLO_global_radiation', 'OSLO_precipitation', 'OSLO_sunshine', 'OSLO_temp_mean', 'OSLO_temp_min', 'OSLO_temp_max', 'PERPIGNAN_wind_speed', 'PERPIGNAN_humidity', 'PERPIGNAN_pressure', 'PERPIGNAN_global_radiation', 'PERPIGNAN_precipitation', 'PERPIGNAN_temp_mean', 'PERPIGNAN_temp_min', 'PERPIGNAN_temp_max', 'ROMA_cloud_cover', 'ROMA_humidity', 'ROMA_pressure', 'ROMA_global_radiation', 'ROMA_sunshine', 'ROMA_temp_mean', 'ROMA_temp_min', 'ROMA_temp_max', 'SONNBLICK_cloud_cover', 'SONNBLICK_humidity', 'SONNBLICK_global_radiation', 'SONNBLICK_precipitation', 'SONNBLICK_sunshine', 'SONNBLICK_temp_mean', 'SONNBLICK_temp_min', 'SONNBLICK_temp_max', 'STOCKHOLM_cloud_cover', 'STOCKHOLM_pressure', 'STOCKHOLM_precipitation', 'STOCKHOLM_sunshine', 'STOCKHOLM_temp_mean', 'STOCKHOLM_temp_min', 'STOCKHOLM_temp_max', 'TOURS_wind_speed', 'TOURS_humidity', 'TOURS_pressure', 'TOURS_global_radiation', 'TOURS_precipitation', 'TOURS_temp_mean', 'TOURS_temp_min', 'TOURS_temp_max']\n",
            "Training Linear Regression...\n",
            "Linear Regression: Train MSE=0.020176, Test MSE=0.019585\n",
            "Training Ridge Regression...\n",
            "Ridge Regression: Train MSE=0.020211, Test MSE=0.019653\n",
            "Training Lasso Regression...\n",
            "Lasso Regression: Train MSE=0.045238, Test MSE=0.042907\n",
            "Best model: Linear Regression with Test MSE: 0.019585087377857892\n"
          ]
        }
      ]
    },
    {
      "cell_type": "code",
      "source": [
        "df = pd.read_csv(\"weather_prediction_dataset.csv\")\n",
        "\n",
        "print(\"Dataset Columns:\", df.columns.tolist())\n",
        "\n",
        "cities = [\"BASEL\", \"BUDAPEST\", \"DRESDEN\"]\n",
        "\n",
        "all_results = {}\n",
        "\n",
        "for city in cities:\n",
        "    print(f\"\\nProcessing city: {city}\")\n",
        "\n",
        "    feature_columns = [col for col in df.columns if col.startswith(f\"{city}_\")]\n",
        "\n",
        "    if not feature_columns:\n",
        "        print(f\"Warning: No columns found for {city}. Skipping...\")\n",
        "        continue\n",
        "\n",
        "    city_df = df[['DATE'] + feature_columns].copy()\n",
        "\n",
        "    city_df['DATE'] = pd.to_datetime(city_df['DATE'])\n",
        "    city_df = city_df.sort_values(by='DATE')\n",
        "\n",
        "    city_df.fillna(city_df.mean(), inplace=True)\n",
        "\n",
        "    scaler = MinMaxScaler()\n",
        "    city_df[feature_columns] = scaler.fit_transform(city_df[feature_columns])\n",
        "\n",
        "    X = city_df[feature_columns].values[:-1]\n",
        "    y = city_df[feature_columns].values[1:]\n",
        "\n",
        "    split_idx = int(0.8 * len(X))\n",
        "    X_train, X_test = X[:split_idx], X[split_idx:]\n",
        "    y_train, y_test = y[:split_idx], y[split_idx:]\n",
        "\n",
        "    # Initialize models. if you put alpha's so low like 0.00001, the MSE's would be so close to eachother.\n",
        "    models = {\n",
        "        \"Linear Regression\": LinearRegression(),\n",
        "        \"Ridge Regression\": Ridge(alpha=0.00001),\n",
        "        \"Lasso Regression\": Lasso(alpha=0.00001)\n",
        "    }\n",
        "\n",
        "    results = {}\n",
        "    for name, model in models.items():\n",
        "        print(f\"Training {name} for {city}...\")\n",
        "        model.fit(X_train, y_train)\n",
        "        y_train_pred = model.predict(X_train)\n",
        "        y_test_pred = model.predict(X_test)\n",
        "\n",
        "        train_mse = mean_squared_error(y_train, y_train_pred)\n",
        "        test_mse = mean_squared_error(y_test, y_test_pred)\n",
        "\n",
        "        results[name] = {\n",
        "            \"Train MSE\": train_mse,\n",
        "            \"Test MSE\": test_mse\n",
        "        }\n",
        "        print(f\"{name} ({city}): Train MSE={train_mse:.6f}, Test MSE={test_mse:.6f}\")\n",
        "\n",
        "    all_results[city] = results\n",
        "\n",
        "for city, results in all_results.items():\n",
        "    best_model = min(results, key=lambda x: results[x][\"Test MSE\"])\n",
        "    print(f\"\\nBest model for {city}: {best_model} with Test MSE: {results[best_model]['Test MSE']:.6f}\")\n",
        "\n"
      ],
      "metadata": {
        "colab": {
          "base_uri": "https://localhost:8080/"
        },
        "id": "U6nLEMK6rexK",
        "outputId": "3768a8ee-271d-47bb-d6d9-c49b21f2ef0e"
      },
      "execution_count": null,
      "outputs": [
        {
          "output_type": "stream",
          "name": "stdout",
          "text": [
            "Dataset Columns: ['DATE', 'MONTH', 'BASEL_cloud_cover', 'BASEL_humidity', 'BASEL_pressure', 'BASEL_global_radiation', 'BASEL_precipitation', 'BASEL_sunshine', 'BASEL_temp_mean', 'BASEL_temp_min', 'BASEL_temp_max', 'BUDAPEST_cloud_cover', 'BUDAPEST_humidity', 'BUDAPEST_pressure', 'BUDAPEST_global_radiation', 'BUDAPEST_precipitation', 'BUDAPEST_sunshine', 'BUDAPEST_temp_mean', 'BUDAPEST_temp_max', 'DE_BILT_cloud_cover', 'DE_BILT_wind_speed', 'DE_BILT_wind_gust', 'DE_BILT_humidity', 'DE_BILT_pressure', 'DE_BILT_global_radiation', 'DE_BILT_precipitation', 'DE_BILT_sunshine', 'DE_BILT_temp_mean', 'DE_BILT_temp_min', 'DE_BILT_temp_max', 'DRESDEN_cloud_cover', 'DRESDEN_wind_speed', 'DRESDEN_wind_gust', 'DRESDEN_humidity', 'DRESDEN_global_radiation', 'DRESDEN_precipitation', 'DRESDEN_sunshine', 'DRESDEN_temp_mean', 'DRESDEN_temp_min', 'DRESDEN_temp_max', 'DUSSELDORF_cloud_cover', 'DUSSELDORF_wind_speed', 'DUSSELDORF_wind_gust', 'DUSSELDORF_humidity', 'DUSSELDORF_pressure', 'DUSSELDORF_global_radiation', 'DUSSELDORF_precipitation', 'DUSSELDORF_sunshine', 'DUSSELDORF_temp_mean', 'DUSSELDORF_temp_min', 'DUSSELDORF_temp_max', 'HEATHROW_cloud_cover', 'HEATHROW_humidity', 'HEATHROW_pressure', 'HEATHROW_global_radiation', 'HEATHROW_precipitation', 'HEATHROW_sunshine', 'HEATHROW_temp_mean', 'HEATHROW_temp_min', 'HEATHROW_temp_max', 'KASSEL_wind_speed', 'KASSEL_wind_gust', 'KASSEL_humidity', 'KASSEL_pressure', 'KASSEL_global_radiation', 'KASSEL_precipitation', 'KASSEL_sunshine', 'KASSEL_temp_mean', 'KASSEL_temp_min', 'KASSEL_temp_max', 'LJUBLJANA_cloud_cover', 'LJUBLJANA_wind_speed', 'LJUBLJANA_humidity', 'LJUBLJANA_pressure', 'LJUBLJANA_global_radiation', 'LJUBLJANA_precipitation', 'LJUBLJANA_sunshine', 'LJUBLJANA_temp_mean', 'LJUBLJANA_temp_min', 'LJUBLJANA_temp_max', 'MAASTRICHT_cloud_cover', 'MAASTRICHT_wind_speed', 'MAASTRICHT_wind_gust', 'MAASTRICHT_humidity', 'MAASTRICHT_pressure', 'MAASTRICHT_global_radiation', 'MAASTRICHT_precipitation', 'MAASTRICHT_sunshine', 'MAASTRICHT_temp_mean', 'MAASTRICHT_temp_min', 'MAASTRICHT_temp_max', 'MALMO_wind_speed', 'MALMO_precipitation', 'MALMO_temp_mean', 'MALMO_temp_min', 'MALMO_temp_max', 'MONTELIMAR_wind_speed', 'MONTELIMAR_humidity', 'MONTELIMAR_pressure', 'MONTELIMAR_global_radiation', 'MONTELIMAR_precipitation', 'MONTELIMAR_temp_mean', 'MONTELIMAR_temp_min', 'MONTELIMAR_temp_max', 'MUENCHEN_cloud_cover', 'MUENCHEN_wind_speed', 'MUENCHEN_wind_gust', 'MUENCHEN_humidity', 'MUENCHEN_pressure', 'MUENCHEN_global_radiation', 'MUENCHEN_precipitation', 'MUENCHEN_sunshine', 'MUENCHEN_temp_mean', 'MUENCHEN_temp_min', 'MUENCHEN_temp_max', 'OSLO_cloud_cover', 'OSLO_wind_speed', 'OSLO_wind_gust', 'OSLO_humidity', 'OSLO_pressure', 'OSLO_global_radiation', 'OSLO_precipitation', 'OSLO_sunshine', 'OSLO_temp_mean', 'OSLO_temp_min', 'OSLO_temp_max', 'PERPIGNAN_wind_speed', 'PERPIGNAN_humidity', 'PERPIGNAN_pressure', 'PERPIGNAN_global_radiation', 'PERPIGNAN_precipitation', 'PERPIGNAN_temp_mean', 'PERPIGNAN_temp_min', 'PERPIGNAN_temp_max', 'ROMA_cloud_cover', 'ROMA_humidity', 'ROMA_pressure', 'ROMA_global_radiation', 'ROMA_sunshine', 'ROMA_temp_mean', 'ROMA_temp_min', 'ROMA_temp_max', 'SONNBLICK_cloud_cover', 'SONNBLICK_humidity', 'SONNBLICK_global_radiation', 'SONNBLICK_precipitation', 'SONNBLICK_sunshine', 'SONNBLICK_temp_mean', 'SONNBLICK_temp_min', 'SONNBLICK_temp_max', 'STOCKHOLM_cloud_cover', 'STOCKHOLM_pressure', 'STOCKHOLM_precipitation', 'STOCKHOLM_sunshine', 'STOCKHOLM_temp_mean', 'STOCKHOLM_temp_min', 'STOCKHOLM_temp_max', 'TOURS_wind_speed', 'TOURS_humidity', 'TOURS_pressure', 'TOURS_global_radiation', 'TOURS_precipitation', 'TOURS_temp_mean', 'TOURS_temp_min', 'TOURS_temp_max']\n",
            "\n",
            "Processing city: BASEL\n",
            "Training Linear Regression for BASEL...\n",
            "Linear Regression (BASEL): Train MSE=0.020176, Test MSE=0.019585\n",
            "Training Ridge Regression for BASEL...\n",
            "Ridge Regression (BASEL): Train MSE=0.020176, Test MSE=0.019585\n",
            "Training Lasso Regression for BASEL...\n",
            "Lasso Regression (BASEL): Train MSE=0.020177, Test MSE=0.019593\n",
            "\n",
            "Processing city: BUDAPEST\n",
            "Training Linear Regression for BUDAPEST...\n",
            "Linear Regression (BUDAPEST): Train MSE=0.021634, Test MSE=0.019507\n",
            "Training Ridge Regression for BUDAPEST...\n",
            "Ridge Regression (BUDAPEST): Train MSE=0.021634, Test MSE=0.019507\n",
            "Training Lasso Regression for BUDAPEST...\n",
            "Lasso Regression (BUDAPEST): Train MSE=0.021635, Test MSE=0.019506\n",
            "\n",
            "Processing city: DRESDEN\n",
            "Training Linear Regression for DRESDEN...\n",
            "Linear Regression (DRESDEN): Train MSE=0.017113, Test MSE=0.016652\n",
            "Training Ridge Regression for DRESDEN...\n",
            "Ridge Regression (DRESDEN): Train MSE=0.017113, Test MSE=0.016652\n",
            "Training Lasso Regression for DRESDEN...\n",
            "Lasso Regression (DRESDEN): Train MSE=0.017114, Test MSE=0.016653\n",
            "\n",
            "Best model for BASEL: Linear Regression with Test MSE: 0.019585\n",
            "\n",
            "Best model for BUDAPEST: Lasso Regression with Test MSE: 0.019506\n",
            "\n",
            "Best model for DRESDEN: Ridge Regression with Test MSE: 0.016652\n"
          ]
        }
      ]
    },
    {
      "cell_type": "code",
      "source": [
        "# 3 other cities\n",
        "\n",
        "df = pd.read_csv(\"weather_prediction_dataset.csv\")\n",
        "\n",
        "selected_cities = [\"MAASTRICHT\", \"MUENCHEN\", \"TOURS\"]\n",
        "selected_features = [\"pressure\", \"humidity\", \"precipitation\"]\n",
        "feature_columns = [f\"{city}_{feature}\" for city in selected_cities for feature in selected_features]\n",
        "\n",
        "for col in feature_columns:\n",
        "    if col not in df.columns:\n",
        "        raise ValueError(f\"Missing column: {col}\")\n",
        "\n",
        "df = df[['DATE'] + feature_columns].copy()\n",
        "\n",
        "df['DATE'] = pd.to_datetime(df['DATE'], format='%Y%m%d')\n",
        "df = df.sort_values(by='DATE')\n",
        "\n",
        "df.fillna(df.mean(), inplace=True)\n",
        "\n",
        "scaler = MinMaxScaler()\n",
        "df[feature_columns] = scaler.fit_transform(df[feature_columns])\n",
        "\n",
        "city = \"MUENCHEN\"\n",
        "city_features = [f\"{city}_{feature}\" for feature in selected_features]\n",
        "\n",
        "X = df[city_features].values[:-1]\n",
        "y = df[city_features].values[1:]\n",
        "\n",
        "split_idx = int(0.8 * len(X))\n",
        "X_train, X_test = X[:split_idx], X[split_idx:]\n",
        "y_train, y_test = y[:split_idx], y[split_idx:]\n",
        "\n",
        "models = {\n",
        "    \"Linear Regression\": LinearRegression(),\n",
        "    \"Ridge Regression\": Ridge(alpha=1),\n",
        "    \"Lasso Regression\": Lasso(alpha=0.1)\n",
        "}\n",
        "\n",
        "results = {}\n",
        "for name, model in models.items():\n",
        "    print(f\"Training {name} for {city}...\")\n",
        "    model.fit(X_train, y_train)\n",
        "    y_train_pred = model.predict(X_train)\n",
        "    y_test_pred = model.predict(X_test)\n",
        "\n",
        "    train_mse = mean_squared_error(y_train, y_train_pred)\n",
        "    test_mse = mean_squared_error(y_test, y_test_pred)\n",
        "\n",
        "    results[name] = {\n",
        "        \"Train MSE\": train_mse,\n",
        "        \"Test MSE\": test_mse\n",
        "    }\n",
        "    print(f\"{name}: Train MSE={train_mse:.6f}, Test MSE={test_mse:.6f}\")\n",
        "\n",
        "best_model = min(results, key=lambda x: results[x][\"Test MSE\"])\n",
        "print(f\"\\nBest model for {city}: {best_model} with Test MSE: {results[best_model]['Test MSE']:.6f}\")\n"
      ],
      "metadata": {
        "colab": {
          "base_uri": "https://localhost:8080/"
        },
        "id": "IkvypMNYHx-Y",
        "outputId": "4108082d-feba-4ebe-bc3f-224db6edc8e0"
      },
      "execution_count": null,
      "outputs": [
        {
          "output_type": "stream",
          "name": "stdout",
          "text": [
            "Training Linear Regression for MUENCHEN...\n",
            "Linear Regression: Train MSE=0.008241, Test MSE=0.007345\n",
            "Training Ridge Regression for MUENCHEN...\n",
            "Ridge Regression: Train MSE=0.008243, Test MSE=0.007352\n",
            "Training Lasso Regression for MUENCHEN...\n",
            "Lasso Regression: Train MSE=0.017098, Test MSE=0.015215\n",
            "\n",
            "Best model for MUENCHEN: Linear Regression with Test MSE: 0.007345\n"
          ]
        }
      ]
    }
  ]
}